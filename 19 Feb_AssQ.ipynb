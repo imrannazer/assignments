{
 "cells": [
  {
   "cell_type": "markdown",
   "id": "e63f3284",
   "metadata": {},
   "source": [
    "#### Q1. What is Flask Framework? What are the advantages of Flask Framework?\n"
   ]
  },
  {
   "cell_type": "markdown",
   "id": "1f5360d8",
   "metadata": {},
   "source": [
    "Ans:            \n",
    "\n",
    "Flask is a lightweight and flexible web framework for building web applications using the Python programming language."
   ]
  },
  {
   "cell_type": "markdown",
   "id": "fdd43182",
   "metadata": {},
   "source": [
    "- Active Community : It has large community to solve your problems\n",
    "- It is good for Small to Medium-sized Applications \n",
    "- It can be Integrated with Python Libraries\n",
    "- Flask provide built-in Development Server\n",
    "- Flask easy to Learn and understand any new developer also\n",
    "- It is Lightweight and Flexible web frameword"
   ]
  },
  {
   "cell_type": "markdown",
   "id": "9f61a679",
   "metadata": {},
   "source": [
    "#### Q2. Create a simple Flask application to display 'Hello World!!'. Attach the screenshot of the output in Jupyter Notebook.\n"
   ]
  },
  {
   "cell_type": "markdown",
   "id": "7d0932e2",
   "metadata": {},
   "source": [
    "#### Q3. What is App routing in Flask? Why do we use app routes?\n"
   ]
  },
  {
   "cell_type": "markdown",
   "id": "85b598c9",
   "metadata": {},
   "source": [
    "- App routing define an URL and access the function on this router\n",
    "We are using app routes to define out url and access his funcions             \n",
    "@app.router(\"/design_URL\")               \n",
    "def yourfunction():            \n",
    "    pass"
   ]
  },
  {
   "cell_type": "markdown",
   "id": "62ec1992",
   "metadata": {},
   "source": [
    "#### Q4. Create a \"/welcome\" route to display the welcome message \"Welcome to ABC Corporation\" and a \"/\" route to show the following details:\n",
    "- Company Name: ABC Corporation   \n",
    "- Location: India\n",
    "- Contact Detail: 999-999-9999\n",
    "\n",
    "##### Attach the screenshot of the output in Jupyter Notebook.\n"
   ]
  },
  {
   "cell_type": "code",
   "execution_count": null,
   "id": "eddcdf54",
   "metadata": {},
   "outputs": [],
   "source": [
    "from flask import Flask, url_for\n",
    "\n",
    "app = Flask(__name__)\n",
    "\n",
    "@app.route(\"/\")\n",
    "def hello_world():\n",
    "    company = 'ABC'\n",
    "    url = url_for(\"hello_world\")\n",
    "    return f\"<h1>Welcome to {company} Corporation</h1><br> Current page url is {url}\"\n",
    "\n",
    "\n",
    "@app.route(\"/welcome\")\n",
    "def hello_world1():\n",
    "    company = 'ABC'\n",
    "    return f\"<h1>Company Name: {company} Corporation, <br> Location: India,<br>Contact Detail: 999-999-9999</h1>\"\n",
    "if __name__==\"__main__\":\n",
    "    app.run(host=\"0.0.0.0\")"
   ]
  },
  {
   "cell_type": "markdown",
   "id": "940dae62",
   "metadata": {},
   "source": [
    "![Screen_Short](https://i.ibb.co/LQcHk6n/FLASK-output.png)"
   ]
  },
  {
   "cell_type": "markdown",
   "id": "c9b3f22f",
   "metadata": {},
   "source": [
    "#### Q5. What function is used in Flask for URL Building? Write a Python code to demonstrate the working of the url_for() function."
   ]
  },
  {
   "cell_type": "code",
   "execution_count": null,
   "id": "c9bdb4c7",
   "metadata": {},
   "outputs": [],
   "source": [
    "from flask import Flask, url_for\n",
    "\n",
    "app = Flask(__name__)\n",
    "\n",
    "@app.route(\"/\")\n",
    "def hello_world():\n",
    "    company = 'ABC'\n",
    "    url = url_for(\"hello_world\")\n",
    "    return f\"<h1>Welcome to {company} Corporation</h1><br> Current page url is {url}\"\n",
    "\n",
    "@app.route(\"/login\")\n",
    "def login():\n",
    "    url = url_for(\"login\")\n",
    "    return f\"<h1>Welcome to Corporation</h1><br> Current page url is {url}\"\n",
    "\n",
    "if __name__==\"__main__\":\n",
    "    app.run(host=\"0.0.0.0\")"
   ]
  }
 ],
 "metadata": {
  "kernelspec": {
   "display_name": "Python 3 (ipykernel)",
   "language": "python",
   "name": "python3"
  },
  "language_info": {
   "codemirror_mode": {
    "name": "ipython",
    "version": 3
   },
   "file_extension": ".py",
   "mimetype": "text/x-python",
   "name": "python",
   "nbconvert_exporter": "python",
   "pygments_lexer": "ipython3",
   "version": "3.7.1"
  }
 },
 "nbformat": 4,
 "nbformat_minor": 5
}
