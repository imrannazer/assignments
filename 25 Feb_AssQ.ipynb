{
 "cells": [
  {
   "cell_type": "markdown",
   "id": "a5101ce3",
   "metadata": {},
   "source": [
    "Consider following code to answer further questions:"
   ]
  },
  {
   "cell_type": "code",
   "execution_count": 1,
   "id": "7c5c01e3",
   "metadata": {},
   "outputs": [
    {
     "data": {
      "text/html": [
       "<div>\n",
       "<style scoped>\n",
       "    .dataframe tbody tr th:only-of-type {\n",
       "        vertical-align: middle;\n",
       "    }\n",
       "\n",
       "    .dataframe tbody tr th {\n",
       "        vertical-align: top;\n",
       "    }\n",
       "\n",
       "    .dataframe thead th {\n",
       "        text-align: right;\n",
       "    }\n",
       "</style>\n",
       "<table border=\"1\" class=\"dataframe\">\n",
       "  <thead>\n",
       "    <tr style=\"text-align: right;\">\n",
       "      <th></th>\n",
       "      <th>course_name</th>\n",
       "      <th>duration</th>\n",
       "    </tr>\n",
       "  </thead>\n",
       "  <tbody>\n",
       "    <tr>\n",
       "      <th>0</th>\n",
       "      <td>Data Science</td>\n",
       "      <td>2</td>\n",
       "    </tr>\n",
       "    <tr>\n",
       "      <th>1</th>\n",
       "      <td>Machine Learning</td>\n",
       "      <td>3</td>\n",
       "    </tr>\n",
       "    <tr>\n",
       "      <th>2</th>\n",
       "      <td>Big Data</td>\n",
       "      <td>6</td>\n",
       "    </tr>\n",
       "    <tr>\n",
       "      <th>3</th>\n",
       "      <td>Data Engineer</td>\n",
       "      <td>4</td>\n",
       "    </tr>\n",
       "  </tbody>\n",
       "</table>\n",
       "</div>"
      ],
      "text/plain": [
       "        course_name  duration\n",
       "0      Data Science         2\n",
       "1  Machine Learning         3\n",
       "2          Big Data         6\n",
       "3     Data Engineer         4"
      ]
     },
     "execution_count": 1,
     "metadata": {},
     "output_type": "execute_result"
    }
   ],
   "source": [
    "import pandas as pd\n",
    "course_name = ['Data Science', 'Machine Learning', 'Big Data', 'Data Engineer'] \n",
    "duration = [2,3,6,4]\n",
    "df = pd.DataFrame(data = {'course_name': course_name, 'duration': duration})\n",
    "df"
   ]
  },
  {
   "cell_type": "markdown",
   "id": "2fda7320",
   "metadata": {},
   "source": [
    "#### Q1. Write a code to print the data present in the second row of the dataframe, df."
   ]
  },
  {
   "cell_type": "code",
   "execution_count": 2,
   "id": "4866f6f8",
   "metadata": {},
   "outputs": [
    {
     "data": {
      "text/plain": [
       "course_name    Machine Learning\n",
       "duration                      3\n",
       "Name: 1, dtype: object"
      ]
     },
     "execution_count": 2,
     "metadata": {},
     "output_type": "execute_result"
    }
   ],
   "source": [
    "df.loc[1]"
   ]
  },
  {
   "cell_type": "code",
   "execution_count": null,
   "id": "df48feb7",
   "metadata": {},
   "outputs": [],
   "source": []
  },
  {
   "cell_type": "markdown",
   "id": "e5e3febd",
   "metadata": {},
   "source": [
    "#### Q2. What is the difference between the functions loc and iloc in pandas.DataFrame?"
   ]
  },
  {
   "cell_type": "markdown",
   "id": "d2c73db7",
   "metadata": {},
   "source": [
    "**loc()** and **iloc()** both are used in slicing data from the Pandas <u>**DataFrame**</u>. They help in the convenient selection of data from the DataFrame in Python. They are used in filtering the data according to some conditions. "
   ]
  },
  {
   "cell_type": "markdown",
   "id": "190a0e14",
   "metadata": {},
   "source": [
    "**Note** : a label refers to a specific name or identifier that is associated with a row or column in a DataFrame or Series."
   ]
  },
  {
   "cell_type": "markdown",
   "id": "2e598e51",
   "metadata": {},
   "source": [
    "**loc** is used to select rows and columns in dataframe based on their labels, \n"
   ]
  },
  {
   "cell_type": "code",
   "execution_count": 3,
   "id": "1b62ce9e",
   "metadata": {},
   "outputs": [
    {
     "data": {
      "text/plain": [
       "1    3\n",
       "2    6\n",
       "3    4\n",
       "Name: duration, dtype: int64"
      ]
     },
     "execution_count": 3,
     "metadata": {},
     "output_type": "execute_result"
    }
   ],
   "source": [
    "df.loc[1:3,'duration']                         # access row by using column name and row indexing"
   ]
  },
  {
   "cell_type": "markdown",
   "id": "67dfceeb",
   "metadata": {},
   "source": [
    "**iloc** is used to select rows and columns based on their integer position."
   ]
  },
  {
   "cell_type": "code",
   "execution_count": 4,
   "id": "5bd701c3",
   "metadata": {},
   "outputs": [
    {
     "data": {
      "text/plain": [
       "1    Machine Learning\n",
       "2            Big Data\n",
       "Name: course_name, dtype: object"
      ]
     },
     "execution_count": 4,
     "metadata": {},
     "output_type": "execute_result"
    }
   ],
   "source": [
    "df.iloc[1:3,0]                              # accessing first column by using row integer and column in integer also"
   ]
  },
  {
   "cell_type": "code",
   "execution_count": null,
   "id": "6944da9b",
   "metadata": {},
   "outputs": [],
   "source": []
  },
  {
   "cell_type": "markdown",
   "id": "c2f8ff83",
   "metadata": {},
   "source": [
    "#### Q3. Reindex the given dataframe using a variable, reindex = [3,0,1,2] and store it in the variable, new_df then find the output for both new_df.loc[2] and new_df.iloc[2].\n",
    "**Did you observe any difference in both the outputs? If so then explain it.          \n",
    "Consider the below code to answer further questions:**\n"
   ]
  },
  {
   "cell_type": "code",
   "execution_count": 5,
   "id": "df7d3166",
   "metadata": {
    "scrolled": true
   },
   "outputs": [
    {
     "data": {
      "text/html": [
       "<div>\n",
       "<style scoped>\n",
       "    .dataframe tbody tr th:only-of-type {\n",
       "        vertical-align: middle;\n",
       "    }\n",
       "\n",
       "    .dataframe tbody tr th {\n",
       "        vertical-align: top;\n",
       "    }\n",
       "\n",
       "    .dataframe thead th {\n",
       "        text-align: right;\n",
       "    }\n",
       "</style>\n",
       "<table border=\"1\" class=\"dataframe\">\n",
       "  <thead>\n",
       "    <tr style=\"text-align: right;\">\n",
       "      <th></th>\n",
       "      <th>column_1</th>\n",
       "      <th>column_2</th>\n",
       "      <th>column_3</th>\n",
       "      <th>column_4</th>\n",
       "      <th>column_5</th>\n",
       "      <th>column_6</th>\n",
       "    </tr>\n",
       "  </thead>\n",
       "  <tbody>\n",
       "    <tr>\n",
       "      <th>1</th>\n",
       "      <td>0.075905</td>\n",
       "      <td>0.267186</td>\n",
       "      <td>0.520588</td>\n",
       "      <td>0.267742</td>\n",
       "      <td>0.868496</td>\n",
       "      <td>0.777905</td>\n",
       "    </tr>\n",
       "    <tr>\n",
       "      <th>2</th>\n",
       "      <td>0.107409</td>\n",
       "      <td>0.167022</td>\n",
       "      <td>0.215868</td>\n",
       "      <td>0.665453</td>\n",
       "      <td>0.169291</td>\n",
       "      <td>0.426636</td>\n",
       "    </tr>\n",
       "    <tr>\n",
       "      <th>3</th>\n",
       "      <td>0.797206</td>\n",
       "      <td>0.159356</td>\n",
       "      <td>0.184679</td>\n",
       "      <td>0.449160</td>\n",
       "      <td>0.519065</td>\n",
       "      <td>0.022503</td>\n",
       "    </tr>\n",
       "    <tr>\n",
       "      <th>4</th>\n",
       "      <td>0.782519</td>\n",
       "      <td>0.614411</td>\n",
       "      <td>0.982193</td>\n",
       "      <td>0.380405</td>\n",
       "      <td>0.945906</td>\n",
       "      <td>0.714070</td>\n",
       "    </tr>\n",
       "    <tr>\n",
       "      <th>5</th>\n",
       "      <td>0.865622</td>\n",
       "      <td>0.106721</td>\n",
       "      <td>0.320558</td>\n",
       "      <td>0.832533</td>\n",
       "      <td>0.000251</td>\n",
       "      <td>0.994644</td>\n",
       "    </tr>\n",
       "    <tr>\n",
       "      <th>6</th>\n",
       "      <td>0.908503</td>\n",
       "      <td>0.290312</td>\n",
       "      <td>0.137405</td>\n",
       "      <td>0.291017</td>\n",
       "      <td>0.624371</td>\n",
       "      <td>0.024604</td>\n",
       "    </tr>\n",
       "  </tbody>\n",
       "</table>\n",
       "</div>"
      ],
      "text/plain": [
       "   column_1  column_2  column_3  column_4  column_5  column_6\n",
       "1  0.075905  0.267186  0.520588  0.267742  0.868496  0.777905\n",
       "2  0.107409  0.167022  0.215868  0.665453  0.169291  0.426636\n",
       "3  0.797206  0.159356  0.184679  0.449160  0.519065  0.022503\n",
       "4  0.782519  0.614411  0.982193  0.380405  0.945906  0.714070\n",
       "5  0.865622  0.106721  0.320558  0.832533  0.000251  0.994644\n",
       "6  0.908503  0.290312  0.137405  0.291017  0.624371  0.024604"
      ]
     },
     "execution_count": 5,
     "metadata": {},
     "output_type": "execute_result"
    }
   ],
   "source": [
    "import pandas as pd\n",
    "import numpy as np\n",
    "columns = ['column_1', 'column_2', 'column_3', 'column_4', 'column_5', 'column_6'] \n",
    "indices = [1,2,3,4,5,6]\n",
    "# Creating a dataframe:\n",
    "df1 = pd.DataFrame(np.random.rand(6,6), columns = columns, index = indices)\n",
    "df1"
   ]
  },
  {
   "cell_type": "code",
   "execution_count": 6,
   "id": "74573735",
   "metadata": {},
   "outputs": [],
   "source": [
    "new_df = df1.reindex([3,0,1,2])"
   ]
  },
  {
   "cell_type": "code",
   "execution_count": 7,
   "id": "4dfe2fd0",
   "metadata": {},
   "outputs": [
    {
     "data": {
      "text/plain": [
       "column_1    0.107409\n",
       "column_2    0.167022\n",
       "column_3    0.215868\n",
       "column_4    0.665453\n",
       "column_5    0.169291\n",
       "column_6    0.426636\n",
       "Name: 2, dtype: float64"
      ]
     },
     "execution_count": 7,
     "metadata": {},
     "output_type": "execute_result"
    }
   ],
   "source": [
    "new_df.loc[2]"
   ]
  },
  {
   "cell_type": "code",
   "execution_count": 8,
   "id": "194360ef",
   "metadata": {},
   "outputs": [
    {
     "data": {
      "text/plain": [
       "column_1    0.075905\n",
       "column_2    0.267186\n",
       "column_3    0.520588\n",
       "column_4    0.267742\n",
       "column_5    0.868496\n",
       "column_6    0.777905\n",
       "Name: 1, dtype: float64"
      ]
     },
     "execution_count": 8,
     "metadata": {},
     "output_type": "execute_result"
    }
   ],
   "source": [
    "new_df.iloc[2]"
   ]
  },
  {
   "cell_type": "markdown",
   "id": "f757a96c",
   "metadata": {},
   "source": [
    "#### Q4. Write a code to find the following statistical measurements for the above dataframe dfl:\n",
    "**(i) mean of each and every column present in the dataframe.**           \n"
   ]
  },
  {
   "cell_type": "code",
   "execution_count": 9,
   "id": "1c543149",
   "metadata": {},
   "outputs": [
    {
     "data": {
      "text/plain": [
       "column_1    0.589527\n",
       "column_2    0.267501\n",
       "column_3    0.393549\n",
       "column_4    0.481052\n",
       "column_5    0.521230\n",
       "column_6    0.493394\n",
       "dtype: float64"
      ]
     },
     "execution_count": 9,
     "metadata": {},
     "output_type": "execute_result"
    }
   ],
   "source": [
    "df1.mean()"
   ]
  },
  {
   "cell_type": "markdown",
   "id": "001cb99b",
   "metadata": {},
   "source": [
    "**(ii) standard deviation of column, 'column_2'**"
   ]
  },
  {
   "cell_type": "code",
   "execution_count": 10,
   "id": "ab95a195",
   "metadata": {},
   "outputs": [
    {
     "data": {
      "text/plain": [
       "<bound method NDFrame._add_numeric_operations.<locals>.std of 1    0.267186\n",
       "2    0.167022\n",
       "3    0.159356\n",
       "4    0.614411\n",
       "5    0.106721\n",
       "6    0.290312\n",
       "Name: column_2, dtype: float64>"
      ]
     },
     "execution_count": 10,
     "metadata": {},
     "output_type": "execute_result"
    }
   ],
   "source": [
    "df1['column_2'].std         "
   ]
  },
  {
   "cell_type": "code",
   "execution_count": null,
   "id": "ddde6cb2",
   "metadata": {},
   "outputs": [],
   "source": []
  },
  {
   "cell_type": "markdown",
   "id": "9a9b8124",
   "metadata": {},
   "source": [
    "#### Q5. Replace the data present in the second row of column, 'column_2' by a string variable then find the mean of column, column_2.\n",
    "**If you are getting errors in executing it then explain why.       \n",
    "[Hint: To replace the data use dfl.loc[] and equate this to string data of your choice.]**"
   ]
  },
  {
   "cell_type": "code",
   "execution_count": 11,
   "id": "ba86574b",
   "metadata": {},
   "outputs": [
    {
     "data": {
      "text/html": [
       "<div>\n",
       "<style scoped>\n",
       "    .dataframe tbody tr th:only-of-type {\n",
       "        vertical-align: middle;\n",
       "    }\n",
       "\n",
       "    .dataframe tbody tr th {\n",
       "        vertical-align: top;\n",
       "    }\n",
       "\n",
       "    .dataframe thead th {\n",
       "        text-align: right;\n",
       "    }\n",
       "</style>\n",
       "<table border=\"1\" class=\"dataframe\">\n",
       "  <thead>\n",
       "    <tr style=\"text-align: right;\">\n",
       "      <th></th>\n",
       "      <th>column_1</th>\n",
       "      <th>column_2</th>\n",
       "      <th>column_3</th>\n",
       "      <th>column_4</th>\n",
       "      <th>column_5</th>\n",
       "      <th>column_6</th>\n",
       "    </tr>\n",
       "  </thead>\n",
       "  <tbody>\n",
       "    <tr>\n",
       "      <th>1</th>\n",
       "      <td>0.075905</td>\n",
       "      <td>0.267186</td>\n",
       "      <td>0.520588</td>\n",
       "      <td>0.267742</td>\n",
       "      <td>0.868496</td>\n",
       "      <td>0.777905</td>\n",
       "    </tr>\n",
       "    <tr>\n",
       "      <th>2</th>\n",
       "      <td>0.107409</td>\n",
       "      <td>0.167022</td>\n",
       "      <td>0.215868</td>\n",
       "      <td>0.665453</td>\n",
       "      <td>0.169291</td>\n",
       "      <td>0.426636</td>\n",
       "    </tr>\n",
       "    <tr>\n",
       "      <th>3</th>\n",
       "      <td>0.797206</td>\n",
       "      <td>0.159356</td>\n",
       "      <td>0.184679</td>\n",
       "      <td>0.449160</td>\n",
       "      <td>0.519065</td>\n",
       "      <td>0.022503</td>\n",
       "    </tr>\n",
       "    <tr>\n",
       "      <th>4</th>\n",
       "      <td>0.782519</td>\n",
       "      <td>0.614411</td>\n",
       "      <td>0.982193</td>\n",
       "      <td>0.380405</td>\n",
       "      <td>0.945906</td>\n",
       "      <td>0.714070</td>\n",
       "    </tr>\n",
       "    <tr>\n",
       "      <th>5</th>\n",
       "      <td>0.865622</td>\n",
       "      <td>0.106721</td>\n",
       "      <td>0.320558</td>\n",
       "      <td>0.832533</td>\n",
       "      <td>0.000251</td>\n",
       "      <td>0.994644</td>\n",
       "    </tr>\n",
       "    <tr>\n",
       "      <th>6</th>\n",
       "      <td>0.908503</td>\n",
       "      <td>0.290312</td>\n",
       "      <td>0.137405</td>\n",
       "      <td>0.291017</td>\n",
       "      <td>0.624371</td>\n",
       "      <td>0.024604</td>\n",
       "    </tr>\n",
       "  </tbody>\n",
       "</table>\n",
       "</div>"
      ],
      "text/plain": [
       "   column_1  column_2  column_3  column_4  column_5  column_6\n",
       "1  0.075905  0.267186  0.520588  0.267742  0.868496  0.777905\n",
       "2  0.107409  0.167022  0.215868  0.665453  0.169291  0.426636\n",
       "3  0.797206  0.159356  0.184679  0.449160  0.519065  0.022503\n",
       "4  0.782519  0.614411  0.982193  0.380405  0.945906  0.714070\n",
       "5  0.865622  0.106721  0.320558  0.832533  0.000251  0.994644\n",
       "6  0.908503  0.290312  0.137405  0.291017  0.624371  0.024604"
      ]
     },
     "execution_count": 11,
     "metadata": {},
     "output_type": "execute_result"
    }
   ],
   "source": [
    "df1"
   ]
  },
  {
   "cell_type": "code",
   "execution_count": 12,
   "id": "1ffda1ca",
   "metadata": {},
   "outputs": [],
   "source": [
    "df1.loc[2,'column_2'] = 'Nazer'"
   ]
  },
  {
   "cell_type": "code",
   "execution_count": 13,
   "id": "600107b8",
   "metadata": {},
   "outputs": [
    {
     "name": "stdout",
     "output_type": "stream",
     "text": [
      "This is :  unsupported operand type(s) for +: 'float' and 'str'\n"
     ]
    }
   ],
   "source": [
    "try:\n",
    "    df1['column_2'].mean()\n",
    "except TypeError as e:\n",
    "    print(f'This is : ',e)"
   ]
  },
  {
   "cell_type": "markdown",
   "id": "dd23cd8f",
   "metadata": {},
   "source": [
    "We got TypeError due to use string on place of float or int"
   ]
  },
  {
   "cell_type": "markdown",
   "id": "89c0c3d8",
   "metadata": {},
   "source": [
    "#### Q6. What do you understand about the windows function in pandas and list the types of windows functions?"
   ]
  },
  {
   "cell_type": "markdown",
   "id": "07bff8ee",
   "metadata": {},
   "source": [
    "**windows function** work inside a rolling() function as a parameter, rolling means roll it self. If you provide windows = 1 no any changing will be happend. "
   ]
  },
  {
   "cell_type": "code",
   "execution_count": 14,
   "id": "f0c646c8",
   "metadata": {},
   "outputs": [
    {
     "data": {
      "text/html": [
       "<div>\n",
       "<style scoped>\n",
       "    .dataframe tbody tr th:only-of-type {\n",
       "        vertical-align: middle;\n",
       "    }\n",
       "\n",
       "    .dataframe tbody tr th {\n",
       "        vertical-align: top;\n",
       "    }\n",
       "\n",
       "    .dataframe thead th {\n",
       "        text-align: right;\n",
       "    }\n",
       "</style>\n",
       "<table border=\"1\" class=\"dataframe\">\n",
       "  <thead>\n",
       "    <tr style=\"text-align: right;\">\n",
       "      <th></th>\n",
       "      <th>column_1</th>\n",
       "      <th>column_2</th>\n",
       "      <th>column_3</th>\n",
       "      <th>column_4</th>\n",
       "      <th>column_5</th>\n",
       "      <th>column_6</th>\n",
       "    </tr>\n",
       "  </thead>\n",
       "  <tbody>\n",
       "    <tr>\n",
       "      <th>1</th>\n",
       "      <td>0.075905</td>\n",
       "      <td>0.267186</td>\n",
       "      <td>0.520588</td>\n",
       "      <td>0.267742</td>\n",
       "      <td>0.868496</td>\n",
       "      <td>0.777905</td>\n",
       "    </tr>\n",
       "    <tr>\n",
       "      <th>2</th>\n",
       "      <td>0.107409</td>\n",
       "      <td>Nazer</td>\n",
       "      <td>0.215868</td>\n",
       "      <td>0.665453</td>\n",
       "      <td>0.169291</td>\n",
       "      <td>0.426636</td>\n",
       "    </tr>\n",
       "    <tr>\n",
       "      <th>3</th>\n",
       "      <td>0.797206</td>\n",
       "      <td>0.159356</td>\n",
       "      <td>0.184679</td>\n",
       "      <td>0.449160</td>\n",
       "      <td>0.519065</td>\n",
       "      <td>0.022503</td>\n",
       "    </tr>\n",
       "    <tr>\n",
       "      <th>4</th>\n",
       "      <td>0.782519</td>\n",
       "      <td>0.614411</td>\n",
       "      <td>0.982193</td>\n",
       "      <td>0.380405</td>\n",
       "      <td>0.945906</td>\n",
       "      <td>0.714070</td>\n",
       "    </tr>\n",
       "    <tr>\n",
       "      <th>5</th>\n",
       "      <td>0.865622</td>\n",
       "      <td>0.106721</td>\n",
       "      <td>0.320558</td>\n",
       "      <td>0.832533</td>\n",
       "      <td>0.000251</td>\n",
       "      <td>0.994644</td>\n",
       "    </tr>\n",
       "    <tr>\n",
       "      <th>6</th>\n",
       "      <td>0.908503</td>\n",
       "      <td>0.290312</td>\n",
       "      <td>0.137405</td>\n",
       "      <td>0.291017</td>\n",
       "      <td>0.624371</td>\n",
       "      <td>0.024604</td>\n",
       "    </tr>\n",
       "  </tbody>\n",
       "</table>\n",
       "</div>"
      ],
      "text/plain": [
       "   column_1  column_2  column_3  column_4  column_5  column_6\n",
       "1  0.075905  0.267186  0.520588  0.267742  0.868496  0.777905\n",
       "2  0.107409     Nazer  0.215868  0.665453  0.169291  0.426636\n",
       "3  0.797206  0.159356  0.184679  0.449160  0.519065  0.022503\n",
       "4  0.782519  0.614411  0.982193  0.380405  0.945906  0.714070\n",
       "5  0.865622  0.106721  0.320558  0.832533  0.000251  0.994644\n",
       "6  0.908503  0.290312  0.137405  0.291017  0.624371  0.024604"
      ]
     },
     "execution_count": 14,
     "metadata": {},
     "output_type": "execute_result"
    }
   ],
   "source": [
    "df1"
   ]
  },
  {
   "cell_type": "code",
   "execution_count": 15,
   "id": "f5496fa9",
   "metadata": {},
   "outputs": [
    {
     "data": {
      "text/html": [
       "<div>\n",
       "<style scoped>\n",
       "    .dataframe tbody tr th:only-of-type {\n",
       "        vertical-align: middle;\n",
       "    }\n",
       "\n",
       "    .dataframe tbody tr th {\n",
       "        vertical-align: top;\n",
       "    }\n",
       "\n",
       "    .dataframe thead th {\n",
       "        text-align: right;\n",
       "    }\n",
       "</style>\n",
       "<table border=\"1\" class=\"dataframe\">\n",
       "  <thead>\n",
       "    <tr style=\"text-align: right;\">\n",
       "      <th></th>\n",
       "      <th>column_1</th>\n",
       "      <th>column_3</th>\n",
       "      <th>column_4</th>\n",
       "      <th>column_5</th>\n",
       "      <th>column_6</th>\n",
       "    </tr>\n",
       "  </thead>\n",
       "  <tbody>\n",
       "    <tr>\n",
       "      <th>1</th>\n",
       "      <td>NaN</td>\n",
       "      <td>NaN</td>\n",
       "      <td>NaN</td>\n",
       "      <td>NaN</td>\n",
       "      <td>NaN</td>\n",
       "    </tr>\n",
       "    <tr>\n",
       "      <th>2</th>\n",
       "      <td>NaN</td>\n",
       "      <td>NaN</td>\n",
       "      <td>NaN</td>\n",
       "      <td>NaN</td>\n",
       "      <td>NaN</td>\n",
       "    </tr>\n",
       "    <tr>\n",
       "      <th>3</th>\n",
       "      <td>0.326840</td>\n",
       "      <td>0.307045</td>\n",
       "      <td>0.460785</td>\n",
       "      <td>0.518950</td>\n",
       "      <td>0.409014</td>\n",
       "    </tr>\n",
       "    <tr>\n",
       "      <th>4</th>\n",
       "      <td>0.562378</td>\n",
       "      <td>0.460914</td>\n",
       "      <td>0.498339</td>\n",
       "      <td>0.544754</td>\n",
       "      <td>0.387736</td>\n",
       "    </tr>\n",
       "    <tr>\n",
       "      <th>5</th>\n",
       "      <td>0.815116</td>\n",
       "      <td>0.495810</td>\n",
       "      <td>0.554032</td>\n",
       "      <td>0.488408</td>\n",
       "      <td>0.577072</td>\n",
       "    </tr>\n",
       "    <tr>\n",
       "      <th>6</th>\n",
       "      <td>0.852215</td>\n",
       "      <td>0.480052</td>\n",
       "      <td>0.501318</td>\n",
       "      <td>0.523509</td>\n",
       "      <td>0.577773</td>\n",
       "    </tr>\n",
       "  </tbody>\n",
       "</table>\n",
       "</div>"
      ],
      "text/plain": [
       "   column_1  column_3  column_4  column_5  column_6\n",
       "1       NaN       NaN       NaN       NaN       NaN\n",
       "2       NaN       NaN       NaN       NaN       NaN\n",
       "3  0.326840  0.307045  0.460785  0.518950  0.409014\n",
       "4  0.562378  0.460914  0.498339  0.544754  0.387736\n",
       "5  0.815116  0.495810  0.554032  0.488408  0.577072\n",
       "6  0.852215  0.480052  0.501318  0.523509  0.577773"
      ]
     },
     "execution_count": 15,
     "metadata": {},
     "output_type": "execute_result"
    }
   ],
   "source": [
    "df1.rolling(window=3).mean()"
   ]
  },
  {
   "cell_type": "markdown",
   "id": "20c8e656",
   "metadata": {},
   "source": [
    "#### Q7. Write a code to print only the current month and year at the time of answering this question. [Hint: Use pandas.datetime function]"
   ]
  },
  {
   "cell_type": "code",
   "execution_count": 16,
   "id": "bb373057",
   "metadata": {},
   "outputs": [
    {
     "data": {
      "text/plain": [
       "Timestamp('2023-02-28 22:25:09.479354')"
      ]
     },
     "execution_count": 16,
     "metadata": {},
     "output_type": "execute_result"
    }
   ],
   "source": [
    "pd.to_datetime('today')"
   ]
  },
  {
   "cell_type": "code",
   "execution_count": null,
   "id": "0d9eba28",
   "metadata": {},
   "outputs": [],
   "source": []
  },
  {
   "cell_type": "markdown",
   "id": "e5bb22f4",
   "metadata": {},
   "source": [
    "#### Q8. Write a Python program that takes in two dates as input (in the format YYYY-MM-DD) and calculates the difference between them in days, hours, and minutes using Pandas time delta. The program should prompt the user to enter the dates and display the result."
   ]
  },
  {
   "cell_type": "code",
   "execution_count": null,
   "id": "cd98537f",
   "metadata": {},
   "outputs": [],
   "source": []
  },
  {
   "cell_type": "code",
   "execution_count": 18,
   "id": "4e23021c",
   "metadata": {},
   "outputs": [
    {
     "name": "stdout",
     "output_type": "stream",
     "text": [
      "Enter a date in format of YYYY-MM-DD : 2023-01-25\n",
      "Enter a date in format of YYYY-MM-DD : 2023-03-26\n"
     ]
    },
    {
     "data": {
      "text/html": [
       "<div>\n",
       "<style scoped>\n",
       "    .dataframe tbody tr th:only-of-type {\n",
       "        vertical-align: middle;\n",
       "    }\n",
       "\n",
       "    .dataframe tbody tr th {\n",
       "        vertical-align: top;\n",
       "    }\n",
       "\n",
       "    .dataframe thead th {\n",
       "        text-align: right;\n",
       "    }\n",
       "</style>\n",
       "<table border=\"1\" class=\"dataframe\">\n",
       "  <thead>\n",
       "    <tr style=\"text-align: right;\">\n",
       "      <th></th>\n",
       "      <th>F Date</th>\n",
       "      <th>S Date</th>\n",
       "      <th>Different</th>\n",
       "    </tr>\n",
       "  </thead>\n",
       "  <tbody>\n",
       "    <tr>\n",
       "      <th>0</th>\n",
       "      <td>2023-01-25</td>\n",
       "      <td>2023-03-26</td>\n",
       "      <td>-60 days</td>\n",
       "    </tr>\n",
       "  </tbody>\n",
       "</table>\n",
       "</div>"
      ],
      "text/plain": [
       "      F Date     S Date Different\n",
       "0 2023-01-25 2023-03-26  -60 days"
      ]
     },
     "execution_count": 18,
     "metadata": {},
     "output_type": "execute_result"
    }
   ],
   "source": [
    "first_date = input(\"Enter a date in format of YYYY-MM-DD : \")\n",
    "second_date = input(\"Enter a date in format of YYYY-MM-DD : \")\n",
    "\n",
    "date_1 = pd.DataFrame({'F Date':[pd.to_datetime(first_date)],\n",
    "                      'S Date':[pd.to_datetime(second_date)],\n",
    "                      'Different':[pd.to_datetime(first_date)-pd.to_datetime(second_date)]})\n",
    "date_1"
   ]
  },
  {
   "cell_type": "code",
   "execution_count": null,
   "id": "c07bffe7",
   "metadata": {},
   "outputs": [],
   "source": []
  },
  {
   "cell_type": "markdown",
   "id": "e0753e65",
   "metadata": {},
   "source": [
    "#### Q9. Write a Python program that reads a CSV file containing categorical data and converts a specified column to a categorical data type. The program should prompt the user to enter the file path, column name, and category order, and then display the sorted data.\n"
   ]
  },
  {
   "cell_type": "code",
   "execution_count": 19,
   "id": "8b4e0eb3",
   "metadata": {},
   "outputs": [],
   "source": [
    "import csv\n",
    "import pandas as pd\n",
    "import numpy as np"
   ]
  },
  {
   "cell_type": "code",
   "execution_count": 21,
   "id": "66a6d6f7",
   "metadata": {},
   "outputs": [
    {
     "name": "stdout",
     "output_type": "stream",
     "text": [
      "Enter file location with file name : E:\\\\dummy_data\\\\taxonomy.csv\n",
      "Enter file categorical column name : parent_name\n",
      "Enter column order True or False : True\n",
      "Your file datas are : \n",
      "     taxonomy_id                          name parent_id           parent_name\n",
      "0           101                     Emergency       NaN                   NaN\n",
      "1        101-01             Disaster Response       101             Emergency\n",
      "2        101-02                Emergency Cash       101             Emergency\n",
      "3     101-02-01             Help Pay for Food    101-02        Emergency Cash\n",
      "4     101-02-02       Help Pay for Healthcare    101-02        Emergency Cash\n",
      "..          ...                           ...       ...                   ...\n",
      "285   111-01-07              Workplace Rights    111-01  Advocacy & Legal Aid\n",
      "286      111-02                     Mediation       111                 Legal\n",
      "287      111-03                        Notary       111                 Legal\n",
      "288      111-04                Representation       111                 Legal\n",
      "289      111-05  Translation & Interpretation       111                 Legal\n",
      "\n",
      "[290 rows x 4 columns]\n"
     ]
    }
   ],
   "source": [
    "# file_path = \"E:\\\\dummy_data\\\\taxonomy.csv\"\n",
    "file_path = input(\"Enter file location with file name : \")\n",
    "\n",
    "column_name = input(\"Enter file categorical column name : \")\n",
    "# column_name = \"parent_name\"\n",
    "\n",
    "category_order = bool(input(\"Enter column order True or False : \"))\n",
    "# category_order = True\n",
    "\n",
    "df = pd.read_csv(file_path, encoding='utf-8')\n",
    "print(f\"Your file datas are : \\n {df}\")"
   ]
  },
  {
   "cell_type": "code",
   "execution_count": 22,
   "id": "e75c0e3c",
   "metadata": {},
   "outputs": [
    {
     "data": {
      "text/plain": [
       "[NaN, 'Emergency', 'Emergency', 'Emergency Cash', 'Emergency Cash', ..., 'Advocacy & Legal Aid', 'Legal', 'Legal', 'Legal', 'Legal']\n",
       "Length: 290\n",
       "Categories (50, object): ['Addiction & Recovery' < 'Adoption & Foster Care' < 'Advocacy & Legal Aid' < 'Baby Supplies' ... 'Support Network' < 'Transit' < 'Transportation' < 'Work']"
      ]
     },
     "execution_count": 22,
     "metadata": {},
     "output_type": "execute_result"
    }
   ],
   "source": [
    "pd.Categorical(df[column_name],ordered=category_order)"
   ]
  },
  {
   "cell_type": "code",
   "execution_count": null,
   "id": "eca8133c",
   "metadata": {},
   "outputs": [],
   "source": []
  },
  {
   "cell_type": "markdown",
   "id": "7aa9911d",
   "metadata": {},
   "source": [
    "#### Q10. Write a Python program that reads a CSV file containing sales data for different products and visualizes the data using a stacked bar chart to show the sales of each product category over time. The program should prompt the user to enter the file path and display the chart."
   ]
  },
  {
   "cell_type": "code",
   "execution_count": 24,
   "id": "40c7211a",
   "metadata": {},
   "outputs": [
    {
     "name": "stdout",
     "output_type": "stream",
     "text": [
      "Enter file location with file name : E:\\dummy_data\\dof-summary-of-neighborhood-sales-for-manhattan-for-class-1-2-and-3-family-homes-2009-1.csv\n"
     ]
    },
    {
     "data": {
      "text/plain": [
       "<AxesSubplot:xlabel='TYPE OF HOME', ylabel='TOTAL NO. OF PROPERTIES'>"
      ]
     },
     "metadata": {},
     "output_type": "display_data"
    },
    {
     "data": {
      "image/png": "[encoded data removed]",
      "text/plain": [
       "<Figure size 640x480 with 1 Axes>"
      ]
     },
     "metadata": {},
     "output_type": "display_data"
    }
   ],
   "source": [
    "file_path = input(\"Enter file location with file name : \")\n",
    "df = pd.read_csv(file_path)\n",
    "# display(df.head())\n",
    "display(df.plot.scatter(x= 'TYPE OF HOME',y='TOTAL NO. OF PROPERTIES'))"
   ]
  },
  {
   "cell_type": "code",
   "execution_count": null,
   "id": "e0f0f239",
   "metadata": {},
   "outputs": [],
   "source": []
  },
  {
   "cell_type": "markdown",
   "id": "b4d75972",
   "metadata": {},
   "source": [
    "#### Q11. You are given a CSV file containing student data that includes the student ID and their test score. Write a Python program that reads the CSV file, calculates the mean, median, and mode of the test scores, and displays the results in a table.\n",
    "**The program should do the following:**           \n",
    "- Prompt the user to enter the file path of the CSV file containing the student data.\n",
    "- Read the CSV file into a Pandas DataFrame.\n",
    "- Calculate the mean, median, and mode of the test scores using Pandas tools. Display the mean, median, and mode in a table.\n",
    "\n",
    "**Assume the CSV file contains the following columns:**           \n",
    "- Student ID: The ID of the student.\n",
    "- Test Score: The score of the student's test.\n",
    "\n",
    "**Example usage of the program:**           \n",
    "**Enter the file path of the CSV file containing the student data: student_data.csv**           \n",
    "\n",
    "+-----------+-------+           \n",
    "| Statistic | Value |         \n",
    "+-----------+-------+          \n",
    "| Mean      |179.6  |        \n",
    "| Median    | 82    |        \n",
    "| Mode      | 85,90 |       \n",
    "+-----------+-------+        \n",
    "\n",
    "**Assume that the CSV file student_data.csv contains the following data:**      \n",
    "Student ID,Test Score       \n",
    "1,85       \n",
    "2,90        \n",
    "3,80         \n",
    "4,75         \n",
    "5,85          \n",
    "6,82         \n",
    "7,78           \n",
    "8,85        \n",
    "9,90           \n",
    "10,85       \n",
    "**The program should calculate the mean, median, and mode of the test scores and display the results in a table.**"
   ]
  },
  {
   "cell_type": "code",
   "execution_count": 25,
   "id": "031a5ece",
   "metadata": {},
   "outputs": [
    {
     "name": "stdout",
     "output_type": "stream",
     "text": [
      "Get mean pd.DataFrame\n"
     ]
    },
    {
     "data": {
      "text/plain": [
       "<bound method NDFrame._add_numeric_operations.<locals>.mean of    Student ID   Test Score\n",
       "0           1           85\n",
       "1           2           90\n",
       "2           3           80\n",
       "3           4           75\n",
       "4           5           85\n",
       "5           6           82\n",
       "6           7           78\n",
       "7           8           85\n",
       "8           9           90\n",
       "9          10           85>"
      ]
     },
     "metadata": {},
     "output_type": "display_data"
    },
    {
     "name": "stdout",
     "output_type": "stream",
     "text": [
      "Get mddian pd.DataFrame\n"
     ]
    },
    {
     "data": {
      "text/plain": [
       "<bound method NDFrame._add_numeric_operations.<locals>.median of    Student ID   Test Score\n",
       "0           1           85\n",
       "1           2           90\n",
       "2           3           80\n",
       "3           4           75\n",
       "4           5           85\n",
       "5           6           82\n",
       "6           7           78\n",
       "7           8           85\n",
       "8           9           90\n",
       "9          10           85>"
      ]
     },
     "metadata": {},
     "output_type": "display_data"
    },
    {
     "name": "stdout",
     "output_type": "stream",
     "text": [
      "Get mode pd.DataFrame\n"
     ]
    },
    {
     "data": {
      "text/html": [
       "<div>\n",
       "<style scoped>\n",
       "    .dataframe tbody tr th:only-of-type {\n",
       "        vertical-align: middle;\n",
       "    }\n",
       "\n",
       "    .dataframe tbody tr th {\n",
       "        vertical-align: top;\n",
       "    }\n",
       "\n",
       "    .dataframe thead th {\n",
       "        text-align: right;\n",
       "    }\n",
       "</style>\n",
       "<table border=\"1\" class=\"dataframe\">\n",
       "  <thead>\n",
       "    <tr style=\"text-align: right;\">\n",
       "      <th></th>\n",
       "      <th>Student ID</th>\n",
       "      <th>Test Score</th>\n",
       "    </tr>\n",
       "  </thead>\n",
       "  <tbody>\n",
       "    <tr>\n",
       "      <th>0</th>\n",
       "      <td>1</td>\n",
       "      <td>85.0</td>\n",
       "    </tr>\n",
       "    <tr>\n",
       "      <th>1</th>\n",
       "      <td>2</td>\n",
       "      <td>NaN</td>\n",
       "    </tr>\n",
       "    <tr>\n",
       "      <th>2</th>\n",
       "      <td>3</td>\n",
       "      <td>NaN</td>\n",
       "    </tr>\n",
       "    <tr>\n",
       "      <th>3</th>\n",
       "      <td>4</td>\n",
       "      <td>NaN</td>\n",
       "    </tr>\n",
       "    <tr>\n",
       "      <th>4</th>\n",
       "      <td>5</td>\n",
       "      <td>NaN</td>\n",
       "    </tr>\n",
       "    <tr>\n",
       "      <th>5</th>\n",
       "      <td>6</td>\n",
       "      <td>NaN</td>\n",
       "    </tr>\n",
       "    <tr>\n",
       "      <th>6</th>\n",
       "      <td>7</td>\n",
       "      <td>NaN</td>\n",
       "    </tr>\n",
       "    <tr>\n",
       "      <th>7</th>\n",
       "      <td>8</td>\n",
       "      <td>NaN</td>\n",
       "    </tr>\n",
       "    <tr>\n",
       "      <th>8</th>\n",
       "      <td>9</td>\n",
       "      <td>NaN</td>\n",
       "    </tr>\n",
       "    <tr>\n",
       "      <th>9</th>\n",
       "      <td>10</td>\n",
       "      <td>NaN</td>\n",
       "    </tr>\n",
       "  </tbody>\n",
       "</table>\n",
       "</div>"
      ],
      "text/plain": [
       "   Student ID   Test Score\n",
       "0           1         85.0\n",
       "1           2          NaN\n",
       "2           3          NaN\n",
       "3           4          NaN\n",
       "4           5          NaN\n",
       "5           6          NaN\n",
       "6           7          NaN\n",
       "7           8          NaN\n",
       "8           9          NaN\n",
       "9          10          NaN"
      ]
     },
     "metadata": {},
     "output_type": "display_data"
    }
   ],
   "source": [
    "path = \"E:\\\\dummy_data\\\\student data.csv\"\n",
    "df = pd.read_csv(path)\n",
    "\n",
    "print('Get mean pd.DataFrame')\n",
    "# display(df.mean())\n",
    "display(df.mean)\n",
    "\n",
    "print('Get mddian pd.DataFrame')\n",
    "# display(df.median())\n",
    "display(df.median)\n",
    "\n",
    "print('Get mode pd.DataFrame')\n",
    "# display(df.mode)\n",
    "display(df.mode())"
   ]
  },
  {
   "cell_type": "code",
   "execution_count": null,
   "id": "1025df31",
   "metadata": {},
   "outputs": [],
   "source": [
    "df.describe()"
   ]
  },
  {
   "cell_type": "code",
   "execution_count": null,
   "id": "e6a76379",
   "metadata": {},
   "outputs": [],
   "source": []
  },
  {
   "cell_type": "code",
   "execution_count": null,
   "id": "87ef86e7",
   "metadata": {},
   "outputs": [],
   "source": []
  }
 ],
 "metadata": {
  "kernelspec": {
   "display_name": "Python 3 (ipykernel)",
   "language": "python",
   "name": "python3"
  },
  "language_info": {
   "codemirror_mode": {
    "name": "ipython",
    "version": 3
   },
   "file_extension": ".py",
   "mimetype": "text/x-python",
   "name": "python",
   "nbconvert_exporter": "python",
   "pygments_lexer": "ipython3",
   "version": "3.7.1"
  }
 },
 "nbformat": 4,
 "nbformat_minor": 5
}
