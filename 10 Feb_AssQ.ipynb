{
 "cells": [
  {
   "cell_type": "markdown",
   "id": "55104aba",
   "metadata": {},
   "source": [
    "#### Q1. Which function is used to open a file? What are the different modes of opening a file? Explain each mode of file opening."
   ]
  },
  {
   "cell_type": "markdown",
   "id": "8ce1c906",
   "metadata": {},
   "source": [
    "Ans : "
   ]
  },
  {
   "cell_type": "code",
   "execution_count": null,
   "id": "ecf513cc",
   "metadata": {},
   "outputs": [],
   "source": [
    "open() function used to open a file"
   ]
  },
  {
   "cell_type": "markdown",
   "id": "218b9ff3",
   "metadata": {},
   "source": [
    "there is some deffere mode :      \n",
    "- 'r'       open for reading, you cant write in this mode\n",
    "- 'w'       open for writing, remove the file first, you cant read file in this write mode\n",
    "- 'x'       create a new file and open it for writing\n",
    "- 'a'       open for writing, appending/add to the end of the file if it exists\n",
    "- 'b'       binary mode(binary files like image, audio, video .etc)"
   ]
  },
  {
   "cell_type": "code",
   "execution_count": null,
   "id": "7fb071f5",
   "metadata": {},
   "outputs": [],
   "source": []
  },
  {
   "cell_type": "markdown",
   "id": "6c9337d5",
   "metadata": {},
   "source": [
    "#### Q2. Why close() function is used? Why is it important to close a file?"
   ]
  },
  {
   "cell_type": "markdown",
   "id": "ef35b60e",
   "metadata": {},
   "source": [
    "Ans : "
   ]
  },
  {
   "cell_type": "markdown",
   "id": "ddc03365",
   "metadata": {},
   "source": [
    "filename.close() : used to close current open file, If you dont do this, you are not able do other pperformance with file.    \n",
    "exp     \n",
    "If you open your file in write mode and now you want to read you existing file so you have to do first of all close() and then open your file in read mode and read your file"
   ]
  },
  {
   "cell_type": "code",
   "execution_count": null,
   "id": "a63ae5cc",
   "metadata": {},
   "outputs": [],
   "source": []
  },
  {
   "cell_type": "markdown",
   "id": "bbe9baf2",
   "metadata": {},
   "source": [
    "#### Q3. Write a python program to create a text file. Write 'I want to become a Data Scientist' in that file. Then close the file. Open this file and read the content of the file."
   ]
  },
  {
   "cell_type": "markdown",
   "id": "28d969cb",
   "metadata": {},
   "source": [
    "Ans : "
   ]
  },
  {
   "cell_type": "code",
   "execution_count": 55,
   "id": "863f99e8",
   "metadata": {},
   "outputs": [],
   "source": [
    "file = open('test.txt','w')\n",
    "file.write(\"I want to become a Data Scientist\")\n",
    "file.close()"
   ]
  },
  {
   "cell_type": "code",
   "execution_count": 6,
   "id": "d8668020",
   "metadata": {},
   "outputs": [
    {
     "name": "stdout",
     "output_type": "stream",
     "text": [
      "I want to become a Data Scientist\n"
     ]
    }
   ],
   "source": [
    "with open('test.txt','r') as file:\n",
    "    print(file.read())"
   ]
  },
  {
   "cell_type": "code",
   "execution_count": null,
   "id": "09d0836a",
   "metadata": {},
   "outputs": [],
   "source": []
  },
  {
   "cell_type": "markdown",
   "id": "94802b67",
   "metadata": {},
   "source": [
    "#### Q4. Explain the following with python code: read(), readline() and readlines()."
   ]
  },
  {
   "cell_type": "markdown",
   "id": "b5baccfb",
   "metadata": {},
   "source": [
    "Ans : "
   ]
  },
  {
   "cell_type": "markdown",
   "id": "6c865a88",
   "metadata": {},
   "source": [
    "**read():** This function used to read all data from file.     \n",
    "**readline():** This function used to read data from file line by line one time one line execute only.   \n",
    "**readlines():** This function used to read all data from existing file.   "
   ]
  },
  {
   "cell_type": "code",
   "execution_count": 57,
   "id": "74fa0c0a",
   "metadata": {},
   "outputs": [],
   "source": [
    "file = open('test1.txt','w')\n",
    "file.write(\"\"\"Lorem Ipsum is simply dummy text of the printing and \\n\n",
    "              typesetting industry. Lorem Ipsum has been the industry's \\n\n",
    "              standard dummy text ever since the 1500s, when an unknown \\n\n",
    "              printer took a galley of type and scrambled it to make a type \\n\n",
    "              specimen book. It has survived not only five centuries, but also the \\n\n",
    "              leap into electronic typesetting, remaining essentially unchanged. \\n\n",
    "              It was popularised in the 1960s with the release of Letraset sheets \"\"\")\n",
    "file.close()"
   ]
  },
  {
   "cell_type": "code",
   "execution_count": 58,
   "id": "106c2b93",
   "metadata": {},
   "outputs": [
    {
     "name": "stdout",
     "output_type": "stream",
     "text": [
      "------------read()---------------------\n",
      "Lorem Ipsum is simply dummy text of the printing and \n",
      "\n",
      "              typesetting industry. Lorem Ipsum has been the industry's \n",
      "\n",
      "              standard dummy text ever since the 1500s, when an unknown \n",
      "\n",
      "              printer took a galley of type and scrambled it to make a type \n",
      "\n",
      "              specimen book. It has survived not only five centuries, but also the \n",
      "\n",
      "              leap into electronic typesetting, remaining essentially unchanged. \n",
      "\n",
      "              It was popularised in the 1960s with the release of Letraset sheets \n",
      "------------readline()---------------------\n",
      "Lorem Ipsum is simply dummy text of the printing and \n",
      "\n",
      "------------readlines()---------------------\n",
      "['Lorem Ipsum is simply dummy text of the printing and \\n', '\\n', \"              typesetting industry. Lorem Ipsum has been the industry's \\n\", '\\n', '              standard dummy text ever since the 1500s, when an unknown \\n', '\\n', '              printer took a galley of type and scrambled it to make a type \\n', '\\n', '              specimen book. It has survived not only five centuries, but also the \\n', '\\n', '              leap into electronic typesetting, remaining essentially unchanged. \\n', '\\n', '              It was popularised in the 1960s with the release of Letraset sheets ']\n"
     ]
    }
   ],
   "source": [
    "with open('test1.txt','r') as file:\n",
    "    print(\"------------read()---------------------\")\n",
    "    print(file.read())\n",
    "    print(\"------------readline()---------------------\")\n",
    "    file.seek(0)\n",
    "    print(file.readline())\n",
    "    print(\"------------readlines()---------------------\")\n",
    "    file.seek(0)\n",
    "    print(file.readlines())"
   ]
  },
  {
   "cell_type": "markdown",
   "id": "438a0e24",
   "metadata": {},
   "source": [
    "#### Q5. Explain why with statement is used with open (). What is the advantage of using with statement and open () together?\n"
   ]
  },
  {
   "cell_type": "markdown",
   "id": "85ae092b",
   "metadata": {},
   "source": [
    "Ans :        \n",
    "- If we are using with key-word then dont worry about close() file function\n",
    "- with key-word handle your file close() problem\n",
    "- we dont have to use close() function anywhere"
   ]
  },
  {
   "cell_type": "code",
   "execution_count": null,
   "id": "43ac27a3",
   "metadata": {},
   "outputs": [],
   "source": []
  },
  {
   "cell_type": "code",
   "execution_count": null,
   "id": "698d6ca6",
   "metadata": {},
   "outputs": [],
   "source": []
  },
  {
   "cell_type": "markdown",
   "id": "460c7d2a",
   "metadata": {},
   "source": [
    "#### 6. Explain the write () and writelines () functions. Give a suitable example."
   ]
  },
  {
   "cell_type": "markdown",
   "id": "6e4880fe",
   "metadata": {},
   "source": [
    "Ans :      \n",
    "- write() : Returns the number of characters written (which is always equal to the which you are writting).\n",
    "- writelines() : Returns None when we go to print."
   ]
  },
  {
   "cell_type": "code",
   "execution_count": 50,
   "id": "0d1f4eee",
   "metadata": {},
   "outputs": [
    {
     "name": "stdout",
     "output_type": "stream",
     "text": [
      "24\n"
     ]
    }
   ],
   "source": [
    "data = 'There is read() function'\n",
    "with open('test3.txt','w') as file:\n",
    "    print(file.write(data))"
   ]
  },
  {
   "cell_type": "code",
   "execution_count": 51,
   "id": "5488d4f7",
   "metadata": {},
   "outputs": [
    {
     "name": "stdout",
     "output_type": "stream",
     "text": [
      "There is read() function\n"
     ]
    }
   ],
   "source": [
    "with open('test3.txt','r') as file:\n",
    "    print(file.read())"
   ]
  },
  {
   "cell_type": "code",
   "execution_count": 53,
   "id": "4aedaad2",
   "metadata": {},
   "outputs": [
    {
     "name": "stdout",
     "output_type": "stream",
     "text": [
      "None\n"
     ]
    }
   ],
   "source": [
    "lines = [\"line1\\n\", \"line2\\n\", \"line3\\n\"]\n",
    "with open(\"file5.txt\", \"w\") as file:\n",
    "    print(file.writelines(lines))"
   ]
  },
  {
   "cell_type": "code",
   "execution_count": 54,
   "id": "79cf93b8",
   "metadata": {},
   "outputs": [
    {
     "name": "stdout",
     "output_type": "stream",
     "text": [
      "line1\n",
      "line2\n",
      "line3\n",
      "\n"
     ]
    }
   ],
   "source": [
    "with open(\"file5.txt\", \"r\") as file:\n",
    "    print(file.read())"
   ]
  },
  {
   "cell_type": "code",
   "execution_count": null,
   "id": "f43e020e",
   "metadata": {},
   "outputs": [],
   "source": []
  },
  {
   "cell_type": "code",
   "execution_count": null,
   "id": "ee60fca4",
   "metadata": {},
   "outputs": [],
   "source": []
  },
  {
   "cell_type": "code",
   "execution_count": null,
   "id": "d03aff27",
   "metadata": {},
   "outputs": [],
   "source": []
  },
  {
   "cell_type": "code",
   "execution_count": null,
   "id": "ee26342b",
   "metadata": {},
   "outputs": [],
   "source": []
  }
 ],
 "metadata": {
  "kernelspec": {
   "display_name": "Python 3 (ipykernel)",
   "language": "python",
   "name": "python3"
  },
  "language_info": {
   "codemirror_mode": {
    "name": "ipython",
    "version": 3
   },
   "file_extension": ".py",
   "mimetype": "text/x-python",
   "name": "python",
   "nbconvert_exporter": "python",
   "pygments_lexer": "ipython3",
   "version": "3.7.1"
  }
 },
 "nbformat": 4,
 "nbformat_minor": 5
}
