{
 "cells": [
  {
   "cell_type": "code",
   "execution_count": 2,
   "id": "bb50b19d",
   "metadata": {},
   "outputs": [],
   "source": [
    "import pandas as pd\n",
    "import numpy as np\n",
    "from scipy import stats\n",
    "import math\n"
   ]
  },
  {
   "cell_type": "markdown",
   "id": "e50967cf",
   "metadata": {},
   "source": [
    "#### Q1. What are the three measures of central tendency?"
   ]
  },
  {
   "cell_type": "markdown",
   "id": "9b6b085a",
   "metadata": {},
   "source": [
    "Ans :             \n",
    "- mean\n",
    "- median\n",
    "- mode"
   ]
  },
  {
   "cell_type": "markdown",
   "id": "d96abad5",
   "metadata": {},
   "source": [
    "#### Q2. What is the difference between the mean, median, and mode? How are they used to measure the central tendency of a dataset?"
   ]
  },
  {
   "cell_type": "markdown",
   "id": "e54ee770",
   "metadata": {},
   "source": [
    "Ans :                    \n",
    "**mean** : It is used with Discrete or continuous random variables.             \n",
    "**median** : If you have outliers in data set, then use median for getting central tendency         \n",
    "**mode** : It is used with categorical data          "
   ]
  },
  {
   "cell_type": "code",
   "execution_count": 27,
   "id": "85aca552",
   "metadata": {},
   "outputs": [
    {
     "name": "stdout",
     "output_type": "stream",
     "text": [
      "Mean : 17.89\n",
      "Median : 6.0\n"
     ]
    }
   ],
   "source": [
    "lists = [3,4,54,6,7,4,23,4,56]\n",
    "arr = np.array(lists)\n",
    "print(f\"Mean : {arr.mean().round(2)}\")\n",
    "print(f\"Median : {np.median(arr).round(2)}\")"
   ]
  },
  {
   "cell_type": "code",
   "execution_count": 36,
   "id": "8c0bfa47",
   "metadata": {},
   "outputs": [
    {
     "name": "stdout",
     "output_type": "stream",
     "text": [
      "Mode : [[4]]\n"
     ]
    }
   ],
   "source": [
    "df = pd.DataFrame(lists)\n",
    "print(f\"Mode : {stats.mode(df)[0]}\")"
   ]
  },
  {
   "cell_type": "markdown",
   "id": "c59edfe2",
   "metadata": {},
   "source": [
    "#### Q3. Measure the three measures of central tendency for the given height data:\n",
    "[178,177,176,177,178.2,178,175,179,180,175,178.9,176.2,177,172.5,178,176.5]"
   ]
  },
  {
   "cell_type": "code",
   "execution_count": 43,
   "id": "622ea164",
   "metadata": {},
   "outputs": [
    {
     "name": "stdout",
     "output_type": "stream",
     "text": [
      "Mean : 177.01875\n",
      "Median : 177.0\n",
      "Mode : [177.]\n"
     ]
    }
   ],
   "source": [
    "height = [178,177,176,177,178.2,178,175,179,180,175,178.9,176.2,177,172.5,178,176.5]\n",
    "print(f\"Mean : {np.mean(height)}\")\n",
    "print(f\"Median : {np.median(height)}\")\n",
    "print(f\"Mode : {stats.mode(height)[0]}\")"
   ]
  },
  {
   "cell_type": "markdown",
   "id": "a69ac7f4",
   "metadata": {},
   "source": [
    "#### Q4. Find the standard deviation for the given data:\n",
    "[178,177,176,177,178.2,178,175,179,180,175,178.9,176.2,177,172.5,178,176.5]"
   ]
  },
  {
   "cell_type": "code",
   "execution_count": 92,
   "id": "d139aae0",
   "metadata": {},
   "outputs": [],
   "source": [
    "heights_ = [178,177,176,177,178.2,178,175,179,180,175,178.9,176.2,177,172.5,178,176.5]"
   ]
  },
  {
   "cell_type": "code",
   "execution_count": 110,
   "id": "b88c0bde",
   "metadata": {},
   "outputs": [
    {
     "name": "stdout",
     "output_type": "stream",
     "text": [
      "1.7885814036548633\n"
     ]
    }
   ],
   "source": [
    "heights_ = [178,177,176,177,178.2,178,175,179,180,175,178.9,176.2,177,172.5,178,176.5]\n",
    "count = 0\n",
    "for i in heights:\n",
    "    count += i\n",
    "Mean = count/16 \n",
    "answer = 0\n",
    "for height in heights_:\n",
    "    result = (height- Mean)**2\n",
    "    count = len(heights_)\n",
    "    answer += result / count\n",
    "answer = math.sqrt(answer)\n",
    "print(answer)"
   ]
  },
  {
   "cell_type": "code",
   "execution_count": 111,
   "id": "cd9204f8",
   "metadata": {},
   "outputs": [
    {
     "data": {
      "text/plain": [
       "True"
      ]
     },
     "execution_count": 111,
     "metadata": {},
     "output_type": "execute_result"
    }
   ],
   "source": [
    "np.std(heights_) == answer"
   ]
  },
  {
   "cell_type": "markdown",
   "id": "9d99a8a7",
   "metadata": {},
   "source": [
    "#### Q5. How are measures of dispersion such as range, variance, and standard deviation used to describe the spread of a dataset? Provide an example."
   ]
  },
  {
   "cell_type": "markdown",
   "id": "cc36d909",
   "metadata": {},
   "source": [
    "Ans :                \n",
    "**range** : It is a part of dispersion, that will return the difference between upper vale and lower value      \n",
    "**variance** : It is a part of dispersion, It is used to show the spread of data in a dataset          \n",
    "**standard deviation** : It is a part of dispersion, It is used to know how many far data is from mean."
   ]
  },
  {
   "cell_type": "code",
   "execution_count": 6,
   "id": "d6c1cd9f",
   "metadata": {},
   "outputs": [
    {
     "name": "stdout",
     "output_type": "stream",
     "text": [
      "range : 7.5\n"
     ]
    }
   ],
   "source": [
    "# range\n",
    "data = [178,177,176,177,178.2,178,175,179,180,175,178.9,176.2,177,172.5,178,176.5]\n",
    "range = max(data) - min(data)\n",
    "print(f\"range : {range}\")"
   ]
  },
  {
   "cell_type": "code",
   "execution_count": 9,
   "id": "2309bb59",
   "metadata": {},
   "outputs": [
    {
     "data": {
      "text/plain": [
       "3.199023437500001"
      ]
     },
     "execution_count": 9,
     "metadata": {},
     "output_type": "execute_result"
    }
   ],
   "source": [
    "#variance\n",
    "data = [178,177,176,177,178.2,178,175,179,180,175,178.9,176.2,177,172.5,178,176.5]\n",
    "np.var(data)"
   ]
  },
  {
   "cell_type": "code",
   "execution_count": 8,
   "id": "1e4f782e",
   "metadata": {},
   "outputs": [
    {
     "data": {
      "text/plain": [
       "1.7885814036548633"
      ]
     },
     "execution_count": 8,
     "metadata": {},
     "output_type": "execute_result"
    }
   ],
   "source": [
    "# standard deviation\n",
    "data = [178,177,176,177,178.2,178,175,179,180,175,178.9,176.2,177,172.5,178,176.5]\n",
    "np.std(data)"
   ]
  },
  {
   "cell_type": "markdown",
   "id": "96c3a3c4",
   "metadata": {},
   "source": [
    "#### Q6. What is a Venn diagram?"
   ]
  },
  {
   "cell_type": "markdown",
   "id": "ade93906",
   "metadata": {},
   "source": [
    "Ans :         \n",
    "**Venn Diagram** is a circular graphical representation relationship between two or more dataset diagram."
   ]
  },
  {
   "cell_type": "markdown",
   "id": "783d3b72",
   "metadata": {},
   "source": [
    "#### Q7. For the two given sets A = (2,3,4,5,6,7) & B = (0,2,6,8,10). Find:\n",
    " (i) A B          \n",
    "(ii) A B\n"
   ]
  },
  {
   "cell_type": "markdown",
   "id": "28b7a03d",
   "metadata": {},
   "source": [
    "Ans :           \n",
    "![Venn Diagram](https://i.ibb.co/3yLHCPd/image.png)\n"
   ]
  },
  {
   "cell_type": "markdown",
   "id": "8f397b0e",
   "metadata": {},
   "source": [
    "#### Q8. What do you understand about skewness in data?\n"
   ]
  },
  {
   "cell_type": "markdown",
   "id": "30d6b20a",
   "metadata": {},
   "source": [
    "Ans:               \n",
    "**Skewness** is a measurement of the distortion of dataset, By using skewness we will get the result is data distribution is symmetrical distribution or asymmetry in a data set.\n"
   ]
  },
  {
   "cell_type": "markdown",
   "id": "21eaa9c8",
   "metadata": {},
   "source": [
    "#### Q9. If a data is right skewed then what will be the position of median with respect to mean?\n"
   ]
  },
  {
   "cell_type": "markdown",
   "id": "e7f1a45e",
   "metadata": {},
   "source": [
    "Ans :                   \n",
    "Position will be **median** less than **mean**                \n",
    "**median** < **mean**"
   ]
  },
  {
   "cell_type": "markdown",
   "id": "18a8fc52",
   "metadata": {},
   "source": [
    "#### Q10. Explain the difference between covariance and correlation. How are these measures used in statistical analysis?\n"
   ]
  },
  {
   "cell_type": "markdown",
   "id": "fef022ab",
   "metadata": {},
   "source": [
    "Ans :              \n",
    "**Covariance** and **Correlation** both are used to solve \"what is the relation between x and y\" where x and y is sample.\n",
    "***\n",
    "**Covariance** : It is used to get relation between x and y variance in data spread.            \n",
    "**Correlation** : It is used to get relation between x and y. What will happen when x will increases and when decrease in y\n",
    "\n"
   ]
  },
  {
   "cell_type": "markdown",
   "id": "3d0c6718",
   "metadata": {},
   "source": [
    "![](https://tinyurl.com/swwax5w4)"
   ]
  },
  {
   "cell_type": "markdown",
   "id": "1c94eafc",
   "metadata": {},
   "source": [
    "#### Q11. What is the formula for calculating the sample mean? Provide an example calculation for a dataset.\n"
   ]
  },
  {
   "cell_type": "markdown",
   "id": "e908940e",
   "metadata": {},
   "source": [
    "![sample mean](https://tinyurl.com/yeyv5z97)"
   ]
  },
  {
   "cell_type": "markdown",
   "id": "e512bdce",
   "metadata": {},
   "source": [
    "#### Q12. For a normal distribution data what is the relationship between its measure of central tendency?\n"
   ]
  },
  {
   "cell_type": "markdown",
   "id": "680d1618",
   "metadata": {},
   "source": [
    "Ans :            \n",
    "**mean = median = mode**"
   ]
  },
  {
   "cell_type": "markdown",
   "id": "bbb109a4",
   "metadata": {},
   "source": [
    "#### Q13. How is covariance different from correlation?\n"
   ]
  },
  {
   "cell_type": "markdown",
   "id": "2d70a3dd",
   "metadata": {},
   "source": [
    "Ans :                    \n",
    "**covariance** : It lies between -ve infinity to +ve infinity                \n",
    "**correlation** It lies between -ve 1 to +ve 1\n"
   ]
  },
  {
   "cell_type": "markdown",
   "id": "06f09ca3",
   "metadata": {},
   "source": [
    "#### Q14. How do outliers affect measures of central tendency and dispersion? Provide an example."
   ]
  },
  {
   "cell_type": "markdown",
   "id": "e1ca270f",
   "metadata": {},
   "source": [
    "Ans :                 \n",
    "![Outliers affect](https://i.ibb.co/YRKSHpp/image.png)"
   ]
  }
 ],
 "metadata": {
  "kernelspec": {
   "display_name": "Python 3 (ipykernel)",
   "language": "python",
   "name": "python3"
  },
  "language_info": {
   "codemirror_mode": {
    "name": "ipython",
    "version": 3
   },
   "file_extension": ".py",
   "mimetype": "text/x-python",
   "name": "python",
   "nbconvert_exporter": "python",
   "pygments_lexer": "ipython3",
   "version": "3.7.1"
  }
 },
 "nbformat": 4,
 "nbformat_minor": 5
}
