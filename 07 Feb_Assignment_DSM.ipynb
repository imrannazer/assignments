{
 "cells": [
  {
   "cell_type": "markdown",
   "id": "cd0b212f",
   "metadata": {},
   "source": [
    "Q1. You are writing code for a company. The requirement of the company is that you create a python\n",
    "function that will check whether the password entered by the user is correct or not. The function should\n",
    "take the password as input and return the string \"Valid Password\" if the entered password follows the\n",
    "below-given password guidelines else it should return \"Invalid Password\".\n",
    "\n",
    "Note:   \n",
    "1. The Password should contain at least two uppercase letters and at least two lowercase letters.   \n",
    "2. The Password should contain at least a number and three special characters.\n",
    "3. The length of the password should be 10 characters long\n",
    "\n"
   ]
  },
  {
   "cell_type": "code",
   "execution_count": 107,
   "id": "8cb724a7",
   "metadata": {},
   "outputs": [
    {
     "name": "stdout",
     "output_type": "stream",
     "text": [
      "Valid Password\n"
     ]
    }
   ],
   "source": [
    "password = input(\"Create your new password : \")\n",
    "# password = \"OZWQQca514!@#\"\n",
    "def pass_verify(check):\n",
    "    upper_case = lower_case = numbers = special_char = ''\n",
    "    for i in password:\n",
    "        if 64<ord(i)<91:upper_case += i\n",
    "        elif 96<ord(i)<123:lower_case += i\n",
    "        elif 48<ord(i)<58:numbers += i\n",
    "        elif 32<ord(i)<48 or 58<ord(i)<65 or 91<ord(i)<97 or ord(i)>122:special_char +=i\n",
    "        else:pass\n",
    "    if len(upper_case) >= 2 and len(lower_case) >= 2 and len(numbers) >= 1 and len(special_char) >=3 and len(password) >= 10:\n",
    "        print('Valid Password')\n",
    "    else:\n",
    "        print('Invalid Password')\n",
    "pass_verify(password)\n",
    "# len(password)"
   ]
  },
  {
   "cell_type": "code",
   "execution_count": null,
   "id": "e5545f68",
   "metadata": {},
   "outputs": [],
   "source": []
  },
  {
   "cell_type": "markdown",
   "id": "b9c83ab3",
   "metadata": {},
   "source": [
    "Q2. Solve the below-given questions using at least one of the following:\n",
    "1. Lambda function\n",
    "2. Filter function\n",
    "3. Map function\n",
    "4. List Comprehension\n",
    "\n",
    "- Check if the string starts with a particular letter.   \n",
    "- Check if the string is numeric.   \n",
    "- .Sort a list of tuples having fruit names and their quantity. [ (\"mango\",99), (\"orange\",80), (\"grapes\", 1000)]   \n",
    "- .Find the squares of numbers from 1 to 10.   \n",
    "- Find the cube root of numbers from 1 to 10.   \n",
    "- Check if a given number is even.   \n",
    "- Filter odd numbers from the given list.   [1,2,3,4,5,6,7,8,9,10]   \n",
    "- Sort a list of integers into positive and negative integers lists. [1,2,3,4,5,6,-1,-2,-3,-4,-5,0]\n"
   ]
  },
  {
   "cell_type": "markdown",
   "id": "8a07fcca",
   "metadata": {},
   "source": [
    "#### 1. Check if the string starts with a particular letter."
   ]
  },
  {
   "cell_type": "code",
   "execution_count": 167,
   "id": "47ac8aac",
   "metadata": {},
   "outputs": [
    {
     "name": "stdout",
     "output_type": "stream",
     "text": [
      "Enter a word start form 'a' : lksd\n"
     ]
    },
    {
     "data": {
      "text/plain": [
       "False"
      ]
     },
     "execution_count": 167,
     "metadata": {},
     "output_type": "execute_result"
    }
   ],
   "source": [
    "# Check if the string starts with a particular letter.By using list comprehension\n",
    "string = input(\"Enter a word start form 'a' : \")\n",
    "# string = 'gthuid'\n",
    "obj = [True if string.startswith('a') else False for i in string]\n",
    "obj[0]"
   ]
  },
  {
   "cell_type": "code",
   "execution_count": 166,
   "id": "ea04a7b6",
   "metadata": {},
   "outputs": [
    {
     "name": "stdout",
     "output_type": "stream",
     "text": [
      "Enter a word start form 'a' : lsdjk\n"
     ]
    },
    {
     "data": {
      "text/plain": [
       "False"
      ]
     },
     "execution_count": 166,
     "metadata": {},
     "output_type": "execute_result"
    }
   ],
   "source": [
    "# Check if the string starts with a particular letter. By using lambda function\n",
    "string = input(\"Enter a word start form 'a' : \")\n",
    "# string = 'gthuid'\n",
    "obj = lambda s : s.startswith('a')\n",
    "obj(string)"
   ]
  },
  {
   "cell_type": "markdown",
   "id": "4ba61d99",
   "metadata": {},
   "source": [
    "#### 2. Check if the string is numeric.\n"
   ]
  },
  {
   "cell_type": "code",
   "execution_count": 146,
   "id": "60b424eb",
   "metadata": {},
   "outputs": [
    {
     "name": "stdout",
     "output_type": "stream",
     "text": [
      "Enter a numeric key : 45689\n"
     ]
    },
    {
     "data": {
      "text/plain": [
       "True"
      ]
     },
     "execution_count": 146,
     "metadata": {},
     "output_type": "execute_result"
    }
   ],
   "source": [
    "# Check if the string is numeric. By using list comprehension\n",
    "string = input(\"Enter a numeric key : \")\n",
    "# string = '34'\n",
    "obj = [True if string.isnumeric() else False for i in string]\n",
    "obj[0]"
   ]
  },
  {
   "cell_type": "code",
   "execution_count": 274,
   "id": "f30d8387",
   "metadata": {},
   "outputs": [
    {
     "data": {
      "text/plain": [
       "True"
      ]
     },
     "execution_count": 274,
     "metadata": {},
     "output_type": "execute_result"
    }
   ],
   "source": [
    "# Check if the string is numeric.By using lambda function\n",
    "# string = input(\"Enter a numeric key : \")\n",
    "string = '456'\n",
    "obj = lambda num : num.isnumeric()\n",
    "obj(string)"
   ]
  },
  {
   "cell_type": "markdown",
   "id": "45d85434",
   "metadata": {},
   "source": [
    "#### 3. .Sort a list of tuples having fruit names and their quantity. [ (\"mango\",99), (\"orange\",80), (\"grapes\", 1000)]\n"
   ]
  },
  {
   "cell_type": "code",
   "execution_count": 214,
   "id": "33dd3778",
   "metadata": {},
   "outputs": [
    {
     "name": "stdout",
     "output_type": "stream",
     "text": [
      "[('grapes', 1000), ('mango', 99), ('orange', 80)]\n"
     ]
    }
   ],
   "source": [
    "# .Sort a list of tuples having fruit names and their quantity. [ (\"mango\",99), (\"orange\",80), (\"grapes\", 1000)]\n",
    "List = [ (\"mango\",99), (\"orange\",80), (\"grapes\", 1000)]\n",
    "print(sorted(List))\n",
    "# print(sorted(List, reverse = True))\n"
   ]
  },
  {
   "cell_type": "markdown",
   "id": "48bbf012",
   "metadata": {},
   "source": [
    "#### 4. .Find the squares of numbers from 1 to 10.\n"
   ]
  },
  {
   "cell_type": "code",
   "execution_count": 170,
   "id": "bd1d5d7c",
   "metadata": {},
   "outputs": [
    {
     "data": {
      "text/plain": [
       "[1, 4, 9, 16, 25, 36, 49, 64, 81, 100]"
      ]
     },
     "execution_count": 170,
     "metadata": {},
     "output_type": "execute_result"
    }
   ],
   "source": [
    "# .Find the squares of numbers from 1 to 10.\n",
    "square = [i*i for i in range(1,11)]\n",
    "list(square)"
   ]
  },
  {
   "cell_type": "code",
   "execution_count": null,
   "id": "eab84d98",
   "metadata": {},
   "outputs": [],
   "source": []
  },
  {
   "cell_type": "markdown",
   "id": "7bb3ec46",
   "metadata": {},
   "source": [
    "#### 5. Find the cube root of numbers from 1 to 10."
   ]
  },
  {
   "cell_type": "code",
   "execution_count": 171,
   "id": "6826873b",
   "metadata": {},
   "outputs": [
    {
     "data": {
      "text/plain": [
       "[1, 8, 27, 64, 125, 216, 343, 512, 729, 1000]"
      ]
     },
     "execution_count": 171,
     "metadata": {},
     "output_type": "execute_result"
    }
   ],
   "source": [
    "# Find the cube root of numbers from 1 to 10.\n",
    "cube = [i**3 for i in range(1,11)]\n",
    "list(cube)"
   ]
  },
  {
   "cell_type": "markdown",
   "id": "05922175",
   "metadata": {},
   "source": [
    "#### 6. Check if a given number is even."
   ]
  },
  {
   "cell_type": "code",
   "execution_count": 178,
   "id": "c4ec3683",
   "metadata": {},
   "outputs": [
    {
     "name": "stdout",
     "output_type": "stream",
     "text": [
      "Enter a number : 24\n"
     ]
    },
    {
     "data": {
      "text/plain": [
       "True"
      ]
     },
     "execution_count": 178,
     "metadata": {},
     "output_type": "execute_result"
    }
   ],
   "source": [
    "# Check if a given number is even.\n",
    "num = int(input('Enter a number : '))\n",
    "# num = 24\n",
    "even = lambda x : x%2 == 0 \n",
    "even(num)\n"
   ]
  },
  {
   "cell_type": "markdown",
   "id": "bebb8bfd",
   "metadata": {},
   "source": [
    "#### 7. Filter odd numbers from the given list. [1,2,3,4,5,6,7,8,9,10]"
   ]
  },
  {
   "cell_type": "code",
   "execution_count": 215,
   "id": "e965a029",
   "metadata": {},
   "outputs": [
    {
     "data": {
      "text/plain": [
       "<filter at 0x1602bce8828>"
      ]
     },
     "execution_count": 215,
     "metadata": {},
     "output_type": "execute_result"
    }
   ],
   "source": [
    "# Filter odd numbers from the given list. By using filter() function\n",
    "List = [1,2,3,4,5,6,7,8,9,10]\n",
    "odd_list = []\n",
    "def odd(a):\n",
    "    if a%2!=0:\n",
    "        odd_list.append(a)\n",
    "filter(odd,List)"
   ]
  },
  {
   "cell_type": "code",
   "execution_count": 216,
   "id": "7c6e67ff",
   "metadata": {},
   "outputs": [
    {
     "name": "stdout",
     "output_type": "stream",
     "text": [
      "[1, 3, 5, 7, 9]\n"
     ]
    }
   ],
   "source": [
    "list(filter(odd,List))\n",
    "print(odd_list)"
   ]
  },
  {
   "cell_type": "code",
   "execution_count": 275,
   "id": "ee8c5654",
   "metadata": {},
   "outputs": [
    {
     "data": {
      "text/plain": [
       "[1, 3, 5, 7, 9]"
      ]
     },
     "execution_count": 275,
     "metadata": {},
     "output_type": "execute_result"
    }
   ],
   "source": [
    "# Filter odd numbers from the given list. By using lambda function\n",
    "List = [1,2,3,4,5,6,7,8,9,10]\n",
    "List = [i for i in List if i%2 != 0]\n",
    "List"
   ]
  },
  {
   "cell_type": "markdown",
   "id": "65811280",
   "metadata": {},
   "source": [
    "#### 8. Sort a list of integers into positive and negative integers lists. [1,2,3,4,5,6,-1,-2,-3,-4,-5,0]"
   ]
  },
  {
   "cell_type": "code",
   "execution_count": 268,
   "id": "400fb35f",
   "metadata": {},
   "outputs": [
    {
     "name": "stdout",
     "output_type": "stream",
     "text": [
      "Positive Integers List : [0, 1, 2, 3, 4, 5, 6]\n",
      "Negative Integers List : [-5, -4, -3, -2, -1]\n"
     ]
    }
   ],
   "source": [
    "# Sort a list of integers into positive and negative integers lists. [1,2,3,4,5,6,-1,-2,-3,-4,-5,0]\n",
    "List = [1,2,3,4,5,6,-1,-2,-3,-4,-5,0]\n",
    "List1 = [str(i) for i in List]\n",
    "sorted_list = sorted(List1, key=lambda x: int(x[0:]))\n",
    "List2 = [int(i) for i in sorted_list]\n",
    "print(f'Positive Integers List : {[i for i in List2 if i>=0]}')\n",
    "# print(f'Negative Integers List : {[i for i in List if i<0]}')\n",
    "print(f'Negative Integers List : {[i for i in List if i<0][::-1]}')"
   ]
  },
  {
   "cell_type": "code",
   "execution_count": null,
   "id": "7c3c7b94",
   "metadata": {},
   "outputs": [],
   "source": []
  },
  {
   "cell_type": "code",
   "execution_count": null,
   "id": "2d2b37b4",
   "metadata": {},
   "outputs": [],
   "source": []
  }
 ],
 "metadata": {
  "kernelspec": {
   "display_name": "Python 3 (ipykernel)",
   "language": "python",
   "name": "python3"
  },
  "language_info": {
   "codemirror_mode": {
    "name": "ipython",
    "version": 3
   },
   "file_extension": ".py",
   "mimetype": "text/x-python",
   "name": "python",
   "nbconvert_exporter": "python",
   "pygments_lexer": "ipython3",
   "version": "3.7.1"
  }
 },
 "nbformat": 4,
 "nbformat_minor": 5
}
