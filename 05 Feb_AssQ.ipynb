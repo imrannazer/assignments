{
 "cells": [
  {
   "cell_type": "markdown",
   "id": "64c8cdc1",
   "metadata": {},
   "source": [
    "#### Q1. Explain Class and Object with respect to Object-Oriented Programming. Give a suitable example.\n"
   ]
  },
  {
   "cell_type": "markdown",
   "id": "7d9d7949",
   "metadata": {},
   "source": [
    "- class is not a real world entities   \n",
    "- A class is a blueprint/skeleton for creating objects, \n",
    "- Classes allow you to define the data and behavior that an object of that class should have\n",
    "- Class examples : \n",
    "  * Car : There is not define which car\n",
    "  * Student : All student in a collage\n",
    "  * Laptop : Without any compny name "
   ]
  },
  {
   "cell_type": "markdown",
   "id": "c4c430f9",
   "metadata": {},
   "source": [
    "- object is a real world entities     \n",
    "- object is a class variables\n",
    "- object examples : \n",
    "  * Oatmeal Car : Company define\n",
    "  * JNU Student : Collage define\n",
    "  * Lenovo Laptop : Company define"
   ]
  },
  {
   "cell_type": "code",
   "execution_count": 2,
   "id": "9255d88a",
   "metadata": {},
   "outputs": [
    {
     "data": {
      "text/plain": [
       "<__main__.Car at 0x17a2d66dac8>"
      ]
     },
     "execution_count": 2,
     "metadata": {},
     "output_type": "execute_result"
    }
   ],
   "source": [
    "# Create only class without any variable or method\n",
    "class Car:\n",
    "    pass\n",
    "car = Car()\n",
    "car"
   ]
  },
  {
   "cell_type": "code",
   "execution_count": 11,
   "id": "65d866c1",
   "metadata": {},
   "outputs": [
    {
     "data": {
      "text/plain": [
       "'Lenovo'"
      ]
     },
     "execution_count": 11,
     "metadata": {},
     "output_type": "execute_result"
    }
   ],
   "source": [
    "#Create a Laptop class and class method 'company_name()' will return laptop company name:  \n",
    "class Laptop:\n",
    "    def __init__(self, com_name):\n",
    "        self.com_name = com_name\n",
    "        \n",
    "    def company_name(self, com_name):\n",
    "        return self.com_name\n",
    "laptop = Laptop('Lenovo')\n",
    "laptop.com_name"
   ]
  },
  {
   "cell_type": "code",
   "execution_count": null,
   "id": "a2b8f018",
   "metadata": {},
   "outputs": [],
   "source": []
  },
  {
   "cell_type": "markdown",
   "id": "e908f03a",
   "metadata": {},
   "source": [
    "#### Q2. Name the four pillars of OOPS.\n"
   ]
  },
  {
   "cell_type": "markdown",
   "id": "2836ce4e",
   "metadata": {},
   "source": [
    "1. Inheritance\n",
    "2. Polymorphism\n",
    "3. Encapsulation\n",
    "4. Abstraction"
   ]
  },
  {
   "cell_type": "code",
   "execution_count": null,
   "id": "2cbb6d37",
   "metadata": {},
   "outputs": [],
   "source": []
  },
  {
   "cell_type": "markdown",
   "id": "757d57aa",
   "metadata": {},
   "source": [
    "#### Q3. Explain why the init__()__ function is used. Give a suitable example.\n"
   ]
  },
  {
   "cell_type": "markdown",
   "id": "78505032",
   "metadata": {},
   "source": [
    "-  __int()__ is a inbuilt function.\n",
    "-  __int()__ used to pass/assign class variable(s) or class data\n",
    "-  __int()__ variables will use in class methods / functions\n",
    "-  __int()__ also called constractor\n",
    "-  data will assign in class __int__ variables"
   ]
  },
  {
   "cell_type": "code",
   "execution_count": 21,
   "id": "0b375b17",
   "metadata": {},
   "outputs": [
    {
     "name": "stdout",
     "output_type": "stream",
     "text": [
      "name : Azad \n",
      "Age : 25, \n",
      "Email : azad@gmail.com\n"
     ]
    }
   ],
   "source": [
    "class Student:\n",
    "    def __init__(self, stud_name, stud_age, stud_email):\n",
    "        self.stud_name = stud_name\n",
    "        self.stud_age = stud_age\n",
    "        self.stud_email = stud_email\n",
    "    def stud_details(self):\n",
    "        return f'name : {self.stud_name} \\nAge : {self.stud_age}, \\nEmail : {self.stud_email}'\n",
    "azad = Student('Azad', 25, 'azad@gmail.com')\n",
    "print(azad.stud_details())"
   ]
  },
  {
   "cell_type": "code",
   "execution_count": null,
   "id": "226a1e7f",
   "metadata": {},
   "outputs": [],
   "source": []
  },
  {
   "cell_type": "markdown",
   "id": "9d2e2778",
   "metadata": {},
   "source": [
    "#### Q4. Why self is used in OOPS?\n"
   ]
  },
  {
   "cell_type": "markdown",
   "id": "7aa48e56",
   "metadata": {},
   "source": [
    "- You can't assess class variable without self key-word\n",
    "- self.variable is a variable and right side value is a value only\n",
    "- self.phone_no = phone_number here phone_number is a value \n",
    "- self will be first argument in every method in class\n",
    "- you can replace self with other key-words like sudh, pwskills, nazer, .etc"
   ]
  },
  {
   "cell_type": "code",
   "execution_count": null,
   "id": "21a3309e",
   "metadata": {},
   "outputs": [],
   "source": []
  },
  {
   "cell_type": "markdown",
   "id": "6d23c8a4",
   "metadata": {},
   "source": [
    "#### Q5. What is inheritance? Give an example for each type of inheritance."
   ]
  },
  {
   "cell_type": "markdown",
   "id": "72f39302",
   "metadata": {},
   "source": [
    "- Inheritance/ transfer\n",
    "- It generally means “inheriting or transfer of characteristics from parent to child class without any modification”.\n",
    "- The new class is called the derived/child class and the one from which it is derived is called a parent/base class."
   ]
  },
  {
   "cell_type": "markdown",
   "id": "74d8bbce",
   "metadata": {},
   "source": [
    "![https://www.edureka.co/blog/object-oriented-programming-python/#Inheritance ](https://d1jnx9ba8s6j9r.cloudfront.net/blog/wp-content/uploads/2017/07/Types-of-Inheritance.jpg)"
   ]
  },
  {
   "cell_type": "code",
   "execution_count": null,
   "id": "b5eff6c0",
   "metadata": {},
   "outputs": [],
   "source": []
  },
  {
   "cell_type": "code",
   "execution_count": 90,
   "id": "ee241ea9",
   "metadata": {
    "scrolled": true
   },
   "outputs": [
    {
     "name": "stdout",
     "output_type": "stream",
     "text": [
      "Print person name from parent class : Imran\n",
      "Print person name from child class : Nazer\n"
     ]
    }
   ],
   "source": [
    "#Single Inheritance\n",
    "class Person:\n",
    "    def __init__(self, name):\n",
    "        self.name = name\n",
    "    def name():\n",
    "        return self.name\n",
    "class Student(Person):\n",
    "    pass\n",
    "name1 = Person('Imran')\n",
    "print(f'Print person name from parent class : {name1.name}')\n",
    "\n",
    "name = Student('Nazer')\n",
    "print(f'Print person name from child class : {name.name}')"
   ]
  },
  {
   "cell_type": "code",
   "execution_count": 2,
   "id": "d56894b7",
   "metadata": {},
   "outputs": [
    {
     "name": "stdout",
     "output_type": "stream",
     "text": [
      "('nazer@gmail.com', 'Imran')\n",
      "Hi, Imran, Your email id is : nazer@gmail.com\n"
     ]
    }
   ],
   "source": [
    "#Multilevel Inheritance\n",
    "class Person:                    # Parent class\n",
    "    def __init__(self, name):\n",
    "        self.name = name\n",
    "    def name():\n",
    "        return self.name\n",
    "\n",
    "class Student(Person):           #child(Person) and parent(Nazer) class\n",
    "    def __init__(self, name):\n",
    "        super().__init__(name)\n",
    "    pass\n",
    "\n",
    "class Nazer(Student):            # child class for student\n",
    "    def __init__(self, name, email):\n",
    "        super().__init__(name)\n",
    "        self.email = email\n",
    "    \n",
    "    def stud_email(self):\n",
    "        return self.email, self.name\n",
    "    \n",
    "details = Nazer('Imran','nazer@gmail.com')\n",
    "print(details.stud_email())\n",
    "print(f'Hi, {details.name}, Your email id is : {details.email}')"
   ]
  },
  {
   "cell_type": "code",
   "execution_count": 92,
   "id": "88642a0c",
   "metadata": {},
   "outputs": [
    {
     "name": "stdout",
     "output_type": "stream",
     "text": [
      "Hi, Imran, You are 29 year old.\n",
      "Hi, Nazer, your mobile number is 9999999999\n"
     ]
    }
   ],
   "source": [
    "#Hieratchical Inheritance\n",
    "class Person:                               #parent class\n",
    "    def __init__(self, name):\n",
    "        self.name = name\n",
    "\n",
    "    \n",
    "class Student_age(Person):                  # first child class\n",
    "    def __init__(self,name,age):\n",
    "        super().__init__(name)\n",
    "        self.age = age\n",
    "    def stud_age(self):\n",
    "        return self.age\n",
    "\n",
    "    \n",
    "class Student_mobile(Person):               #second child class\n",
    "    def __init__(self,name, mobile):\n",
    "        super().__init__(name)\n",
    "        self.mobile = mobile\n",
    "    def stud_age(self):\n",
    "        return self.mobile,self.name\n",
    "\n",
    "name_age = Student_age('Imran',29)           # first child \n",
    "print(f'Hi, {name_age.name}, You are {name_age.age} year old.')\n",
    "\n",
    "name_mobile = Student_mobile('Nazer',9999999999)  #second child\n",
    "print(f'Hi, {name_mobile.name}, your mobile number is {name_mobile.mobile}')"
   ]
  },
  {
   "cell_type": "code",
   "execution_count": 93,
   "id": "0898aec6",
   "metadata": {},
   "outputs": [
    {
     "name": "stdout",
     "output_type": "stream",
     "text": [
      "Hi, Imran. You are 29 years old. Are you from Delhi?\n"
     ]
    }
   ],
   "source": [
    "#Multple Inheritance\n",
    "class Person1:\n",
    "    def __init__(self, name):\n",
    "        self.name = name\n",
    "    def name(self):\n",
    "        return self.name\n",
    "    \n",
    "    \n",
    "class Person2:\n",
    "    def __init__(self, address):\n",
    "        self.address = address\n",
    "    def name(self):\n",
    "        return self.address\n",
    "    \n",
    "    \n",
    "class Student(Person1, Person2):\n",
    "    def __init__(self, name, address,age):\n",
    "        Person1.__init__(self,name)\n",
    "        Person2.__init__(self,address)\n",
    "        self.age = age\n",
    "        \n",
    "    def details(self):\n",
    "        return self.name,self.address, self.age\n",
    "    \n",
    "    \n",
    "Student = Student('Imran', 'Delhi',29) \n",
    "# Student.address\n",
    "# Student.details()\n",
    "\n",
    "\n",
    "print(f'Hi, {Student.name}. You are {Student.age} years old. Are you from {Student.address}?')"
   ]
  }
 ],
 "metadata": {
  "kernelspec": {
   "display_name": "Python 3 (ipykernel)",
   "language": "python",
   "name": "python3"
  },
  "language_info": {
   "codemirror_mode": {
    "name": "ipython",
    "version": 3
   },
   "file_extension": ".py",
   "mimetype": "text/x-python",
   "name": "python",
   "nbconvert_exporter": "python",
   "pygments_lexer": "ipython3",
   "version": "3.7.1"
  }
 },
 "nbformat": 4,
 "nbformat_minor": 5
}
