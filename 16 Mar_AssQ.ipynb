{
 "cells": [
  {
   "cell_type": "markdown",
   "id": "a0148904",
   "metadata": {},
   "source": [
    "#### Q1: Define overfitting and underfitting in machine learning. What are the consequences of each, and how can they be mitigated?"
   ]
  },
  {
   "cell_type": "markdown",
   "id": "70c1a2bd",
   "metadata": {},
   "source": [
    "Ans :        \n",
    "- when model accuracy is high on train dataset but model accuracy is low on test dataset it is called **overfitting**\n",
    "- when model accuracy is low on train dataset and also model accuracy is low on test dataset it is called **underfitting**              \n",
    "In overfitting and underfitting model accuracy will be affected on a given dataset\n"
   ]
  },
  {
   "cell_type": "markdown",
   "id": "f708202c",
   "metadata": {},
   "source": [
    "#### Q2: How can we reduce overfitting? Explain in brief."
   ]
  },
  {
   "cell_type": "markdown",
   "id": "135abcd4",
   "metadata": {},
   "source": [
    "Ans : There is some technique, that can be used to handle overfitting\n",
    "- Increase the amount of data : Some time this problem happens when small amount of data\n",
    "- Simplify the model : Some time this type of problem occurs when we create a complex model\n",
    "- Use cross-validation: This technique will improve if any error is there.\n"
   ]
  },
  {
   "cell_type": "markdown",
   "id": "64ec3067",
   "metadata": {},
   "source": [
    "\n",
    "#### Q3: Explain underfitting. List scenarios where underfitting can occur in ML."
   ]
  },
  {
   "cell_type": "markdown",
   "id": "1a31ec0a",
   "metadata": {},
   "source": [
    "Ans : This problem happened when ML model accuracy with train dataset was low and also the accuracy with test dataset low             \n",
    "There is some reasons\n",
    "- Insufficient training data\n",
    "- Missing in Feature selection\n",
    "- Model complexity without any region\n"
   ]
  },
  {
   "cell_type": "markdown",
   "id": "1f687a87",
   "metadata": {},
   "source": [
    "\n",
    "#### Q4: Explain the bias-variance tradeoff in machine learning. What is the relationship between bias and variance, and how do they affect model performance?"
   ]
  },
  {
   "cell_type": "markdown",
   "id": "e103c0e5",
   "metadata": {},
   "source": [
    "Ans :          \n",
    "Both are using for checking model accuracy\n",
    "- Bias relate to train dataset accuracy and Variance relates to test dataset accuracy\n",
    "- If bias is high it means train dataset accuracy is low\n",
    "- if the variance is high it means test dataset accuracy is low\n"
   ]
  },
  {
   "cell_type": "markdown",
   "id": "2ecef39a",
   "metadata": {},
   "source": [
    "\n",
    "\n",
    "#### Q5: Discuss some common methods for detecting overfitting and underfitting in machine learning models. How can you determine whether your model is overfitting or underfitting?"
   ]
  },
  {
   "cell_type": "markdown",
   "id": "8e0382b8",
   "metadata": {},
   "source": [
    "Ans :          \n",
    "There is some common methods that are used to fix overfitting or underfitting in ML\n",
    "- Cross-validation : Check your model again\n",
    "- Hyperparameter Tuning : test model by using the validation dataset\n",
    "- Learning Curves about plots\n",
    "\n",
    "By using validation dataset check model accuracy\n"
   ]
  },
  {
   "cell_type": "markdown",
   "id": "459fc1cf",
   "metadata": {},
   "source": [
    "\n",
    "#### Q6: Compare and contrast bias and variance in machine learning. What are some examples of high bias and high variance models, and how do they differ in terms of their performance?"
   ]
  },
  {
   "cell_type": "markdown",
   "id": "d4800e49",
   "metadata": {},
   "source": [
    "Ans :        \n",
    "Bias and Variance are two important sources of error in machine learning models. Bias refers to the error that is introduced by the model's assumptions about the target function and is related to the model's simplicity. Variance refers to the error that is introduced by the model's sensitivity to fluctuations in the training data and is related to the model's complexity. Both high bias and high variance can lead to poor performance and generalization, and it is important to strike a balance between them by selecting an appropriate model complexity and regularization technique."
   ]
  },
  {
   "cell_type": "markdown",
   "id": "34484ba0",
   "metadata": {},
   "source": [
    "\n",
    "#### Q7: What is regularization in machine learning, and how can it be used to prevent overfitting? Describe some common regularization techniques and how they work."
   ]
  },
  {
   "cell_type": "markdown",
   "id": "917c7885",
   "metadata": {},
   "source": [
    "Ans : Regularization is a technique in machine learning used to prevent overfitting and improve the generalization performance of a model. It involves adding a penalty term to the loss function during training to encourage the model to have smaller weights, and therefore, be less complex."
   ]
  }
 ],
 "metadata": {
  "kernelspec": {
   "display_name": "Python 3 (ipykernel)",
   "language": "python",
   "name": "python3"
  },
  "language_info": {
   "codemirror_mode": {
    "name": "ipython",
    "version": 3
   },
   "file_extension": ".py",
   "mimetype": "text/x-python",
   "name": "python",
   "nbconvert_exporter": "python",
   "pygments_lexer": "ipython3",
   "version": "3.7.1"
  }
 },
 "nbformat": 4,
 "nbformat_minor": 5
}
