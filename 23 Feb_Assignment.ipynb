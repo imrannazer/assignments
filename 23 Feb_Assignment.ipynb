{
 "cells": [
  {
   "cell_type": "markdown",
   "id": "38441fa0",
   "metadata": {},
   "source": [
    "#### Q1. Create a Pandas Series that contains the following data: 4, 8, 15, 16, 23, and 42. Then, print the series.\n"
   ]
  },
  {
   "cell_type": "code",
   "execution_count": 1,
   "id": "5648a5de",
   "metadata": {},
   "outputs": [],
   "source": [
    "import pandas as pd"
   ]
  },
  {
   "cell_type": "code",
   "execution_count": null,
   "id": "d6466bbb",
   "metadata": {},
   "outputs": [],
   "source": [
    "List = [4, 8, 15, 16, 23, 42]\n",
    "pd.Series(List)"
   ]
  },
  {
   "cell_type": "code",
   "execution_count": 5,
   "id": "d9c4a120",
   "metadata": {},
   "outputs": [
    {
     "name": "stdout",
     "output_type": "stream",
     "text": [
      "0     4\n",
      "1     8\n",
      "2    15\n",
      "3    16\n",
      "4    23\n",
      "5    42\n",
      "dtype: int64\n"
     ]
    }
   ],
   "source": [
    "print(pd.Series(List))"
   ]
  },
  {
   "cell_type": "markdown",
   "id": "5d962b77",
   "metadata": {},
   "source": [
    "#### Q2. Create a variable of list type containing 10 elements in it, and apply pandas.Series function on the variable print it.\n"
   ]
  },
  {
   "cell_type": "code",
   "execution_count": 11,
   "id": "3b994dbd",
   "metadata": {},
   "outputs": [],
   "source": [
    "List = [i for i in range(1,40,4)]\n",
    "pd_series=pd.Series(List)"
   ]
  },
  {
   "cell_type": "code",
   "execution_count": 12,
   "id": "f21846aa",
   "metadata": {},
   "outputs": [
    {
     "name": "stdout",
     "output_type": "stream",
     "text": [
      "0     1\n",
      "1     5\n",
      "2     9\n",
      "3    13\n",
      "4    17\n",
      "5    21\n",
      "6    25\n",
      "7    29\n",
      "8    33\n",
      "9    37\n",
      "dtype: int64\n"
     ]
    }
   ],
   "source": [
    "print(pd_series)"
   ]
  },
  {
   "cell_type": "markdown",
   "id": "1ffa8ce3",
   "metadata": {},
   "source": [
    "#### Q3. Create a Pandas DataFrame that contains the following data:\n",
    "|Name|Age|Gender|\n",
    "|-------|------|--------|\n",
    "|Alice|25|Female|\n",
    "|Bob|30|Male|\n",
    "|Claire|27|Female|\n",
    "#### Then, print the DataFrame.\n"
   ]
  },
  {
   "cell_type": "code",
   "execution_count": 38,
   "id": "231b684e",
   "metadata": {},
   "outputs": [
    {
     "name": "stdout",
     "output_type": "stream",
     "text": [
      "    Name  Age  Gender\n",
      "   Alice   25  Female\n",
      "     Bob   30    Male\n",
      "  Claire   27  Female\n"
     ]
    }
   ],
   "source": [
    "List = [['Alice',25,'Female'],['Bob',30,'Male'],['Claire',27,'Female']]\n",
    "df = pd.DataFrame(List, index = ['','',''], columns=['Name','Age','Gender'])\n",
    "print(df)"
   ]
  },
  {
   "cell_type": "code",
   "execution_count": null,
   "id": "39a28e6b",
   "metadata": {},
   "outputs": [],
   "source": []
  },
  {
   "cell_type": "markdown",
   "id": "f26c2c5c",
   "metadata": {},
   "source": [
    "#### Q4. What is 'DataFrame' in pandas and how is it different from pandas.series? Explain with an example.\n"
   ]
  },
  {
   "cell_type": "markdown",
   "id": "33cc63cb",
   "metadata": {},
   "source": [
    "**DataFrame** Is a list of lists in structured data, in a common way \"multi-dimensional ndarray with axis labels\" Create DataFrame by using Lists, dict, Series, Numpy ndarrays, Another DataFrame excel file, etc. If you create DataFrame by using Dict then key will be DataFrame column name."
   ]
  },
  {
   "cell_type": "code",
   "execution_count": 5,
   "id": "2eb815ef",
   "metadata": {},
   "outputs": [
    {
     "data": {
      "text/html": [
       "<div>\n",
       "<style scoped>\n",
       "    .dataframe tbody tr th:only-of-type {\n",
       "        vertical-align: middle;\n",
       "    }\n",
       "\n",
       "    .dataframe tbody tr th {\n",
       "        vertical-align: top;\n",
       "    }\n",
       "\n",
       "    .dataframe thead th {\n",
       "        text-align: right;\n",
       "    }\n",
       "</style>\n",
       "<table border=\"1\" class=\"dataframe\">\n",
       "  <thead>\n",
       "    <tr style=\"text-align: right;\">\n",
       "      <th></th>\n",
       "      <th>0</th>\n",
       "      <th>1</th>\n",
       "      <th>2</th>\n",
       "      <th>3</th>\n",
       "    </tr>\n",
       "  </thead>\n",
       "  <tbody>\n",
       "    <tr>\n",
       "      <th>0</th>\n",
       "      <td>1</td>\n",
       "      <td>2</td>\n",
       "      <td>3</td>\n",
       "      <td>4</td>\n",
       "    </tr>\n",
       "    <tr>\n",
       "      <th>1</th>\n",
       "      <td>a</td>\n",
       "      <td>b</td>\n",
       "      <td>c</td>\n",
       "      <td>d</td>\n",
       "    </tr>\n",
       "    <tr>\n",
       "      <th>2</th>\n",
       "      <td>A</td>\n",
       "      <td>B</td>\n",
       "      <td>C</td>\n",
       "      <td>D</td>\n",
       "    </tr>\n",
       "  </tbody>\n",
       "</table>\n",
       "</div>"
      ],
      "text/plain": [
       "   0  1  2  3\n",
       "0  1  2  3  4\n",
       "1  a  b  c  d\n",
       "2  A  B  C  D"
      ]
     },
     "execution_count": 5,
     "metadata": {},
     "output_type": "execute_result"
    }
   ],
   "source": [
    "import pandas as pd\n",
    "L = [[1,2,3,4],['a','b','c','d'],['A','B','C','D']]\n",
    "df = pd.DataFrame(L)\n",
    "df"
   ]
  },
  {
   "cell_type": "markdown",
   "id": "61b37441",
   "metadata": {},
   "source": [
    "**pandas.series** Is a look-like list, in common way \"One-dimensional ndarray with axis labels\""
   ]
  },
  {
   "cell_type": "code",
   "execution_count": 7,
   "id": "925b64d3",
   "metadata": {},
   "outputs": [
    {
     "data": {
      "text/plain": [
       "0    [1, 2, 3, 4]\n",
       "1    [a, b, c, d]\n",
       "2    [A, B, C, D]\n",
       "dtype: object"
      ]
     },
     "execution_count": 7,
     "metadata": {},
     "output_type": "execute_result"
    }
   ],
   "source": [
    "L1 = [[1,2,3,4],['a','b','c','d'],['A','B','C','D']]\n",
    "seri = pd.Series(L1)\n",
    "seri"
   ]
  },
  {
   "cell_type": "markdown",
   "id": "4b59a856",
   "metadata": {},
   "source": [
    "#### Q5. What are some common functions you can use to manipulate data in a Pandas DataFrame? Can you give an example of when you might use one of these functions?\n"
   ]
  },
  {
   "cell_type": "markdown",
   "id": "3a292bbd",
   "metadata": {},
   "source": [
    "**1. pd.DataFrame( )** used to create or convert a dataframe"
   ]
  },
  {
   "cell_type": "code",
   "execution_count": 6,
   "id": "4b6a082e",
   "metadata": {},
   "outputs": [
    {
     "data": {
      "text/html": [
       "<div>\n",
       "<style scoped>\n",
       "    .dataframe tbody tr th:only-of-type {\n",
       "        vertical-align: middle;\n",
       "    }\n",
       "\n",
       "    .dataframe tbody tr th {\n",
       "        vertical-align: top;\n",
       "    }\n",
       "\n",
       "    .dataframe thead th {\n",
       "        text-align: right;\n",
       "    }\n",
       "</style>\n",
       "<table border=\"1\" class=\"dataframe\">\n",
       "  <thead>\n",
       "    <tr style=\"text-align: right;\">\n",
       "      <th></th>\n",
       "      <th>0</th>\n",
       "      <th>1</th>\n",
       "      <th>2</th>\n",
       "      <th>3</th>\n",
       "    </tr>\n",
       "  </thead>\n",
       "  <tbody>\n",
       "    <tr>\n",
       "      <th>0</th>\n",
       "      <td>3</td>\n",
       "      <td>4</td>\n",
       "      <td>5</td>\n",
       "      <td>6</td>\n",
       "    </tr>\n",
       "    <tr>\n",
       "      <th>1</th>\n",
       "      <td>4</td>\n",
       "      <td>5</td>\n",
       "      <td>6</td>\n",
       "      <td>7</td>\n",
       "    </tr>\n",
       "    <tr>\n",
       "      <th>2</th>\n",
       "      <td>9</td>\n",
       "      <td>8</td>\n",
       "      <td>7</td>\n",
       "      <td>6</td>\n",
       "    </tr>\n",
       "  </tbody>\n",
       "</table>\n",
       "</div>"
      ],
      "text/plain": [
       "   0  1  2  3\n",
       "0  3  4  5  6\n",
       "1  4  5  6  7\n",
       "2  9  8  7  6"
      ]
     },
     "execution_count": 6,
     "metadata": {},
     "output_type": "execute_result"
    }
   ],
   "source": [
    "import pandas as pd\n",
    "l = [[3,4,5,6],[4,5,6,7],[9,8,7,6]]\n",
    "df = pd.DataFrame(l)\n",
    "df"
   ]
  },
  {
   "cell_type": "markdown",
   "id": "8df71a04",
   "metadata": {},
   "source": [
    "**2. info( )** Used to get all information about dataframe"
   ]
  },
  {
   "cell_type": "code",
   "execution_count": 7,
   "id": "aac3af40",
   "metadata": {},
   "outputs": [
    {
     "name": "stdout",
     "output_type": "stream",
     "text": [
      "<class 'pandas.core.frame.DataFrame'>\n",
      "RangeIndex: 3 entries, 0 to 2\n",
      "Data columns (total 4 columns):\n",
      " #   Column  Non-Null Count  Dtype\n",
      "---  ------  --------------  -----\n",
      " 0   0       3 non-null      int64\n",
      " 1   1       3 non-null      int64\n",
      " 2   2       3 non-null      int64\n",
      " 3   3       3 non-null      int64\n",
      "dtypes: int64(4)\n",
      "memory usage: 224.0 bytes\n"
     ]
    }
   ],
   "source": [
    "df.info()"
   ]
  },
  {
   "cell_type": "markdown",
   "id": "b4d8317b",
   "metadata": {},
   "source": [
    "**3. head( )** used to get upper 5 rows by default (you can change)"
   ]
  },
  {
   "cell_type": "code",
   "execution_count": 9,
   "id": "e386536a",
   "metadata": {},
   "outputs": [
    {
     "data": {
      "text/html": [
       "<div>\n",
       "<style scoped>\n",
       "    .dataframe tbody tr th:only-of-type {\n",
       "        vertical-align: middle;\n",
       "    }\n",
       "\n",
       "    .dataframe tbody tr th {\n",
       "        vertical-align: top;\n",
       "    }\n",
       "\n",
       "    .dataframe thead th {\n",
       "        text-align: right;\n",
       "    }\n",
       "</style>\n",
       "<table border=\"1\" class=\"dataframe\">\n",
       "  <thead>\n",
       "    <tr style=\"text-align: right;\">\n",
       "      <th></th>\n",
       "      <th>0</th>\n",
       "      <th>1</th>\n",
       "      <th>2</th>\n",
       "      <th>3</th>\n",
       "    </tr>\n",
       "  </thead>\n",
       "  <tbody>\n",
       "    <tr>\n",
       "      <th>0</th>\n",
       "      <td>3</td>\n",
       "      <td>4</td>\n",
       "      <td>5</td>\n",
       "      <td>6</td>\n",
       "    </tr>\n",
       "    <tr>\n",
       "      <th>1</th>\n",
       "      <td>4</td>\n",
       "      <td>5</td>\n",
       "      <td>6</td>\n",
       "      <td>7</td>\n",
       "    </tr>\n",
       "  </tbody>\n",
       "</table>\n",
       "</div>"
      ],
      "text/plain": [
       "   0  1  2  3\n",
       "0  3  4  5  6\n",
       "1  4  5  6  7"
      ]
     },
     "execution_count": 9,
     "metadata": {},
     "output_type": "execute_result"
    }
   ],
   "source": [
    "df.head(2) "
   ]
  },
  {
   "cell_type": "markdown",
   "id": "02804a3e",
   "metadata": {},
   "source": [
    "**4. tail( )** used to get 5 rows from last(you can change it)"
   ]
  },
  {
   "cell_type": "code",
   "execution_count": 11,
   "id": "5b27a72a",
   "metadata": {},
   "outputs": [
    {
     "data": {
      "text/html": [
       "<div>\n",
       "<style scoped>\n",
       "    .dataframe tbody tr th:only-of-type {\n",
       "        vertical-align: middle;\n",
       "    }\n",
       "\n",
       "    .dataframe tbody tr th {\n",
       "        vertical-align: top;\n",
       "    }\n",
       "\n",
       "    .dataframe thead th {\n",
       "        text-align: right;\n",
       "    }\n",
       "</style>\n",
       "<table border=\"1\" class=\"dataframe\">\n",
       "  <thead>\n",
       "    <tr style=\"text-align: right;\">\n",
       "      <th></th>\n",
       "      <th>0</th>\n",
       "      <th>1</th>\n",
       "      <th>2</th>\n",
       "      <th>3</th>\n",
       "    </tr>\n",
       "  </thead>\n",
       "  <tbody>\n",
       "    <tr>\n",
       "      <th>1</th>\n",
       "      <td>4</td>\n",
       "      <td>5</td>\n",
       "      <td>6</td>\n",
       "      <td>7</td>\n",
       "    </tr>\n",
       "    <tr>\n",
       "      <th>2</th>\n",
       "      <td>9</td>\n",
       "      <td>8</td>\n",
       "      <td>7</td>\n",
       "      <td>6</td>\n",
       "    </tr>\n",
       "  </tbody>\n",
       "</table>\n",
       "</div>"
      ],
      "text/plain": [
       "   0  1  2  3\n",
       "1  4  5  6  7\n",
       "2  9  8  7  6"
      ]
     },
     "execution_count": 11,
     "metadata": {},
     "output_type": "execute_result"
    }
   ],
   "source": [
    "df.tail(2)"
   ]
  },
  {
   "cell_type": "markdown",
   "id": "5cc00313",
   "metadata": {},
   "source": [
    "**5. read_csv( )** used to read csv file  "
   ]
  },
  {
   "cell_type": "code",
   "execution_count": null,
   "id": "5367d91c",
   "metadata": {},
   "outputs": [],
   "source": [
    "pd.read_csv(\"file path\")"
   ]
  },
  {
   "cell_type": "markdown",
   "id": "ce78708c",
   "metadata": {},
   "source": [
    "**6. read_excel( )** used to read excel file"
   ]
  },
  {
   "cell_type": "code",
   "execution_count": null,
   "id": "d97dd901",
   "metadata": {},
   "outputs": [],
   "source": [
    "pd.read_excel('file path')            # file must be unlocked"
   ]
  },
  {
   "cell_type": "markdown",
   "id": "4897fd11",
   "metadata": {},
   "source": [
    "#### Q6. Which of the following is mutable in nature Series, DataFrame, Panel?\n"
   ]
  },
  {
   "cell_type": "markdown",
   "id": "40b5cd7b",
   "metadata": {},
   "source": [
    "**Series** pandas series is mutable, you can change element in series pandas"
   ]
  },
  {
   "cell_type": "code",
   "execution_count": 3,
   "id": "30a5f163",
   "metadata": {},
   "outputs": [
    {
     "data": {
      "text/plain": [
       "0    Sun\n",
       "1    Mon\n",
       "2    Thu\n",
       "3    Wed\n",
       "dtype: object"
      ]
     },
     "execution_count": 3,
     "metadata": {},
     "output_type": "execute_result"
    }
   ],
   "source": [
    "import pandas as pd\n",
    "s = pd.Series(['Sun','Mon','Tue','Wed'])\n",
    "s[2] = 'Thu'\n",
    "s"
   ]
  },
  {
   "cell_type": "markdown",
   "id": "6664c3a5",
   "metadata": {},
   "source": [
    "**DataFrame** is also mutable"
   ]
  },
  {
   "cell_type": "code",
   "execution_count": 4,
   "id": "ff098d2e",
   "metadata": {},
   "outputs": [],
   "source": [
    "import pandas as pd\n",
    "\n",
    "data = {'name': ['John', 'Mary', 'Peter', 'Jane'],\n",
    "        'age': [25, 32, 18, 47],\n",
    "        'gender': ['M', 'F', 'M', 'F']}\n",
    "\n",
    "df = pd.DataFrame(data)\n"
   ]
  },
  {
   "cell_type": "code",
   "execution_count": 5,
   "id": "9787cc04",
   "metadata": {},
   "outputs": [],
   "source": [
    "df.loc[0, 'age'] = 26"
   ]
  },
  {
   "cell_type": "code",
   "execution_count": 6,
   "id": "db67ec5d",
   "metadata": {},
   "outputs": [
    {
     "data": {
      "text/html": [
       "<div>\n",
       "<style scoped>\n",
       "    .dataframe tbody tr th:only-of-type {\n",
       "        vertical-align: middle;\n",
       "    }\n",
       "\n",
       "    .dataframe tbody tr th {\n",
       "        vertical-align: top;\n",
       "    }\n",
       "\n",
       "    .dataframe thead th {\n",
       "        text-align: right;\n",
       "    }\n",
       "</style>\n",
       "<table border=\"1\" class=\"dataframe\">\n",
       "  <thead>\n",
       "    <tr style=\"text-align: right;\">\n",
       "      <th></th>\n",
       "      <th>name</th>\n",
       "      <th>age</th>\n",
       "      <th>gender</th>\n",
       "    </tr>\n",
       "  </thead>\n",
       "  <tbody>\n",
       "    <tr>\n",
       "      <th>0</th>\n",
       "      <td>John</td>\n",
       "      <td>26</td>\n",
       "      <td>M</td>\n",
       "    </tr>\n",
       "    <tr>\n",
       "      <th>1</th>\n",
       "      <td>Mary</td>\n",
       "      <td>32</td>\n",
       "      <td>F</td>\n",
       "    </tr>\n",
       "    <tr>\n",
       "      <th>2</th>\n",
       "      <td>Peter</td>\n",
       "      <td>18</td>\n",
       "      <td>M</td>\n",
       "    </tr>\n",
       "    <tr>\n",
       "      <th>3</th>\n",
       "      <td>Jane</td>\n",
       "      <td>47</td>\n",
       "      <td>F</td>\n",
       "    </tr>\n",
       "  </tbody>\n",
       "</table>\n",
       "</div>"
      ],
      "text/plain": [
       "    name  age gender\n",
       "0   John   26      M\n",
       "1   Mary   32      F\n",
       "2  Peter   18      M\n",
       "3   Jane   47      F"
      ]
     },
     "execution_count": 6,
     "metadata": {},
     "output_type": "execute_result"
    }
   ],
   "source": [
    "df"
   ]
  },
  {
   "cell_type": "markdown",
   "id": "29023553",
   "metadata": {},
   "source": [
    "**Panel** It has been removed in version 1.0.0. Now DataFrame is a best way to read data."
   ]
  },
  {
   "cell_type": "markdown",
   "id": "29b2bf0e",
   "metadata": {},
   "source": [
    "#### Q7. Create a DataFrame using multiple Series. Explain with an example."
   ]
  },
  {
   "cell_type": "code",
   "execution_count": 12,
   "id": "b29f32ee",
   "metadata": {},
   "outputs": [
    {
     "data": {
      "text/html": [
       "<div>\n",
       "<style scoped>\n",
       "    .dataframe tbody tr th:only-of-type {\n",
       "        vertical-align: middle;\n",
       "    }\n",
       "\n",
       "    .dataframe tbody tr th {\n",
       "        vertical-align: top;\n",
       "    }\n",
       "\n",
       "    .dataframe thead th {\n",
       "        text-align: right;\n",
       "    }\n",
       "</style>\n",
       "<table border=\"1\" class=\"dataframe\">\n",
       "  <thead>\n",
       "    <tr style=\"text-align: right;\">\n",
       "      <th></th>\n",
       "      <th>0</th>\n",
       "      <th>1</th>\n",
       "      <th>2</th>\n",
       "    </tr>\n",
       "  </thead>\n",
       "  <tbody>\n",
       "    <tr>\n",
       "      <th>0</th>\n",
       "      <td>Alice</td>\n",
       "      <td>25</td>\n",
       "      <td>Female</td>\n",
       "    </tr>\n",
       "    <tr>\n",
       "      <th>1</th>\n",
       "      <td>Bob</td>\n",
       "      <td>30</td>\n",
       "      <td>Male</td>\n",
       "    </tr>\n",
       "    <tr>\n",
       "      <th>2</th>\n",
       "      <td>Claire</td>\n",
       "      <td>27</td>\n",
       "      <td>Female</td>\n",
       "    </tr>\n",
       "  </tbody>\n",
       "</table>\n",
       "</div>"
      ],
      "text/plain": [
       "        0   1       2\n",
       "0   Alice  25  Female\n",
       "1     Bob  30    Male\n",
       "2  Claire  27  Female"
      ]
     },
     "execution_count": 12,
     "metadata": {},
     "output_type": "execute_result"
    }
   ],
   "source": [
    "List = pd.Series(['Alice',25,'Female'])\n",
    "List2 = pd.Series(['Bob',30,'Male'])\n",
    "List3 = pd.Series(['Claire',27,'Female'])\n",
    "\n",
    "df = pd.DataFrame([List,List2,List3])\n",
    "df"
   ]
  }
 ],
 "metadata": {
  "kernelspec": {
   "display_name": "Python 3 (ipykernel)",
   "language": "python",
   "name": "python3"
  },
  "language_info": {
   "codemirror_mode": {
    "name": "ipython",
    "version": 3
   },
   "file_extension": ".py",
   "mimetype": "text/x-python",
   "name": "python",
   "nbconvert_exporter": "python",
   "pygments_lexer": "ipython3",
   "version": "3.7.1"
  }
 },
 "nbformat": 4,
 "nbformat_minor": 5
}
