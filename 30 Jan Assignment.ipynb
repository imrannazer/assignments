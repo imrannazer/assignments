{
 "cells": [
  {
   "cell_type": "markdown",
   "id": "a01a38fb-1751-4edd-a6cd-fe4f3bae63c5",
   "metadata": {},
   "source": [
    "#### Q 1.\tWrite a program to accept percentage from the user and display the grade according to the following criteria:\n"
   ]
  },
  {
   "cell_type": "markdown",
   "id": "416783c0-4b8e-4eb4-bb51-995355160a3d",
   "metadata": {},
   "source": [
    "|Marks|Grade|\n",
    "|-------|-------|\n",
    "|>90|A|\n",
    "|>80 and <=90|B|\n",
    "|>=60 and <=80|C|\n",
    "|below 60|D|\n",
    "|||"
   ]
  },
  {
   "cell_type": "code",
   "execution_count": 16,
   "id": "3914b24e-d298-4675-b776-b5d4d653534e",
   "metadata": {},
   "outputs": [
    {
     "name": "stdout",
     "output_type": "stream",
     "text": [
      "Enter percentage : 50\n",
      "D\n"
     ]
    }
   ],
   "source": [
    "Input = int(input('Enter percentage : '))\n",
    "if Input>90:\n",
    "    print(\"A\")\n",
    "elif 90>=Input>80:\n",
    "    print(\"B\")\n",
    "elif 80>=Input>=60:\n",
    "    print(\"C\")\n",
    "else:\n",
    "    print(\"D\")"
   ]
  },
  {
   "cell_type": "markdown",
   "id": "5763cf16-dee8-4b3f-87bd-a1ec36d8c66e",
   "metadata": {},
   "source": [
    "#### Q 2. Write a program to accept the cose price of a bike and display the road tax to be paid according to the following criteria:\n"
   ]
  },
  {
   "cell_type": "markdown",
   "id": "cf98ace9-e81c-4de8-9794-25ea6c7b1788",
   "metadata": {},
   "source": [
    "|Tax|Cose Price (in Rs)|\n",
    "|-------|-------|\n",
    "|15%|>100000|\n",
    "|10%|>50000 and <= 100000|\n",
    "|5%|<= 50000|\n",
    "|||"
   ]
  },
  {
   "cell_type": "code",
   "execution_count": 1,
   "id": "bcdabe09-70e4-4151-a790-e35b8bbebfbe",
   "metadata": {},
   "outputs": [
    {
     "name": "stdout",
     "output_type": "stream",
     "text": [
      "Enter bike price : 58623\n",
      "Tax : 10%\n"
     ]
    }
   ],
   "source": [
    "Input = int(input('Enter bike price : '))\n",
    "if Input>100000:\n",
    "    print(\"Tax : 15%\")\n",
    "elif 100000>=Input>50000:\n",
    "    print(\"Tax : 10%\")\n",
    "else:\n",
    "    print(\"Tax : 5%\")"
   ]
  },
  {
   "cell_type": "markdown",
   "id": "64d6baa5-4fb8-4fe6-8e20-8f28c7bafac9",
   "metadata": {},
   "source": [
    "#### Q 3. Accept any city form the user and display monuments of the city.\n"
   ]
  },
  {
   "cell_type": "markdown",
   "id": "55072e2e-8921-4fe3-954b-ce5d29cc58fa",
   "metadata": {},
   "source": [
    "|City|Monument|\n",
    "|-------|-------|\n",
    "|Delhi|Red Fort|\n",
    "|Agra|Taj Mahal|\n",
    "|Jaipur|Jal Mahal|\n",
    "|||"
   ]
  },
  {
   "cell_type": "code",
   "execution_count": 14,
   "id": "1fa9a707-90dd-4315-87b4-50cf2428cb2b",
   "metadata": {},
   "outputs": [
    {
     "name": "stdin",
     "output_type": "stream",
     "text": [
      "Enter bike price :  Delhi\n"
     ]
    },
    {
     "name": "stdout",
     "output_type": "stream",
     "text": [
      "Red Fort\n"
     ]
    }
   ],
   "source": [
    "Input = input('Enter bike price : ')\n",
    "if Input == \"Delhi\":\n",
    "    print(\"Red Fort\")\n",
    "elif Input == \"Agra\":\n",
    "    print(\"Taj Mahal\")\n",
    "else:\n",
    "    print(\"Jal Mahal\")"
   ]
  },
  {
   "cell_type": "markdown",
   "id": "66fc84c8-de0d-4796-97c4-d88a1f5ce982",
   "metadata": {},
   "source": [
    "#### Q 4. Check how many times a given number can be divided by 3 before it is less than of equal to 10.\n"
   ]
  },
  {
   "cell_type": "code",
   "execution_count": 1,
   "id": "7a261e72-c7ca-4d5e-bd63-d8132c90c78e",
   "metadata": {},
   "outputs": [
    {
     "name": "stdin",
     "output_type": "stream",
     "text": [
      "Enter a number :  13\n"
     ]
    },
    {
     "name": "stdout",
     "output_type": "stream",
     "text": [
      "1\n"
     ]
    }
   ],
   "source": [
    "n = int(input(\"Enter a number : \"))\n",
    "count = 0\n",
    "while n > 10:\n",
    "    count +=1\n",
    "    n -=3\n",
    "    if n<=10:\n",
    "        break\n",
    "print(count)"
   ]
  },
  {
   "cell_type": "code",
   "execution_count": null,
   "id": "cfb6265f-4f84-41f0-97c8-57482de8d8c7",
   "metadata": {},
   "outputs": [],
   "source": []
  },
  {
   "cell_type": "markdown",
   "id": "4948dfff-5795-432a-9aaa-0a83b217db96",
   "metadata": {},
   "source": [
    "#### Q 5. Why and when to use while loop in python give a detailed description with example\n"
   ]
  },
  {
   "cell_type": "markdown",
   "id": "0f953aea-10bb-4f57-b090-50f95ddb81e9",
   "metadata": {},
   "source": [
    "- A while loop evaluates the when condition is True\n",
    "- If the condition evaluates to True, the code inside the while loop is executed.\n",
    "- condition is evaluated again.\n",
    "- This process continues until the condition is False.\n",
    "- When condition evaluates to False, the loop stops.\n"
   ]
  },
  {
   "cell_type": "code",
   "execution_count": 3,
   "id": "94e548fe-d9b2-46b3-98e3-5b374aff367b",
   "metadata": {},
   "outputs": [
    {
     "name": "stdout",
     "output_type": "stream",
     "text": [
      "1 2 3 4 5 6 7 8 9 10 11 12 13 14 15 16 17 18 19 "
     ]
    }
   ],
   "source": [
    "# I know to print 1 to 20 numbers, therefore using here for loop\n",
    "for i in range(1,20):\n",
    "    print(i, end = ' ')"
   ]
  },
  {
   "cell_type": "code",
   "execution_count": 6,
   "id": "ddf73162",
   "metadata": {},
   "outputs": [
    {
     "name": "stdout",
     "output_type": "stream",
     "text": [
      "0, 1, 2, 3, 4, 5, 6, 7, 8, 9, "
     ]
    }
   ],
   "source": [
    "# in this case i dont how many times num will be executed but less than 10\n",
    "num = 0\n",
    "while num<10:\n",
    "    print(num, end = ', ')\n",
    "    num +=1"
   ]
  },
  {
   "cell_type": "markdown",
   "id": "a12c3dde-9b73-42c1-8b7b-d433829bfc00",
   "metadata": {},
   "source": [
    "#### Q 6. Use nested while loop to print 3 different pattern.\n",
    "\n"
   ]
  },
  {
   "cell_type": "code",
   "execution_count": 5,
   "id": "4c4cc677-ab25-4e4a-a565-b02fa258c83b",
   "metadata": {},
   "outputs": [
    {
     "name": "stdin",
     "output_type": "stream",
     "text": [
      "Enter row number :  10\n"
     ]
    },
    {
     "name": "stdout",
     "output_type": "stream",
     "text": [
      "\n",
      "* * * * * * * * * * \n",
      "* * * * * * * * * \n",
      "* * * * * * * * \n",
      "* * * * * * * \n",
      "* * * * * * \n",
      "* * * * * \n",
      "* * * * \n",
      "* * * \n",
      "* * \n",
      "* "
     ]
    }
   ],
   "source": [
    "row = int(input(\"Enter row number : \"))\n",
    "while row>0:\n",
    "    print()\n",
    "    column = 0\n",
    "    while column < row:\n",
    "        print(\"*\", end=' ')\n",
    "        column +=1\n",
    "    row -=1"
   ]
  },
  {
   "cell_type": "code",
   "execution_count": null,
   "id": "4ca13d2a-c041-4091-a407-3a4ccaaacf1e",
   "metadata": {},
   "outputs": [],
   "source": []
  },
  {
   "cell_type": "code",
   "execution_count": 7,
   "id": "4f36696e-76e8-4e46-af69-6217521f77eb",
   "metadata": {},
   "outputs": [
    {
     "name": "stdout",
     "output_type": "stream",
     "text": [
      "Enter row number : 6\n",
      "\n",
      "* \n",
      "* * \n",
      "* * * \n",
      "* * * * \n",
      "* * * * * \n",
      "* * * * * * \n"
     ]
    }
   ],
   "source": [
    "row = int(input(\"Enter row number : \"))\n",
    "num = 0\n",
    "while num <= row:\n",
    "    print(\"* \"*num)\n",
    "    num +=1"
   ]
  },
  {
   "cell_type": "code",
   "execution_count": 15,
   "id": "697f3ce7-873d-4374-8c1e-cca1cfb78a92",
   "metadata": {},
   "outputs": [
    {
     "name": "stdout",
     "output_type": "stream",
     "text": [
      "Enter row number : 5\n",
      "\n",
      "* \n",
      "* * \n",
      "* * * \n",
      "* * * * \n",
      "* * * * * \n",
      "* * * * \n",
      "* * * \n",
      "* * \n",
      "* \n"
     ]
    }
   ],
   "source": [
    "row = int(input(\"Enter row number : \"))\n",
    "num = 0\n",
    "while num <= row:\n",
    "    print(\"* \"*num)\n",
    "    num +=1\n",
    "    if num > row:\n",
    "        row = row-1\n",
    "        num = -row +2\n",
    "        while num <= row:\n",
    "            print(\"* \"*row)\n",
    "            num +=1\n",
    "            row -=1"
   ]
  },
  {
   "cell_type": "code",
   "execution_count": null,
   "id": "5de0ddc9-c032-4c2b-8622-c6537cba8632",
   "metadata": {},
   "outputs": [],
   "source": []
  },
  {
   "cell_type": "code",
   "execution_count": null,
   "id": "5cc465c1-fe22-473d-aaaf-f8ce94257324",
   "metadata": {},
   "outputs": [],
   "source": []
  },
  {
   "cell_type": "markdown",
   "id": "e7cd2c07-58ed-4fdd-8d9b-c65eb2197240",
   "metadata": {},
   "source": [
    "#### Q 7. Reverse a while loop to display numbers form 10 to 1.\t\n"
   ]
  },
  {
   "cell_type": "code",
   "execution_count": 8,
   "id": "5d9d65f1-4fb4-4d9b-af1a-6f8f8341e9cd",
   "metadata": {},
   "outputs": [
    {
     "name": "stdout",
     "output_type": "stream",
     "text": [
      "10,9,8,7,6,5,4,3,2,1,"
     ]
    }
   ],
   "source": [
    "a = 10\n",
    "while 1<=a<=10:\n",
    "    print(a, end=',')\n",
    "    a -=1"
   ]
  },
  {
   "cell_type": "code",
   "execution_count": null,
   "id": "e59bf293-64e4-42ff-b3ff-2aabf915e4b4",
   "metadata": {},
   "outputs": [],
   "source": []
  },
  {
   "cell_type": "code",
   "execution_count": null,
   "id": "03ba912e-3430-4fa2-9c97-0294c623d035",
   "metadata": {},
   "outputs": [],
   "source": []
  }
 ],
 "metadata": {
  "kernelspec": {
   "display_name": "Python 3 (ipykernel)",
   "language": "python",
   "name": "python3"
  },
  "language_info": {
   "codemirror_mode": {
    "name": "ipython",
    "version": 3
   },
   "file_extension": ".py",
   "mimetype": "text/x-python",
   "name": "python",
   "nbconvert_exporter": "python",
   "pygments_lexer": "ipython3",
   "version": "3.7.1"
  }
 },
 "nbformat": 4,
 "nbformat_minor": 5
}
