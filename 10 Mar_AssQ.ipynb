{
 "cells": [
  {
   "cell_type": "code",
   "execution_count": 1,
   "id": "ef4f0f91",
   "metadata": {},
   "outputs": [],
   "source": [
    "import numpy as np\n",
    "import math\n",
    "import pandas as pd\n",
    "import scipy.stats as stats\n",
    "import numpy as np\n",
    "import matplotlib.pyplot as plt"
   ]
  },
  {
   "cell_type": "markdown",
   "id": "0e4f4c94",
   "metadata": {},
   "source": [
    "#### Q1: What is Estimation Statistics? Explain point estimate and interval estimate."
   ]
  },
  {
   "cell_type": "markdown",
   "id": "4743abea",
   "metadata": {},
   "source": [
    "Ans : \n",
    "\n",
    "Estimate is a part of Inferential Statistics.\n",
    "It is an observation of numerical value by using sample to estimate an unknown population parameter(mean, median, variance, etc)..\n",
    "\n",
    "**Estimate** : It is an observed of numerical value by using sample to estimate an unknown population parameter(mean, median, variance, etc)..\n",
    "**Estimation** : It is a process used to estimate population parameter by using population sample dataset\n",
    "\n",
    "**Point Estimate** : Single numerical value used to estimate the unknown population parameter. Sometimes we are not able to find out population mean due to data loss(null, NaN) etc, then we use estimates to solve         \n",
    "**Interval Estimate** : Range of value used to estimate the unknown population parameter, It is called interval estimate"
   ]
  },
  {
   "cell_type": "markdown",
   "id": "79e36194",
   "metadata": {},
   "source": [
    "#### Q2. Write a Python function to estimate the population mean using a sample mean and standard deviation."
   ]
  },
  {
   "cell_type": "code",
   "execution_count": 2,
   "id": "0d3da67a",
   "metadata": {},
   "outputs": [
    {
     "data": {
      "text/plain": [
       "(49.910301140627425, 44.52856531822319, 55.29203696303166)"
      ]
     },
     "execution_count": 2,
     "metadata": {},
     "output_type": "execute_result"
    }
   ],
   "source": [
    "def estimate_population_mean(sample_mean, sample_std_dev, sample_size):\n",
    "    # calculate the standard error of the mean\n",
    "    std_error = sample_std_dev / math.sqrt(sample_size)\n",
    "    \n",
    "    # calculate the margin of error (using a 95% confidence level)\n",
    "    margin_of_error = 1.96 * std_error\n",
    "    \n",
    "    # calculate the lower and upper bounds of the confidence interval\n",
    "    lower_bound = sample_mean - margin_of_error\n",
    "    upper_bound = sample_mean + margin_of_error\n",
    "    \n",
    "    # return the estimated population mean and confidence interval\n",
    "    return (sample_mean, lower_bound, upper_bound)\n",
    "\n",
    "#population dataset\n",
    "population_data = np.random.normal(50,10,1000)\n",
    "#sample dataset\n",
    "sample_data = np.random.choice(population_data, 10)\n",
    "#sample_mean, sample_std_dev, sample_size\n",
    "sample_mean = sample_data.mean()\n",
    "sample_std_dev = sample_data.std()\n",
    "sample_size = len(sample_data)\n",
    "estimate_population_mean(sample_mean, sample_std_dev, sample_size)"
   ]
  },
  {
   "cell_type": "markdown",
   "id": "49ec5085",
   "metadata": {},
   "source": [
    "#### Q3: What is Hypothesis testing? Why is it used? State the importance of Hypothesis testing."
   ]
  },
  {
   "cell_type": "markdown",
   "id": "589e84f6",
   "metadata": {},
   "source": [
    "Ans : \n",
    "\n",
    "Hypothesis testing is an assumption about a population parameter that is being tested using data from a sample.\n",
    "It is used to quantify/ verify the probability that our sample mean is unusual.\n",
    "\n",
    "State the importance of Hypothesis testing\n",
    "- decision-making\n",
    "- validity of claims (True of False)"
   ]
  },
  {
   "cell_type": "markdown",
   "id": "f1f21f64",
   "metadata": {},
   "source": [
    "#### Q4. Create a hypothesis that states whether the average weight of male college students is greater than the average weight of female college students."
   ]
  },
  {
   "cell_type": "markdown",
   "id": "e12dd7bb",
   "metadata": {},
   "source": [
    "Ans : \n",
    "\n",
    "- 1. H<sub>0</sub> xbar<sub>(male_student)</sub> > xbar<sub>(female_student)</sub> \n",
    "- 2. H<sub>1</sub> xbar<sub>(male_student)</sub> <= xbar<sub>(female_student)</sub>\n",
    "- 3. this is two tail test\n",
    "- 4. alpha = 1 - C.I and  dof = n - 1\n",
    "- 5. if n >= 30 and std is known use z-table, other wise use t-table\n",
    "- 6. Conslussion"
   ]
  },
  {
   "cell_type": "code",
   "execution_count": 3,
   "id": "88d52338",
   "metadata": {},
   "outputs": [
    {
     "data": {
      "text/html": [
       "<div>\n",
       "<style scoped>\n",
       "    .dataframe tbody tr th:only-of-type {\n",
       "        vertical-align: middle;\n",
       "    }\n",
       "\n",
       "    .dataframe tbody tr th {\n",
       "        vertical-align: top;\n",
       "    }\n",
       "\n",
       "    .dataframe thead th {\n",
       "        text-align: right;\n",
       "    }\n",
       "</style>\n",
       "<table border=\"1\" class=\"dataframe\">\n",
       "  <thead>\n",
       "    <tr style=\"text-align: right;\">\n",
       "      <th></th>\n",
       "      <th>m_weight</th>\n",
       "      <th>f_weight</th>\n",
       "    </tr>\n",
       "  </thead>\n",
       "  <tbody>\n",
       "    <tr>\n",
       "      <th>0</th>\n",
       "      <td>29</td>\n",
       "      <td>45</td>\n",
       "    </tr>\n",
       "    <tr>\n",
       "      <th>1</th>\n",
       "      <td>25</td>\n",
       "      <td>80</td>\n",
       "    </tr>\n",
       "    <tr>\n",
       "      <th>2</th>\n",
       "      <td>28</td>\n",
       "      <td>27</td>\n",
       "    </tr>\n",
       "    <tr>\n",
       "      <th>3</th>\n",
       "      <td>57</td>\n",
       "      <td>28</td>\n",
       "    </tr>\n",
       "    <tr>\n",
       "      <th>4</th>\n",
       "      <td>60</td>\n",
       "      <td>29</td>\n",
       "    </tr>\n",
       "    <tr>\n",
       "      <th>5</th>\n",
       "      <td>75</td>\n",
       "      <td>10</td>\n",
       "    </tr>\n",
       "    <tr>\n",
       "      <th>6</th>\n",
       "      <td>90</td>\n",
       "      <td>20</td>\n",
       "    </tr>\n",
       "  </tbody>\n",
       "</table>\n",
       "</div>"
      ],
      "text/plain": [
       "   m_weight  f_weight\n",
       "0        29        45\n",
       "1        25        80\n",
       "2        28        27\n",
       "3        57        28\n",
       "4        60        29\n",
       "5        75        10\n",
       "6        90        20"
      ]
     },
     "execution_count": 3,
     "metadata": {},
     "output_type": "execute_result"
    }
   ],
   "source": [
    "\n",
    "data = {\n",
    "    'm_weight' : [29,25,28,57,60,75,90],\n",
    "    'f_weight' : [45,80,27,28,29,10,20]\n",
    "}\n",
    "df = pd.DataFrame(data)\n",
    "df"
   ]
  },
  {
   "cell_type": "code",
   "execution_count": 4,
   "id": "c94e3c85",
   "metadata": {},
   "outputs": [
    {
     "data": {
      "text/plain": [
       "34.142857142857146"
      ]
     },
     "execution_count": 4,
     "metadata": {},
     "output_type": "execute_result"
    }
   ],
   "source": [
    "df['f_weight'].mean()"
   ]
  },
  {
   "cell_type": "markdown",
   "id": "097bee44",
   "metadata": {},
   "source": [
    "#### Q5. Write a Python script to conduct a hypothesis test on the difference between two population means, given a sample from each population."
   ]
  },
  {
   "cell_type": "code",
   "execution_count": 5,
   "id": "ba1593cd",
   "metadata": {},
   "outputs": [
    {
     "name": "stdout",
     "output_type": "stream",
     "text": [
      "The t-statistic is: 1.1430952132988161\n",
      "The p-value is: 0.2860513414248803\n",
      "We fail to reject the null hypothesis.\n"
     ]
    }
   ],
   "source": [
    "sample1 = np.random.randint(1,10,5)\n",
    "sample2 = np.random.randint(1,10,5)\n",
    "\n",
    "alpha = 0.05\n",
    "\n",
    "t_stat, p_val = stats.ttest_ind(sample1, sample2)\n",
    "\n",
    "print(\"The t-statistic is:\", t_stat)\n",
    "print(\"The p-value is:\", p_val)\n",
    "\n",
    "if p_val < alpha:\n",
    "    print(\"We reject the null hypothesis.\")\n",
    "else:\n",
    "    print(\"We fail to reject the null hypothesis.\")\n"
   ]
  },
  {
   "cell_type": "markdown",
   "id": "0335d365",
   "metadata": {},
   "source": [
    "#### Q6: What is a null and alternative hypothesis? Give some examples."
   ]
  },
  {
   "cell_type": "markdown",
   "id": "e633f7fb",
   "metadata": {},
   "source": [
    "Ans : \n",
    "\n",
    "**null hypothesis** assumes that any observed differences or relationships are due to chance or random sampling error or is accept the given ploblem in sample.\n",
    "e.g. Accept male student weight > female student weight                 \n",
    "Accept Girls pass marks > boys pass marks               \n",
    "**alternative hypothesis** is a process to reject the null hypothesis             \n",
    "e.g. not accept male student weight > female student weight                 \n",
    "not accept Girls pass marks > boys pass marks"
   ]
  },
  {
   "cell_type": "markdown",
   "id": "70cf2f4d",
   "metadata": {},
   "source": [
    "#### Q7: Write down the steps involved in hypothesis testing."
   ]
  },
  {
   "cell_type": "markdown",
   "id": "3f3d2937",
   "metadata": {},
   "source": [
    "Ans : \n",
    "\n",
    "1. Accept hypothesis testing\n",
    "2. not accept hypotheses thesting\n",
    "3. See type of test\n",
    "4. find alpha = n-1\n",
    "5. find C.I \n",
    "6. use test according to n\n",
    "7. match table \n",
    "8. conclussion"
   ]
  },
  {
   "cell_type": "markdown",
   "id": "79048783",
   "metadata": {},
   "source": [
    "#### Q8. Define p-value and explain its significance in hypothesis testing."
   ]
  },
  {
   "cell_type": "markdown",
   "id": "6806f822",
   "metadata": {},
   "source": [
    "The P-value (or probability value) is the probability of getting a sample statistic (such as the mean) or a more extreme sample statistic in the direction of the alternative hypothesis when the null hypothesis is true.              \n",
    "- If P-value <= alpha , reject the null hypothesis             \n",
    "- If P-value > alpha, do not reject the null hypothesis"
   ]
  },
  {
   "cell_type": "markdown",
   "id": "cd114daa",
   "metadata": {},
   "source": [
    "#### Q9. Generate a Student's t-distribution plot using Python's matplotlib library, with the degrees of freedom parameter set to 10."
   ]
  },
  {
   "cell_type": "code",
   "execution_count": 6,
   "id": "d2206d9f",
   "metadata": {},
   "outputs": [
    {
     "data": {
      "image/png": "[encoded data removed]",
      "text/plain": [
       "<Figure size 640x480 with 1 Axes>"
      ]
     },
     "metadata": {},
     "output_type": "display_data"
    }
   ],
   "source": [
    "\n",
    "\n",
    "dof = 10\n",
    "\n",
    "x = np.linspace(-4, 4, 100)\n",
    "y = (1 / (np.sqrt(dof) * np.sqrt(np.pi))) * ((1 + ((x ** 2) / dof)) ** (-(dof + 1) / 2))\n",
    "\n",
    "plt.plot(x, y)\n",
    "plt.title(\"Student's t-distribution with df = 10\")\n",
    "\n",
    "\n",
    "plt.show()\n"
   ]
  },
  {
   "cell_type": "markdown",
   "id": "df198963",
   "metadata": {},
   "source": [
    "#### Q10. Write a Python program to calculate the two-sample t-test for independent samples, given two random samples of equal size and a null hypothesis that the population means are equal."
   ]
  },
  {
   "cell_type": "code",
   "execution_count": 7,
   "id": "cd5a4a3c",
   "metadata": {},
   "outputs": [
    {
     "name": "stdout",
     "output_type": "stream",
     "text": [
      "t-statistic: -1.3175375957632594\n",
      "p-value: 0.22413839344073624\n"
     ]
    }
   ],
   "source": [
    "import scipy.stats as stats\n",
    "\n",
    "sample1 = [6.2, 1.5, 2.3, 0.8, 5.46]\n",
    "sample2 = [25.56, 3.65, 7.02, 3.60, 4.98]\n",
    "\n",
    "t_stat, p_val = stats.ttest_ind(sample1, sample2)\n",
    "\n",
    "print(\"t-statistic:\", t_stat)\n",
    "print(\"p-value:\", p_val)\n"
   ]
  },
  {
   "cell_type": "markdown",
   "id": "940f1706",
   "metadata": {},
   "source": [
    "#### Q11: What is Student's t distribution? When to use the t-Distribution.\n"
   ]
  },
  {
   "cell_type": "markdown",
   "id": "a729ecdc",
   "metadata": {},
   "source": [
    "Ans : \n",
    "    Student's t-distribution is a probability distribution that is used in statistical inference for hypothesis testing. It is a continuous probability distribution that takes sample size and sample standard deviation.          \n",
    "    The t-distribution is particularly useful when the population standard deviation is **unknown** and must be estimated from the sample."
   ]
  },
  {
   "cell_type": "markdown",
   "id": "88cc614c",
   "metadata": {},
   "source": [
    "#### Q12: What is t-statistic? State the formula for t-statistic.\n"
   ]
  },
  {
   "cell_type": "markdown",
   "id": "df406d11",
   "metadata": {},
   "source": [
    "Ans : \n",
    "    The t-statistic is a measure used in statistical hypothesis testing to determine whether the difference between two sample means is significant or not."
   ]
  },
  {
   "cell_type": "markdown",
   "id": "ffc0ea97",
   "metadata": {},
   "source": [
    "**formula for t-statistic**\n",
    "![](https://imgs.search.brave.com/oHUEFsy6Y7L2s5rGbKhM-vU7fEUuDJwEyt_H5kB5rG8/rs:fit:982:225:1/g:ce/aHR0cHM6Ly90c2Uz/Lm1tLmJpbmcubmV0/L3RoP2lkPU9JUC44/Z3BlQnJMWnUzd2Vr/TUROeDlheG1RQUFB/QSZwaWQ9QXBp)"
   ]
  },
  {
   "cell_type": "markdown",
   "id": "d741a7b4",
   "metadata": {},
   "source": [
    "#### Q13. A coffee shop owner wants to estimate the average daily revenue for their shop. They take a random sample of 50 days and find the sample mean revenue to be $500$ with a standard deviation of $50$. Estimate the population mean revenue with a 95% confidence interval."
   ]
  },
  {
   "cell_type": "markdown",
   "id": "90344294",
   "metadata": {},
   "source": [
    "**Solution**\n",
    "![](https://i.ibb.co/Vt0pwGC/New-Doc-03-29-2023-14-42-15.jpg)\n",
    "\n"
   ]
  },
  {
   "cell_type": "markdown",
   "id": "9e847e33",
   "metadata": {},
   "source": [
    "\n",
    "#### Q14. A researcher hypothesizes that a new drug will decrease blood pressure by 10 mmHg. They conduct a clinical trial with 100 patients and find that the sample mean decrease in blood pressure is 8 mmHg with a standard deviation of 3 mmHg. Test the hypothesis with a significance level of 0.05."
   ]
  },
  {
   "cell_type": "markdown",
   "id": "a6432f06",
   "metadata": {},
   "source": [
    "**Solution**\n",
    "![](https://i.ibb.co/CPRbq47/New-Doc-03-29-2023-14-42-14.jpg)\n",
    "\n"
   ]
  },
  {
   "cell_type": "markdown",
   "id": "040bcc51",
   "metadata": {},
   "source": [
    "#### Q15. An electronics company produces a certain type of product with a mean weight of 5 pounds and a standard deviation of 0.5 pounds. A random sample of 25 products is taken, and the sample mean weight is found to be 4.8 pounds. Test the hypothesis that the true mean weight of the products is less than 5 pounds with a significance level of 0.01."
   ]
  },
  {
   "cell_type": "code",
   "execution_count": null,
   "id": "2dab2404",
   "metadata": {},
   "outputs": [],
   "source": []
  },
  {
   "cell_type": "markdown",
   "id": "f7840e8c",
   "metadata": {},
   "source": [
    "#### Q16. Two groups of students are given different study materials to prepare for a test. The first group (n1 = 30) has a mean score of 80 with a standard deviation of 10, and the second group (n2 = 40) has a mean score of 75 with a standard deviation of 8. Test the hypothesis that the population means for the two groups are equal with a significance level of 0.01."
   ]
  },
  {
   "cell_type": "markdown",
   "id": "a683711d",
   "metadata": {},
   "source": [
    "**Solution**\n",
    "![](https://i.ibb.co/2qzkNJF/New-Doc-03-29-2023-14-42-13.jpg)\n"
   ]
  },
  {
   "cell_type": "markdown",
   "id": "d2c2df35",
   "metadata": {},
   "source": [
    "\n",
    "\n",
    "\n",
    "#### Q17. A marketing company wants to estimate the average number of ads watched by viewers during a TV program. They take a random sample of 50 viewers and find that the sample mean is 4 with a standard deviation of 1.5. Estimate the population mean with a 99% confidence interval."
   ]
  },
  {
   "cell_type": "markdown",
   "id": "5dab67bd",
   "metadata": {},
   "source": [
    "**Solution**\n",
    "![](https://i.ibb.co/ZT6rbGv/New-Doc-03-29-2023-14-42-12.jpg)\n",
    "\n"
   ]
  }
 ],
 "metadata": {
  "kernelspec": {
   "display_name": "Python 3 (ipykernel)",
   "language": "python",
   "name": "python3"
  },
  "language_info": {
   "codemirror_mode": {
    "name": "ipython",
    "version": 3
   },
   "file_extension": ".py",
   "mimetype": "text/x-python",
   "name": "python",
   "nbconvert_exporter": "python",
   "pygments_lexer": "ipython3",
   "version": "3.7.1"
  }
 },
 "nbformat": 4,
 "nbformat_minor": 5
}
