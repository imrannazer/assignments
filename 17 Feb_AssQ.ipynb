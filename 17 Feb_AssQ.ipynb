{
 "cells": [
  {
   "cell_type": "markdown",
   "id": "ef5e6e46",
   "metadata": {},
   "source": [
    "#### Q1. What is MongoDB? Explain non-relational databases in short. In which scenarios it is preferred to use MongoDB over SQL databases?\n"
   ]
  },
  {
   "cell_type": "markdown",
   "id": "7ef5ee1c",
   "metadata": {},
   "source": [
    "MongoDB is a NoSql database"
   ]
  },
  {
   "cell_type": "markdown",
   "id": "7f8ce8d5",
   "metadata": {},
   "source": [
    "- non-relational databases support unstructured or semi-structured data also.\n",
    "- non-relational databases no need to predefine schema\n",
    "- non-relational databases is a best option for memory management"
   ]
  },
  {
   "cell_type": "markdown",
   "id": "9d37b6a7",
   "metadata": {},
   "source": [
    "When you know your data may be unstructured or semi-structured, and you also need a flexible schema"
   ]
  },
  {
   "cell_type": "markdown",
   "id": "50e872d5",
   "metadata": {},
   "source": [
    "#### Q2. State and Explain the features of MongoDB.\n"
   ]
  },
  {
   "cell_type": "markdown",
   "id": "52c1947e",
   "metadata": {},
   "source": [
    "Ans :    \n",
    "- This is a Schema-less Database\n",
    "- This is Document Oriented or key-value\n",
    "- This allows Dynamic Queries (no need schema)\n",
    "- Power full Aggregation for filtering, sorting, etc. "
   ]
  },
  {
   "cell_type": "code",
   "execution_count": null,
   "id": "ef5fcff9",
   "metadata": {},
   "outputs": [],
   "source": []
  },
  {
   "cell_type": "markdown",
   "id": "ddca8898",
   "metadata": {},
   "source": [
    "#### Q3. Write a code to connect MongoDB to Python. Also, create a database and a collection in MongoDB.\n"
   ]
  },
  {
   "cell_type": "code",
   "execution_count": 3,
   "id": "05acfedf",
   "metadata": {},
   "outputs": [],
   "source": [
    "#connect MongoDB to Python\n",
    "import pymongo\n",
    "client = pymongo.MongoClient(\"mongodb+srv://<username>:<passeord>@cluster0.m6yagtd.mongodb.net/?retryWrites=true&w=majority\")\n",
    "db = client.test"
   ]
  },
  {
   "cell_type": "code",
   "execution_count": null,
   "id": "405db884",
   "metadata": {},
   "outputs": [],
   "source": [
    "# create a database\n",
    "db = client['TestDatabase']    "
   ]
  },
  {
   "cell_type": "code",
   "execution_count": null,
   "id": "aa92e355",
   "metadata": {},
   "outputs": [],
   "source": [
    "# collection in MongoDB\n",
    "data = {\"name\" : \"Akram\" , \n",
    "        \"class\" :\"data science masters \" ,\n",
    "        \"time\" : \"flexi\"}\n",
    "test_collection = db[\"my_record\"]\n",
    "test_collection.insert_one(data1)"
   ]
  },
  {
   "cell_type": "markdown",
   "id": "6bc8513b",
   "metadata": {},
   "source": [
    "#### Q4. Using the database and the collection created in question number 3, write a code to insert one record, and insert many records. Use the find() and find_one() methods to print the inserted record.\n"
   ]
  },
  {
   "cell_type": "code",
   "execution_count": null,
   "id": "b5e6d107",
   "metadata": {},
   "outputs": [],
   "source": [
    "#connect MongoDB to Python\n",
    "import pymongo\n",
    "client = pymongo.MongoClient(\"mongodb+srv://<username>:<passeord>@cluster0.m6yagtd.mongodb.net/?retryWrites=true&w=majority\")\n",
    "db = client.test\n",
    "db = client['TestDatabase']  \n",
    "data = {\"name\" : \"Akram\" , \n",
    "        \"class\" :\"data science masters \" ,\n",
    "        \"time\" : \"flexi\"}\n",
    "test_collection = db[\"my_record\"]\n",
    "test_collection.insert_one(data1)\n",
    "\n",
    " data2 = [\n",
    "  { \"name\": \"Amy\", \"address\": \"Apple st 652\" },\n",
    "  { \"name\": \"Hannah\", \"address\": \"Mountain 21\" },\n",
    "  { \"name\": \"Chuck\", \"address\": \"Main Road 989\" },\n",
    "  { \"name\": \"Viola\", \"address\": \"Sideway 1633\" }\n",
    "]\n",
    "test_collection.insert_many(data2)  "
   ]
  },
  {
   "cell_type": "code",
   "execution_count": null,
   "id": "dde77866",
   "metadata": {},
   "outputs": [],
   "source": [
    "test_collection.find_one()  "
   ]
  },
  {
   "cell_type": "code",
   "execution_count": null,
   "id": "dc274dc0",
   "metadata": {},
   "outputs": [],
   "source": [
    "for i in test_collection.find():         # find all document from collection/table\n",
    "    print(i)"
   ]
  },
  {
   "cell_type": "markdown",
   "id": "472c15f7",
   "metadata": {},
   "source": [
    "#### Q5. Explain how you can use the find() method to query the MongoDB database. Write a simple code to demonstrate this.\n"
   ]
  },
  {
   "cell_type": "markdown",
   "id": "174ad4fd",
   "metadata": {},
   "source": [
    "**find()**: This function used to query and retrieve data from a MongoDB collection."
   ]
  },
  {
   "cell_type": "code",
   "execution_count": null,
   "id": "cca3c507",
   "metadata": {},
   "outputs": [],
   "source": [
    "for i in test_collection.find({'name': 'Chuck'}): \n",
    "    print(i)"
   ]
  },
  {
   "cell_type": "code",
   "execution_count": null,
   "id": "5c094b52",
   "metadata": {},
   "outputs": [],
   "source": [
    "for i in test_collection.find({\"_id\" :{\"$lt\" : '5'}}):  \n",
    "    print(i) "
   ]
  },
  {
   "cell_type": "markdown",
   "id": "3bd5509c",
   "metadata": {},
   "source": [
    "#### Q6. Explain the sort() method. Give an example to demonstrate sorting in MongoDB.\n"
   ]
  },
  {
   "cell_type": "markdown",
   "id": "a45bae9e",
   "metadata": {},
   "source": [
    "**sort()**: It is used to sort result quety"
   ]
  },
  {
   "cell_type": "code",
   "execution_count": null,
   "id": "1039c7e3",
   "metadata": {},
   "outputs": [],
   "source": [
    "# sort rutern data in order to name\n",
    "for i in test_collection.find().sort(\"name\"):\n",
    "    print(i)"
   ]
  },
  {
   "cell_type": "code",
   "execution_count": null,
   "id": "24eea17b",
   "metadata": {},
   "outputs": [],
   "source": [
    "#sort in descending order\n",
    "for i in test_collection.find().sort(\"name\",-1):\n",
    "    print(i)"
   ]
  },
  {
   "cell_type": "markdown",
   "id": "b84a1ca6",
   "metadata": {},
   "source": [
    "#### Q7. Explain why delete_one(), delete_many(), and drop() is used."
   ]
  },
  {
   "cell_type": "markdown",
   "id": "ce70b115",
   "metadata": {},
   "source": [
    "**delete_one()**: It is used to delete single document from collection\n"
   ]
  },
  {
   "cell_type": "code",
   "execution_count": null,
   "id": "c8aaf182",
   "metadata": {},
   "outputs": [],
   "source": [
    "test_collection.delete_one({'name': 'Chuck'})"
   ]
  },
  {
   "cell_type": "markdown",
   "id": "553f6b48",
   "metadata": {},
   "source": [
    "**delete_many()**: It is used to delete all data according to condition\n"
   ]
  },
  {
   "cell_type": "code",
   "execution_count": null,
   "id": "a8863a86",
   "metadata": {},
   "outputs": [],
   "source": [
    "test_collection.delete_many({\"address\": { \"$regex\": \"^S\" }})"
   ]
  },
  {
   "cell_type": "markdown",
   "id": "9593d7d0",
   "metadata": {},
   "source": [
    "**drop()**: It is used to drop/delete collection from MongoDB database"
   ]
  },
  {
   "cell_type": "code",
   "execution_count": null,
   "id": "ec63969e",
   "metadata": {},
   "outputs": [],
   "source": [
    "mycol = db[\"TestDatabase\"]                 # Create collection\n",
    "mycol.drop()                               #drop collection"
   ]
  }
 ],
 "metadata": {
  "kernelspec": {
   "display_name": "Python 3 (ipykernel)",
   "language": "python",
   "name": "python3"
  },
  "language_info": {
   "codemirror_mode": {
    "name": "ipython",
    "version": 3
   },
   "file_extension": ".py",
   "mimetype": "text/x-python",
   "name": "python",
   "nbconvert_exporter": "python",
   "pygments_lexer": "ipython3",
   "version": "3.7.1"
  }
 },
 "nbformat": 4,
 "nbformat_minor": 5
}
