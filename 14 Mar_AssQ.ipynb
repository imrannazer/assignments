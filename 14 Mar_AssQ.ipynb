{
 "cells": [
  {
   "cell_type": "code",
   "execution_count": 1,
   "id": "148c23dc",
   "metadata": {},
   "outputs": [],
   "source": [
    "import numpy as np\n",
    "import pandas as pd\n",
    "import scipy.stats as stats\n",
    "from scipy.stats import f"
   ]
  },
  {
   "cell_type": "markdown",
   "id": "ec6788e6",
   "metadata": {},
   "source": [
    "#### Q1. Write a Python function that takes in two arrays of data and calculates the F-value for a variance ratio test. The function should return the F-value and the corresponding p-value for the test."
   ]
  },
  {
   "cell_type": "code",
   "execution_count": 2,
   "id": "e25eee4c",
   "metadata": {},
   "outputs": [
    {
     "name": "stdout",
     "output_type": "stream",
     "text": [
      "F-value: 0.5517241379310345\n",
      "p-value: 0.710639231824417\n"
     ]
    }
   ],
   "source": [
    "def variance_ratio_test(x, y):\n",
    "    \n",
    "    n1 = len(x);n2 = len(y)\n",
    "    var1 = x.var(ddof=1);var2 = y.var(ddof=1)\n",
    "    \n",
    "    # F-value\n",
    "    F_value = var1/var2\n",
    "    \n",
    "    # degrees of freedom\n",
    "    dof1 = n1 - 1\n",
    "    dof2 = n2 - 1\n",
    "    \n",
    "    # Calculate the p-value using the F distribution\n",
    "    p_value = stats.f.sf(F_value, dof1, dof2)\n",
    "    \n",
    "    return F_value, p_value\n",
    "x = np.random.randint(1,10,5)\n",
    "y = np.random.randint(1,10,5)\n",
    "F_value, p_value = variance_ratio_test(x, y)\n",
    "print(\"F-value:\", F_value)\n",
    "print(\"p-value:\", p_value)\n",
    "\n"
   ]
  },
  {
   "cell_type": "markdown",
   "id": "38244bb2",
   "metadata": {},
   "source": [
    "\n",
    "#### Q2. Given a significance level of 0.05 and the degrees of freedom for the numerator and denominator of an F-distribution, write a Python function that returns the critical F-value for a two-tailed test."
   ]
  },
  {
   "cell_type": "code",
   "execution_count": 3,
   "id": "53d5291a",
   "metadata": {},
   "outputs": [],
   "source": [
    "def critical_f_value(df_num, df_denom, alpha=0.05):\n",
    "    # critical values for the upper and lower \n",
    "    f_lower = stats.f.ppf(alpha / 2, df_num, df_denom)\n",
    "    f_upper = stats.f.ppf(1 - alpha / 2, df_num, df_denom)\n",
    "    # Return the absolute value\n",
    "    return max(abs(f_lower), abs(f_upper))"
   ]
  },
  {
   "cell_type": "code",
   "execution_count": 4,
   "id": "090dd9dd",
   "metadata": {},
   "outputs": [
    {
     "name": "stdout",
     "output_type": "stream",
     "text": [
      "4.07682306196248\n"
     ]
    }
   ],
   "source": [
    "# Example usage\n",
    "df_num = 3\n",
    "df_dnom = 16\n",
    "alpha = 0.05\n",
    "\n",
    "critical_f = critical_f_value(df_num, df_dnom, alpha)\n",
    "print(critical_f)  # Output: "
   ]
  },
  {
   "cell_type": "markdown",
   "id": "9af937f9",
   "metadata": {},
   "source": [
    "\n",
    "#### Q3. Write a Python program that generates random samples from two normal distributions with known variances and uses an F-test to determine if the variances are equal. The program should output the F- value, degrees of freedom, and p-value for the test."
   ]
  },
  {
   "cell_type": "code",
   "execution_count": 5,
   "id": "a20da667",
   "metadata": {},
   "outputs": [
    {
     "name": "stdout",
     "output_type": "stream",
     "text": [
      "F-value: 0.25614854398229775\n",
      "Degrees of freedom: 99 , 99\n",
      "P-value: 3.4607987310044204e-11\n"
     ]
    }
   ],
   "source": [
    "\n",
    "# Lets suppose parameters\n",
    "mu1 = 0                # sample mean\n",
    "mu2 = 0                #sample mean\n",
    "sigma1 = 1             #std\n",
    "sigma2 = 2             #std\n",
    "n1 = 100               # sample size\n",
    "n2 = 100               # sample size\n",
    "\n",
    "# Generate random samples size\n",
    "x1 = np.random.normal(mu1, sigma1, n1)\n",
    "x2 = np.random.normal(mu2, sigma2, n2)\n",
    "\n",
    "# F statistic\n",
    "F = np.var(x1, ddof=1) / np.var(x2, ddof=1)\n",
    "\n",
    "# degrees of freedom\n",
    "df1 = n1 - 1\n",
    "df2 = n2 - 1\n",
    "\n",
    "# p-value\n",
    "p_value = f.cdf(F, df1, df2)\n",
    "\n",
    "# Output the results\n",
    "print(\"F-value:\", F)\n",
    "print(\"Degrees of freedom:\", df1, \",\", df2)\n",
    "print(\"P-value:\", p_value)"
   ]
  },
  {
   "cell_type": "markdown",
   "id": "dd37042c",
   "metadata": {},
   "source": [
    "\n",
    "#### Q4.The variances of two populations are known to be 10 and 15. A sample of 12 observations is taken from each population. Conduct an F-test at the 5% significance level to determine if the variances are significantly different."
   ]
  },
  {
   "cell_type": "markdown",
   "id": "79eb6d64",
   "metadata": {},
   "source": [
    "**Solution**\n",
    "![](https://i.ibb.co/tXdYfDw/New-Doc-03-29-2023-14-42-5.jpg)\n"
   ]
  },
  {
   "cell_type": "markdown",
   "id": "7e72e35e",
   "metadata": {},
   "source": [
    "\n",
    "#### Q5. A manufacturer claims that the variance of the diameter of a certain product is 0.005. A sample of 25 products is taken, and the sample variance is found to be 0.006. Conduct an F-test at the 1% significance level to determine if the claim is justified."
   ]
  },
  {
   "cell_type": "markdown",
   "id": "b85fe206",
   "metadata": {},
   "source": [
    "**Solution**\n",
    "![Answer](https://i.ibb.co/f82n7LZ/New-Doc-03-29-2023-14-42-4.jpg)\n"
   ]
  },
  {
   "cell_type": "markdown",
   "id": "96527f90",
   "metadata": {},
   "source": [
    "\n",
    "#### Q6. Write a Python function that takes in the degrees of freedom for the numerator and denominator of an F-distribution and calculates the mean and variance of the distribution. The function should return the mean and variance as a tuple."
   ]
  },
  {
   "cell_type": "code",
   "execution_count": 6,
   "id": "d3040a6f",
   "metadata": {},
   "outputs": [],
   "source": [
    "def f_distribution_mean_variance(df_num, df_den):\n",
    "    mean = df_den / (df_den - 2)\n",
    "    variance = (2 * (df_den ** 2) * (df_num + df_den - 2)) / ((df_num * (df_den - 2) ** 2 * (df_den - 4)))\n",
    "    return (mean, variance)"
   ]
  },
  {
   "cell_type": "code",
   "execution_count": 7,
   "id": "b3a05b57",
   "metadata": {},
   "outputs": [
    {
     "data": {
      "text/plain": [
       "(1.0465116279069768, 0.15330289451694104)"
      ]
     },
     "execution_count": 7,
     "metadata": {},
     "output_type": "execute_result"
    }
   ],
   "source": [
    "f_distribution_mean_variance(23,45)"
   ]
  },
  {
   "cell_type": "markdown",
   "id": "172bca48",
   "metadata": {},
   "source": [
    "\n",
    "#### Q7. A random sample of 10 measurements is taken from a normal population with unknown variance. The sample variance is found to be 25. Another random sample of 15 measurements is taken from another normal population with unknown variance, and the sample variance is found to be 20. Conduct an F-test at the 10% significance level to determine if the variances are significantly different."
   ]
  },
  {
   "cell_type": "markdown",
   "id": "312004d5",
   "metadata": {},
   "source": [
    "**Solution**\n",
    "![](https://i.ibb.co/bLcgnBP/New-Doc-03-29-2023-14-42-3.jpg)\n"
   ]
  },
  {
   "cell_type": "markdown",
   "id": "e5c185dc",
   "metadata": {},
   "source": [
    "\n",
    "#### Q8. The following data represent the waiting times in minutes at two different restaurants on a Saturday night: Restaurant A: 24, 25, 28, 23, 22, 20, 27; Restaurant B: 31, 33, 35, 30, 32, 36. Conduct an F-test at the 5% significance level to determine if the variances are significantly different."
   ]
  },
  {
   "cell_type": "markdown",
   "id": "ff45edd4",
   "metadata": {},
   "source": [
    "**Solution**\n",
    "![](https://i.ibb.co/b7nVrS5/New-Doc-03-29-2023-14-42-2.jpg)\n"
   ]
  },
  {
   "cell_type": "code",
   "execution_count": 8,
   "id": "36343f52",
   "metadata": {},
   "outputs": [
    {
     "data": {
      "text/plain": [
       "24.142857142857142"
      ]
     },
     "execution_count": 8,
     "metadata": {},
     "output_type": "execute_result"
    }
   ],
   "source": [
    "l1 = [24, 25, 28, 23, 22, 20, 27]\n",
    "sum(l1)/len(l1)"
   ]
  },
  {
   "cell_type": "code",
   "execution_count": 9,
   "id": "12fd0b7c",
   "metadata": {},
   "outputs": [
    {
     "name": "stdout",
     "output_type": "stream",
     "text": [
      "7.809533333333334\n"
     ]
    }
   ],
   "source": [
    "l1 = [24, 25, 28, 23, 22, 20, 27]\n",
    "l1_ = []\n",
    "for i in l1:\n",
    "    l1_.append(pow(i-24.14,2))\n",
    "print(sum(l1_)/6)"
   ]
  },
  {
   "cell_type": "code",
   "execution_count": 10,
   "id": "5a982c95",
   "metadata": {},
   "outputs": [
    {
     "data": {
      "text/plain": [
       "32.833333333333336"
      ]
     },
     "execution_count": 10,
     "metadata": {},
     "output_type": "execute_result"
    }
   ],
   "source": [
    "l2 = [31, 33, 35, 30, 32, 36]\n",
    "sum(l2)/len(l2)"
   ]
  },
  {
   "cell_type": "code",
   "execution_count": 11,
   "id": "f3ce1863",
   "metadata": {},
   "outputs": [
    {
     "name": "stdout",
     "output_type": "stream",
     "text": [
      "4.472233333333333\n"
     ]
    }
   ],
   "source": [
    "l2 = [31, 33, 35, 30, 32, 36]\n",
    "l2_ = []\n",
    "for i in l2:\n",
    "    l2_.append(pow(i-32.83,2))\n",
    "print(sum(l2_)/6)"
   ]
  },
  {
   "cell_type": "code",
   "execution_count": 12,
   "id": "9bb6d2fc",
   "metadata": {},
   "outputs": [
    {
     "data": {
      "text/plain": [
       "1.746344081212826"
      ]
     },
     "execution_count": 12,
     "metadata": {},
     "output_type": "execute_result"
    }
   ],
   "source": [
    "7.81/4.4722"
   ]
  },
  {
   "cell_type": "markdown",
   "id": "08dbd4d1",
   "metadata": {},
   "source": [
    "\n",
    "#### Q9. The following data represent the test scores of two groups of students: Group A: 80, 85, 90, 92, 87, 83; Group B: 75, 78, 82, 79, 81, 84. Conduct an F-test at the 1% significance level to determine if the variances are significantly different."
   ]
  },
  {
   "cell_type": "markdown",
   "id": "487b0c5b",
   "metadata": {},
   "source": [
    "**Solution**\n",
    "![](https://i.ibb.co/8rmKqH1/New-Doc-03-29-2023-14-42-1.jpg)\n"
   ]
  },
  {
   "cell_type": "code",
   "execution_count": 13,
   "id": "41978082",
   "metadata": {},
   "outputs": [
    {
     "data": {
      "text/plain": [
       "86.16666666666667"
      ]
     },
     "execution_count": 13,
     "metadata": {},
     "output_type": "execute_result"
    }
   ],
   "source": [
    "l11 = [80, 85, 90, 92, 87, 83]\n",
    "sum(l11)/len(l11)"
   ]
  },
  {
   "cell_type": "code",
   "execution_count": 14,
   "id": "b65de42f",
   "metadata": {},
   "outputs": [
    {
     "name": "stdout",
     "output_type": "stream",
     "text": [
      "16.472266666666666\n"
     ]
    }
   ],
   "source": [
    "l11 = [80, 85, 90, 92, 87, 83]\n",
    "l11_ = []\n",
    "for i in l11:\n",
    "    l11_.append(pow(i-86.16,2))\n",
    "print(sum(l11_)/6)"
   ]
  },
  {
   "cell_type": "code",
   "execution_count": 15,
   "id": "f3fd05ed",
   "metadata": {},
   "outputs": [
    {
     "data": {
      "text/plain": [
       "79.83333333333333"
      ]
     },
     "execution_count": 15,
     "metadata": {},
     "output_type": "execute_result"
    }
   ],
   "source": [
    "l22 = [75, 78, 82, 79, 81, 84]\n",
    "sum(l22)/len(l22)"
   ]
  },
  {
   "cell_type": "code",
   "execution_count": 16,
   "id": "6c93b9fa",
   "metadata": {},
   "outputs": [
    {
     "name": "stdout",
     "output_type": "stream",
     "text": [
      "8.472233333333334\n"
     ]
    }
   ],
   "source": [
    "l22 = [75, 78, 82, 79, 81, 84]\n",
    "l22_ = []\n",
    "for i in l22:\n",
    "    l22_.append(pow(i-79.83,2))\n",
    "print(sum(l22_)/6)"
   ]
  },
  {
   "cell_type": "code",
   "execution_count": 17,
   "id": "aa983e9a",
   "metadata": {},
   "outputs": [
    {
     "data": {
      "text/plain": [
       "1.944510035419126"
      ]
     },
     "execution_count": 17,
     "metadata": {},
     "output_type": "execute_result"
    }
   ],
   "source": [
    "16.47/8.47"
   ]
  }
 ],
 "metadata": {
  "kernelspec": {
   "display_name": "Python 3 (ipykernel)",
   "language": "python",
   "name": "python3"
  },
  "language_info": {
   "codemirror_mode": {
    "name": "ipython",
    "version": 3
   },
   "file_extension": ".py",
   "mimetype": "text/x-python",
   "name": "python",
   "nbconvert_exporter": "python",
   "pygments_lexer": "ipython3",
   "version": "3.7.1"
  }
 },
 "nbformat": 4,
 "nbformat_minor": 5
}
