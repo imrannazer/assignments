{
 "cells": [
  {
   "cell_type": "markdown",
   "id": "108effc2-2f08-418a-9904-555488c76c66",
   "metadata": {},
   "source": [
    "Q1. Explain with an example each when to use a for loop and a while loop.\n",
    "\n"
   ]
  },
  {
   "cell_type": "markdown",
   "id": "cc23f5d5",
   "metadata": {},
   "source": [
    "Use a for loop when we go to iterate in a sequence (list, set, string, tuple,) and we know the number of times we want to iterate.\n",
    "\n",
    "Use a while loop when we go to keep repeating an action until a certain condition is True, but we don't know ahead of time how many times we will need to repeat the action/loop."
   ]
  },
  {
   "cell_type": "markdown",
   "id": "a2b84820-36f6-4243-8aba-442966eafeff",
   "metadata": {},
   "source": [
    "Q2. Write a python program to print the sum and product of the first 10 natural numbers using for\n",
    "and while loop.\n",
    "\n"
   ]
  },
  {
   "cell_type": "code",
   "execution_count": 3,
   "id": "8ea0d1d4",
   "metadata": {},
   "outputs": [
    {
     "name": "stdout",
     "output_type": "stream",
     "text": [
      "55\n"
     ]
    }
   ],
   "source": [
    "#Sum first 10 natural numbers by using while loop\n",
    "num, Sum = 1, 0\n",
    "while num<11:\n",
    "    Sum +=num\n",
    "    num +=1\n",
    "print(Sum)"
   ]
  },
  {
   "cell_type": "code",
   "execution_count": 4,
   "id": "366508f5",
   "metadata": {},
   "outputs": [
    {
     "name": "stdout",
     "output_type": "stream",
     "text": [
      "55\n"
     ]
    }
   ],
   "source": [
    "#Sum first 10 natural numbers by using for loop\n",
    "Sum = 0\n",
    "for i in range(1,11):Sum +=i\n",
    "print(Sum)"
   ]
  },
  {
   "cell_type": "code",
   "execution_count": 10,
   "id": "de9295bc",
   "metadata": {},
   "outputs": [
    {
     "name": "stdout",
     "output_type": "stream",
     "text": [
      "3628800\n"
     ]
    }
   ],
   "source": [
    "#Product first 10 natural numbers by using while loop\n",
    "num1 = Mul1 = 1\n",
    "while num1<11:\n",
    "    Mul1 *=num1\n",
    "    num1 +=1\n",
    "print(Mul1)"
   ]
  },
  {
   "cell_type": "code",
   "execution_count": 11,
   "id": "e31254e6",
   "metadata": {},
   "outputs": [
    {
     "name": "stdout",
     "output_type": "stream",
     "text": [
      "3628800\n"
     ]
    }
   ],
   "source": [
    "#Product first 10 natural numbers by using for loop\n",
    "mul = 1\n",
    "for i in range(1,11):mul *=i\n",
    "print(mul)"
   ]
  },
  {
   "cell_type": "code",
   "execution_count": null,
   "id": "461c819a",
   "metadata": {},
   "outputs": [],
   "source": []
  },
  {
   "cell_type": "markdown",
   "id": "53295948-fabc-4a3e-9bf2-f6600075bdad",
   "metadata": {},
   "source": [
    "Q3. Create a python program to compute the electricity bill for a household.\n",
    "The per-unit charges in rupees are as follows: For the first 100 units, the user will be charged Rs. 4.5 per\n",
    "unit, for the next 100 units, the user will be charged Rs. 6 per unit, and for the next 100 units, the user will\n",
    "be charged Rs. 10 per unit, After 300 units and above the user will be charged Rs. 20 per unit.\n",
    "\n",
    "You are required to take the units of electricity consumed in a month from the user as input.\n",
    "Your program must pass this test case: when the unit of electricity consumed by the user in a month is\n",
    "310, the total electricity bill should be 2250.\n"
   ]
  },
  {
   "cell_type": "code",
   "execution_count": 71,
   "id": "2890db7e",
   "metadata": {},
   "outputs": [
    {
     "name": "stdout",
     "output_type": "stream",
     "text": [
      "Enter your unit : 310\n",
      "2250.0\n"
     ]
    }
   ],
   "source": [
    "unit = int(input(\"Enter your unit : \"))\n",
    "till_1 = 100*4.5\n",
    "till_2 = 100*6\n",
    "till_3 = 100*10\n",
    "above = 20\n",
    "if unit<=100:\n",
    "    print(unit*4.5)\n",
    "elif unit<=200:\n",
    "    price = till_1+(unit-100)*6\n",
    "    print(price)\n",
    "elif unit<=300:\n",
    "    price = till_1+till_2+(unit-200)*10\n",
    "    print(price)\n",
    "else:\n",
    "    price = till_1+till_2+till_3+(unit-300)*20\n",
    "    print(price)"
   ]
  },
  {
   "cell_type": "code",
   "execution_count": null,
   "id": "a855f853",
   "metadata": {},
   "outputs": [],
   "source": []
  },
  {
   "cell_type": "markdown",
   "id": "bc923a54-42f7-42b7-8b3b-248659d0141e",
   "metadata": {},
   "source": [
    "\n",
    "Q4. Create a list of numbers from 1 to 100. Use for loop and while loop to calculate the cube of each\n",
    "number and if the cube of that number is divisible by 4 or 5 then append that number in a list and print\n",
    "that list.\n"
   ]
  },
  {
   "cell_type": "code",
   "execution_count": 12,
   "id": "d0a0d7b9",
   "metadata": {},
   "outputs": [
    {
     "name": "stdout",
     "output_type": "stream",
     "text": [
      "[8, 64, 125, 216, 512, 1000, 1728, 2744, 3375, 4096, 5832, 8000, 10648, 13824, 15625, 17576, 21952, 27000, 32768, 39304, 42875, 46656, 54872, 64000, 74088, 85184, 91125, 97336, 110592, 125000, 140608, 157464, 166375, 175616, 195112, 216000, 238328, 262144, 274625, 287496, 314432, 343000, 373248, 405224, 421875, 438976, 474552, 512000, 551368, 592704, 614125, 636056, 681472, 729000, 778688, 830584, 857375, 884736, 941192, 1000000]\n",
      "60\n"
     ]
    }
   ],
   "source": [
    "# by using for loop\n",
    "numbers = [i for i in range (1, 101)]\n",
    "cube_numbers = []\n",
    "for number in numbers:\n",
    "    \n",
    "    if number**3 % 4 == 0 or number**3 % 5 == 0:\n",
    "        cube_numbers.append(number**3)\n",
    "print(cube_numbers)\n",
    "print(len(cube_numbers))"
   ]
  },
  {
   "cell_type": "code",
   "execution_count": 13,
   "id": "bf05a5e6",
   "metadata": {},
   "outputs": [
    {
     "name": "stdout",
     "output_type": "stream",
     "text": [
      "[8, 64, 125, 216, 512, 1000, 1728, 2744, 3375, 4096, 5832, 8000, 10648, 13824, 15625, 17576, 21952, 27000, 32768, 39304, 42875, 46656, 54872, 64000, 74088, 85184, 91125, 97336, 110592, 125000, 140608, 157464, 166375, 175616, 195112, 216000, 238328, 262144, 274625, 287496, 314432, 343000, 373248, 405224, 421875, 438976, 474552, 512000, 551368, 592704, 614125, 636056, 681472, 729000, 778688, 830584, 857375, 884736, 941192, 1000000]\n",
      "60\n"
     ]
    }
   ],
   "source": [
    "# by using while loop\n",
    "numbers = [i for i in range (1, 101)]\n",
    "cube_numbers = []\n",
    "number = 1\n",
    "while number<101:\n",
    "    if number**3 % 4 == 0 or number**3 % 5 == 0:\n",
    "        cube_numbers.append(number**3)\n",
    "    number +=1\n",
    "print(cube_numbers)\n",
    "print(len(cube_numbers))"
   ]
  },
  {
   "cell_type": "markdown",
   "id": "5442960a-49c0-40d1-a76b-63a61ea580fb",
   "metadata": {},
   "source": [
    "Q5. Write a program to filter count vowels in the below-given string.\n",
    "string = \"I want to become a data scientist\""
   ]
  },
  {
   "cell_type": "code",
   "execution_count": 108,
   "id": "e7b23ef0",
   "metadata": {},
   "outputs": [
    {
     "name": "stdout",
     "output_type": "stream",
     "text": [
      "['I', 'a', 'o', 'e', 'o', 'e', 'a', 'a', 'a', 'i', 'e', 'i']\n"
     ]
    }
   ],
   "source": [
    "strings = \"I want to become a data scientist\"\n",
    "vowels = []\n",
    "for string in strings:\n",
    "    if string.lower() in ['a','e','i','o','u']:\n",
    "        vowels.append(string)\n",
    "print(vowels)"
   ]
  },
  {
   "cell_type": "code",
   "execution_count": null,
   "id": "57df5a76",
   "metadata": {},
   "outputs": [],
   "source": []
  },
  {
   "cell_type": "code",
   "execution_count": null,
   "id": "6e07a60f",
   "metadata": {},
   "outputs": [],
   "source": []
  },
  {
   "cell_type": "code",
   "execution_count": null,
   "id": "8512edaa",
   "metadata": {},
   "outputs": [],
   "source": []
  }
 ],
 "metadata": {
  "kernelspec": {
   "display_name": "Python 3 (ipykernel)",
   "language": "python",
   "name": "python3"
  },
  "language_info": {
   "codemirror_mode": {
    "name": "ipython",
    "version": 3
   },
   "file_extension": ".py",
   "mimetype": "text/x-python",
   "name": "python",
   "nbconvert_exporter": "python",
   "pygments_lexer": "ipython3",
   "version": "3.7.1"
  }
 },
 "nbformat": 4,
 "nbformat_minor": 5
}
