{
 "cells": [
  {
   "cell_type": "markdown",
   "id": "1cabdc84",
   "metadata": {},
   "source": [
    "#### Q1. What is multithreading in python? Why is it used? Name the module used to handle threads in python.\n"
   ]
  },
  {
   "cell_type": "markdown",
   "id": "5ded0d67",
   "metadata": {},
   "source": [
    "Ans :   \n",
    "- Thread is called task, So multithreading is a process to work on multiple task at a time.       \n",
    "- It is used to save the time and work do first, suppose If you want to upload 10 videos on database and there is not need a sequence for uploading then use multithreading to upload video."
   ]
  },
  {
   "cell_type": "code",
   "execution_count": 19,
   "id": "2301cb19",
   "metadata": {},
   "outputs": [],
   "source": [
    "import threading        # threading module"
   ]
  },
  {
   "cell_type": "markdown",
   "id": "972edba9",
   "metadata": {},
   "source": [
    "#### Q2. Why threading module used? Write the use of the following functions:\n",
    "- 1. activeCount()\n",
    "- 2. currentThread() \n",
    "- 3. enumerate()"
   ]
  },
  {
   "cell_type": "markdown",
   "id": "5ca892b5",
   "metadata": {},
   "source": [
    "Ans :    \n",
    "threading is a module used to do multiple task on same time. threading creates number of thread to execute task."
   ]
  },
  {
   "cell_type": "markdown",
   "id": "cf8e120b",
   "metadata": {},
   "source": [
    "**threading.activeCount() :** Return the number of Thread objects currently working.       \n",
    "**threading.currentThread() :** Return current thread ID and his name, you can get name by using threading.current_thread().getName()           \n",
    "**threading.enumerate() :** The enumerate() function returns a list of all currently active Thread objects. "
   ]
  },
  {
   "cell_type": "code",
   "execution_count": 35,
   "id": "360d6202",
   "metadata": {},
   "outputs": [
    {
     "name": "stdout",
     "output_type": "stream",
     "text": [
      "Thread is runningThread is running\n",
      "\n",
      "Hi\n"
     ]
    },
    {
     "data": {
      "text/plain": [
       "6"
      ]
     },
     "execution_count": 35,
     "metadata": {},
     "output_type": "execute_result"
    }
   ],
   "source": [
    "from threading import Thread\n",
    "def runThr():\n",
    "    print('Thread is running')\n",
    "t = Thread(target=runThr)\n",
    "t1 = Thread(target=runThr)\n",
    "t.start()\n",
    "t1.start()\n",
    "print('Hi')\n",
    "threading.activeCount()"
   ]
  },
  {
   "cell_type": "code",
   "execution_count": 36,
   "id": "5c89adb0",
   "metadata": {},
   "outputs": [
    {
     "name": "stdout",
     "output_type": "stream",
     "text": [
      "Thread is running\n",
      "<Thread(Thread-37, started 70852)>\n",
      "Thread is running\n",
      "<Thread(Thread-38, started 83488)>\n",
      "Hi\n"
     ]
    },
    {
     "data": {
      "text/plain": [
       "<_MainThread(MainThread, started 71956)>"
      ]
     },
     "execution_count": 36,
     "metadata": {},
     "output_type": "execute_result"
    }
   ],
   "source": [
    "from threading import Thread\n",
    "def runThr():\n",
    "    print('Thread is running')\n",
    "    print(threading.currentThread())\n",
    "    \n",
    "    \n",
    "t = Thread(target=runThr)\n",
    "t1 = Thread(target=runThr)\n",
    "t.start()\n",
    "t1.start()\n",
    "print('Hi')\n",
    "threading.currentThread()"
   ]
  },
  {
   "cell_type": "code",
   "execution_count": 37,
   "id": "8be53f9a",
   "metadata": {},
   "outputs": [
    {
     "name": "stdout",
     "output_type": "stream",
     "text": [
      "<_MainThread(MainThread, started 71956)> \n",
      "\n",
      "<Thread(IOPub, started daemon 84844)> \n",
      "\n",
      "<Heartbeat(Heartbeat, started daemon 82820)> \n",
      "\n",
      "<ControlThread(Control, started daemon 87072)> \n",
      "\n",
      "<HistorySavingThread(IPythonHistorySavingThread, started 68640)> \n",
      "\n",
      "<ParentPollerWindows(Thread-4, started daemon 56016)> \n",
      "\n"
     ]
    }
   ],
   "source": [
    "result = threading.enumerate()\n",
    "for i in result:\n",
    "    print(i,'\\n')\n",
    "    "
   ]
  },
  {
   "cell_type": "code",
   "execution_count": null,
   "id": "75deac49",
   "metadata": {},
   "outputs": [],
   "source": []
  },
  {
   "cell_type": "markdown",
   "id": "bf31fd60",
   "metadata": {},
   "source": [
    "#### Q3. Explain the following functions:\n",
    "- run()\n",
    "- start()\n",
    "- join()\n",
    "- isAlive()"
   ]
  },
  {
   "cell_type": "markdown",
   "id": "9ce1f615",
   "metadata": {},
   "source": [
    "Ans :          \n",
    "- 1. run() : Every thread will run this method when thread is started. We can override this method and write our own code as body of the method. A thread will terminate automatically when it comes out of the run() Method.\n",
    "- 2. start() : This function used to start a thread when thread is created.\n",
    "- 3. join() : This function used to hold next thread untill complete current theread execution.\n",
    "- 4. isAlive() : This function replace with is_alive() function, It is used to check whether a thread is currently running or not."
   ]
  },
  {
   "cell_type": "markdown",
   "id": "0d0456cf",
   "metadata": {},
   "source": [
    "#### Q4. Write a python program to create two threads. Thread one must print the list of squares and thread two must print the list of cubes.\n"
   ]
  },
  {
   "cell_type": "code",
   "execution_count": 128,
   "id": "bac3c018",
   "metadata": {},
   "outputs": [],
   "source": [
    "List = [2,3,4,5,5,6,7,4]"
   ]
  },
  {
   "cell_type": "code",
   "execution_count": 132,
   "id": "dc9ae4fd",
   "metadata": {},
   "outputs": [
    {
     "name": "stdout",
     "output_type": "stream",
     "text": [
      "[4, 9, 16, 25, 25, 36, 49, 16]\n"
     ]
    }
   ],
   "source": [
    "import threading\n",
    "square = []\n",
    "def test(a):\n",
    "    square.append(a**2)\n",
    "\n",
    "first_thread = [threading.Thread(target=test , args=(i,) )for i in List]\n",
    "for t in first_thread : \n",
    "    t.start()\n",
    "print(square)"
   ]
  },
  {
   "cell_type": "code",
   "execution_count": 133,
   "id": "cf04baf2",
   "metadata": {},
   "outputs": [
    {
     "name": "stdout",
     "output_type": "stream",
     "text": [
      "[8, 27, 64, 125, 125, 216, 343, 64]\n"
     ]
    }
   ],
   "source": [
    "import threading\n",
    "cube = []\n",
    "def test(a):\n",
    "    cube.append(a**3)\n",
    "\n",
    "second_thread = [threading.Thread(target=test , args=(i,) )for i in List]\n",
    "for t in second_thread : \n",
    "    t.start()\n",
    "print(cube)"
   ]
  },
  {
   "cell_type": "code",
   "execution_count": null,
   "id": "e34bf76c",
   "metadata": {},
   "outputs": [],
   "source": []
  },
  {
   "cell_type": "code",
   "execution_count": null,
   "id": "e214196c",
   "metadata": {},
   "outputs": [],
   "source": []
  },
  {
   "cell_type": "markdown",
   "id": "fe5e3587",
   "metadata": {},
   "source": [
    "#### Q5. State advantages and disadvantages of multithreading.\n"
   ]
  },
  {
   "cell_type": "code",
   "execution_count": null,
   "id": "084b9d40",
   "metadata": {},
   "outputs": [],
   "source": []
  },
  {
   "cell_type": "markdown",
   "id": "beb9ca63",
   "metadata": {},
   "source": [
    "| Advantages | Disadvantages |\n",
    "|------------|---------------|\n",
    "|Improved performance|Global Interpreter Lock|\n",
    "|Reduced idle time or processing time |Increased memory usage|\n",
    "|Concurrent execution|Thread safety issues|\n",
    "|Responsiveness|Increased complexity|\n"
   ]
  },
  {
   "cell_type": "markdown",
   "id": "94ad4591",
   "metadata": {},
   "source": [
    "#### Q6. Explain deadlocks and race conditions."
   ]
  },
  {
   "cell_type": "markdown",
   "id": "7510dea3",
   "metadata": {},
   "source": [
    "- deadlocks : A deadlock is a situation where two or more threads are blocked and unable to proceed because both are waiting for a resource that the other thread is holding.    \n",
    "- race conditions :  A race condition can occur when two or more threads access a shared variable without proper coordination"
   ]
  },
  {
   "cell_type": "code",
   "execution_count": null,
   "id": "9f556f92",
   "metadata": {},
   "outputs": [],
   "source": []
  },
  {
   "cell_type": "code",
   "execution_count": null,
   "id": "55eb7b14",
   "metadata": {},
   "outputs": [],
   "source": []
  }
 ],
 "metadata": {
  "kernelspec": {
   "display_name": "Python 3 (ipykernel)",
   "language": "python",
   "name": "python3"
  },
  "language_info": {
   "codemirror_mode": {
    "name": "ipython",
    "version": 3
   },
   "file_extension": ".py",
   "mimetype": "text/x-python",
   "name": "python",
   "nbconvert_exporter": "python",
   "pygments_lexer": "ipython3",
   "version": "3.7.1"
  }
 },
 "nbformat": 4,
 "nbformat_minor": 5
}
