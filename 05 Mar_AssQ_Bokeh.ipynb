{
 "cells": [
  {
   "cell_type": "code",
   "execution_count": 12,
   "id": "887a4366",
   "metadata": {},
   "outputs": [
    {
     "data": {
      "text/html": [
       "<div class=\"bk-root\">\n",
       "        <a href=\"https://bokeh.org\" target=\"_blank\" class=\"bk-logo bk-logo-small bk-logo-notebook\"></a>\n",
       "        <span id=\"2371\">Loading BokehJS ...</span>\n",
       "    </div>\n"
      ]
     },
     "metadata": {},
     "output_type": "display_data"
    },
    {
     "data": {
      "application/javascript": [
       "(function(root) {\n",
       "  function now() {\n",
       "    return new Date();\n",
       "  }\n",
       "\n",
       "  const force = true;\n",
       "\n",
       "  if (typeof root._bokeh_onload_callbacks === \"undefined\" || force === true) {\n",
       "    root._bokeh_onload_callbacks = [];\n",
       "    root._bokeh_is_loading = undefined;\n",
       "  }\n",
       "\n",
       "const JS_MIME_TYPE = 'application/javascript';\n",
       "  const HTML_MIME_TYPE = 'text/html';\n",
       "  const EXEC_MIME_TYPE = 'application/vnd.bokehjs_exec.v0+json';\n",
       "  const CLASS_NAME = 'output_bokeh rendered_html';\n",
       "\n",
       "  /**\n",
       "   * Render data to the DOM node\n",
       "   */\n",
       "  function render(props, node) {\n",
       "    const script = document.createElement(\"script\");\n",
       "    node.appendChild(script);\n",
       "  }\n",
       "\n",
       "  /**\n",
       "   * Handle when an output is cleared or removed\n",
       "   */\n",
       "  function handleClearOutput(event, handle) {\n",
       "    const cell = handle.cell;\n",
       "\n",
       "    const id = cell.output_area._bokeh_element_id;\n",
       "    const server_id = cell.output_area._bokeh_server_id;\n",
       "    // Clean up Bokeh references\n",
       "    if (id != null && id in Bokeh.index) {\n",
       "      Bokeh.index[id].model.document.clear();\n",
       "      delete Bokeh.index[id];\n",
       "    }\n",
       "\n",
       "    if (server_id !== undefined) {\n",
       "      // Clean up Bokeh references\n",
       "      const cmd_clean = \"from bokeh.io.state import curstate; print(curstate().uuid_to_server['\" + server_id + \"'].get_sessions()[0].document.roots[0]._id)\";\n",
       "      cell.notebook.kernel.execute(cmd_clean, {\n",
       "        iopub: {\n",
       "          output: function(msg) {\n",
       "            const id = msg.content.text.trim();\n",
       "            if (id in Bokeh.index) {\n",
       "              Bokeh.index[id].model.document.clear();\n",
       "              delete Bokeh.index[id];\n",
       "            }\n",
       "          }\n",
       "        }\n",
       "      });\n",
       "      // Destroy server and session\n",
       "      const cmd_destroy = \"import bokeh.io.notebook as ion; ion.destroy_server('\" + server_id + \"')\";\n",
       "      cell.notebook.kernel.execute(cmd_destroy);\n",
       "    }\n",
       "  }\n",
       "\n",
       "  /**\n",
       "   * Handle when a new output is added\n",
       "   */\n",
       "  function handleAddOutput(event, handle) {\n",
       "    const output_area = handle.output_area;\n",
       "    const output = handle.output;\n",
       "\n",
       "    // limit handleAddOutput to display_data with EXEC_MIME_TYPE content only\n",
       "    if ((output.output_type != \"display_data\") || (!Object.prototype.hasOwnProperty.call(output.data, EXEC_MIME_TYPE))) {\n",
       "      return\n",
       "    }\n",
       "\n",
       "    const toinsert = output_area.element.find(\".\" + CLASS_NAME.split(' ')[0]);\n",
       "\n",
       "    if (output.metadata[EXEC_MIME_TYPE][\"id\"] !== undefined) {\n",
       "      toinsert[toinsert.length - 1].firstChild.textContent = output.data[JS_MIME_TYPE];\n",
       "      // store reference to embed id on output_area\n",
       "      output_area._bokeh_element_id = output.metadata[EXEC_MIME_TYPE][\"id\"];\n",
       "    }\n",
       "    if (output.metadata[EXEC_MIME_TYPE][\"server_id\"] !== undefined) {\n",
       "      const bk_div = document.createElement(\"div\");\n",
       "      bk_div.innerHTML = output.data[HTML_MIME_TYPE];\n",
       "      const script_attrs = bk_div.children[0].attributes;\n",
       "      for (let i = 0; i < script_attrs.length; i++) {\n",
       "        toinsert[toinsert.length - 1].firstChild.setAttribute(script_attrs[i].name, script_attrs[i].value);\n",
       "        toinsert[toinsert.length - 1].firstChild.textContent = bk_div.children[0].textContent\n",
       "      }\n",
       "      // store reference to server id on output_area\n",
       "      output_area._bokeh_server_id = output.metadata[EXEC_MIME_TYPE][\"server_id\"];\n",
       "    }\n",
       "  }\n",
       "\n",
       "  function register_renderer(events, OutputArea) {\n",
       "\n",
       "    function append_mime(data, metadata, element) {\n",
       "      // create a DOM node to render to\n",
       "      const toinsert = this.create_output_subarea(\n",
       "        metadata,\n",
       "        CLASS_NAME,\n",
       "        EXEC_MIME_TYPE\n",
       "      );\n",
       "      this.keyboard_manager.register_events(toinsert);\n",
       "      // Render to node\n",
       "      const props = {data: data, metadata: metadata[EXEC_MIME_TYPE]};\n",
       "      render(props, toinsert[toinsert.length - 1]);\n",
       "      element.append(toinsert);\n",
       "      return toinsert\n",
       "    }\n",
       "\n",
       "    /* Handle when an output is cleared or removed */\n",
       "    events.on('clear_output.CodeCell', handleClearOutput);\n",
       "    events.on('delete.Cell', handleClearOutput);\n",
       "\n",
       "    /* Handle when a new output is added */\n",
       "    events.on('output_added.OutputArea', handleAddOutput);\n",
       "\n",
       "    /**\n",
       "     * Register the mime type and append_mime function with output_area\n",
       "     */\n",
       "    OutputArea.prototype.register_mime_type(EXEC_MIME_TYPE, append_mime, {\n",
       "      /* Is output safe? */\n",
       "      safe: true,\n",
       "      /* Index of renderer in `output_area.display_order` */\n",
       "      index: 0\n",
       "    });\n",
       "  }\n",
       "\n",
       "  // register the mime type if in Jupyter Notebook environment and previously unregistered\n",
       "  if (root.Jupyter !== undefined) {\n",
       "    const events = require('base/js/events');\n",
       "    const OutputArea = require('notebook/js/outputarea').OutputArea;\n",
       "\n",
       "    if (OutputArea.prototype.mime_types().indexOf(EXEC_MIME_TYPE) == -1) {\n",
       "      register_renderer(events, OutputArea);\n",
       "    }\n",
       "  }\n",
       "  if (typeof (root._bokeh_timeout) === \"undefined\" || force === true) {\n",
       "    root._bokeh_timeout = Date.now() + 5000;\n",
       "    root._bokeh_failed_load = false;\n",
       "  }\n",
       "\n",
       "  const NB_LOAD_WARNING = {'data': {'text/html':\n",
       "     \"<div style='background-color: #fdd'>\\n\"+\n",
       "     \"<p>\\n\"+\n",
       "     \"BokehJS does not appear to have successfully loaded. If loading BokehJS from CDN, this \\n\"+\n",
       "     \"may be due to a slow or bad network connection. Possible fixes:\\n\"+\n",
       "     \"</p>\\n\"+\n",
       "     \"<ul>\\n\"+\n",
       "     \"<li>re-rerun `output_notebook()` to attempt to load from CDN again, or</li>\\n\"+\n",
       "     \"<li>use INLINE resources instead, as so:</li>\\n\"+\n",
       "     \"</ul>\\n\"+\n",
       "     \"<code>\\n\"+\n",
       "     \"from bokeh.resources import INLINE\\n\"+\n",
       "     \"output_notebook(resources=INLINE)\\n\"+\n",
       "     \"</code>\\n\"+\n",
       "     \"</div>\"}};\n",
       "\n",
       "  function display_loaded() {\n",
       "    const el = document.getElementById(\"2371\");\n",
       "    if (el != null) {\n",
       "      el.textContent = \"BokehJS is loading...\";\n",
       "    }\n",
       "    if (root.Bokeh !== undefined) {\n",
       "      if (el != null) {\n",
       "        el.textContent = \"BokehJS \" + root.Bokeh.version + \" successfully loaded.\";\n",
       "      }\n",
       "    } else if (Date.now() < root._bokeh_timeout) {\n",
       "      setTimeout(display_loaded, 100)\n",
       "    }\n",
       "  }\n",
       "\n",
       "  function run_callbacks() {\n",
       "    try {\n",
       "      root._bokeh_onload_callbacks.forEach(function(callback) {\n",
       "        if (callback != null)\n",
       "          callback();\n",
       "      });\n",
       "    } finally {\n",
       "      delete root._bokeh_onload_callbacks\n",
       "    }\n",
       "    console.debug(\"Bokeh: all callbacks have finished\");\n",
       "  }\n",
       "\n",
       "  function load_libs(css_urls, js_urls, callback) {\n",
       "    if (css_urls == null) css_urls = [];\n",
       "    if (js_urls == null) js_urls = [];\n",
       "\n",
       "    root._bokeh_onload_callbacks.push(callback);\n",
       "    if (root._bokeh_is_loading > 0) {\n",
       "      console.debug(\"Bokeh: BokehJS is being loaded, scheduling callback at\", now());\n",
       "      return null;\n",
       "    }\n",
       "    if (js_urls == null || js_urls.length === 0) {\n",
       "      run_callbacks();\n",
       "      return null;\n",
       "    }\n",
       "    console.debug(\"Bokeh: BokehJS not loaded, scheduling load and callback at\", now());\n",
       "    root._bokeh_is_loading = css_urls.length + js_urls.length;\n",
       "\n",
       "    function on_load() {\n",
       "      root._bokeh_is_loading--;\n",
       "      if (root._bokeh_is_loading === 0) {\n",
       "        console.debug(\"Bokeh: all BokehJS libraries/stylesheets loaded\");\n",
       "        run_callbacks()\n",
       "      }\n",
       "    }\n",
       "\n",
       "    function on_error(url) {\n",
       "      console.error(\"failed to load \" + url);\n",
       "    }\n",
       "\n",
       "    for (let i = 0; i < css_urls.length; i++) {\n",
       "      const url = css_urls[i];\n",
       "      const element = document.createElement(\"link\");\n",
       "      element.onload = on_load;\n",
       "      element.onerror = on_error.bind(null, url);\n",
       "      element.rel = \"stylesheet\";\n",
       "      element.type = \"text/css\";\n",
       "      element.href = url;\n",
       "      console.debug(\"Bokeh: injecting link tag for BokehJS stylesheet: \", url);\n",
       "      document.body.appendChild(element);\n",
       "    }\n",
       "\n",
       "    for (let i = 0; i < js_urls.length; i++) {\n",
       "      const url = js_urls[i];\n",
       "      const element = document.createElement('script');\n",
       "      element.onload = on_load;\n",
       "      element.onerror = on_error.bind(null, url);\n",
       "      element.async = false;\n",
       "      element.src = url;\n",
       "      console.debug(\"Bokeh: injecting script tag for BokehJS library: \", url);\n",
       "      document.head.appendChild(element);\n",
       "    }\n",
       "  };\n",
       "\n",
       "  function inject_raw_css(css) {\n",
       "    const element = document.createElement(\"style\");\n",
       "    element.appendChild(document.createTextNode(css));\n",
       "    document.body.appendChild(element);\n",
       "  }\n",
       "\n",
       "  const js_urls = [\"https://cdn.bokeh.org/bokeh/release/bokeh-2.4.3.min.js\", \"https://cdn.bokeh.org/bokeh/release/bokeh-gl-2.4.3.min.js\", \"https://cdn.bokeh.org/bokeh/release/bokeh-widgets-2.4.3.min.js\", \"https://cdn.bokeh.org/bokeh/release/bokeh-tables-2.4.3.min.js\", \"https://cdn.bokeh.org/bokeh/release/bokeh-mathjax-2.4.3.min.js\"];\n",
       "  const css_urls = [];\n",
       "\n",
       "  const inline_js = [    function(Bokeh) {\n",
       "      Bokeh.set_log_level(\"info\");\n",
       "    },\n",
       "function(Bokeh) {\n",
       "    }\n",
       "  ];\n",
       "\n",
       "  function run_inline_js() {\n",
       "    if (root.Bokeh !== undefined || force === true) {\n",
       "          for (let i = 0; i < inline_js.length; i++) {\n",
       "      inline_js[i].call(root, root.Bokeh);\n",
       "    }\n",
       "if (force === true) {\n",
       "        display_loaded();\n",
       "      }} else if (Date.now() < root._bokeh_timeout) {\n",
       "      setTimeout(run_inline_js, 100);\n",
       "    } else if (!root._bokeh_failed_load) {\n",
       "      console.log(\"Bokeh: BokehJS failed to load within specified timeout.\");\n",
       "      root._bokeh_failed_load = true;\n",
       "    } else if (force !== true) {\n",
       "      const cell = $(document.getElementById(\"2371\")).parents('.cell').data().cell;\n",
       "      cell.output_area.append_execute_result(NB_LOAD_WARNING)\n",
       "    }\n",
       "  }\n",
       "\n",
       "  if (root._bokeh_is_loading === 0) {\n",
       "    console.debug(\"Bokeh: BokehJS loaded, going straight to plotting\");\n",
       "    run_inline_js();\n",
       "  } else {\n",
       "    load_libs(css_urls, js_urls, function() {\n",
       "      console.debug(\"Bokeh: BokehJS plotting callback run at\", now());\n",
       "      run_inline_js();\n",
       "    });\n",
       "  }\n",
       "}(window));"
      ],
      "application/vnd.bokehjs_load.v0+json": "(function(root) {\n  function now() {\n    return new Date();\n  }\n\n  const force = true;\n\n  if (typeof root._bokeh_onload_callbacks === \"undefined\" || force === true) {\n    root._bokeh_onload_callbacks = [];\n    root._bokeh_is_loading = undefined;\n  }\n\n\n  if (typeof (root._bokeh_timeout) === \"undefined\" || force === true) {\n    root._bokeh_timeout = Date.now() + 5000;\n    root._bokeh_failed_load = false;\n  }\n\n  const NB_LOAD_WARNING = {'data': {'text/html':\n     \"<div style='background-color: #fdd'>\\n\"+\n     \"<p>\\n\"+\n     \"BokehJS does not appear to have successfully loaded. If loading BokehJS from CDN, this \\n\"+\n     \"may be due to a slow or bad network connection. Possible fixes:\\n\"+\n     \"</p>\\n\"+\n     \"<ul>\\n\"+\n     \"<li>re-rerun `output_notebook()` to attempt to load from CDN again, or</li>\\n\"+\n     \"<li>use INLINE resources instead, as so:</li>\\n\"+\n     \"</ul>\\n\"+\n     \"<code>\\n\"+\n     \"from bokeh.resources import INLINE\\n\"+\n     \"output_notebook(resources=INLINE)\\n\"+\n     \"</code>\\n\"+\n     \"</div>\"}};\n\n  function display_loaded() {\n    const el = document.getElementById(\"2371\");\n    if (el != null) {\n      el.textContent = \"BokehJS is loading...\";\n    }\n    if (root.Bokeh !== undefined) {\n      if (el != null) {\n        el.textContent = \"BokehJS \" + root.Bokeh.version + \" successfully loaded.\";\n      }\n    } else if (Date.now() < root._bokeh_timeout) {\n      setTimeout(display_loaded, 100)\n    }\n  }\n\n  function run_callbacks() {\n    try {\n      root._bokeh_onload_callbacks.forEach(function(callback) {\n        if (callback != null)\n          callback();\n      });\n    } finally {\n      delete root._bokeh_onload_callbacks\n    }\n    console.debug(\"Bokeh: all callbacks have finished\");\n  }\n\n  function load_libs(css_urls, js_urls, callback) {\n    if (css_urls == null) css_urls = [];\n    if (js_urls == null) js_urls = [];\n\n    root._bokeh_onload_callbacks.push(callback);\n    if (root._bokeh_is_loading > 0) {\n      console.debug(\"Bokeh: BokehJS is being loaded, scheduling callback at\", now());\n      return null;\n    }\n    if (js_urls == null || js_urls.length === 0) {\n      run_callbacks();\n      return null;\n    }\n    console.debug(\"Bokeh: BokehJS not loaded, scheduling load and callback at\", now());\n    root._bokeh_is_loading = css_urls.length + js_urls.length;\n\n    function on_load() {\n      root._bokeh_is_loading--;\n      if (root._bokeh_is_loading === 0) {\n        console.debug(\"Bokeh: all BokehJS libraries/stylesheets loaded\");\n        run_callbacks()\n      }\n    }\n\n    function on_error(url) {\n      console.error(\"failed to load \" + url);\n    }\n\n    for (let i = 0; i < css_urls.length; i++) {\n      const url = css_urls[i];\n      const element = document.createElement(\"link\");\n      element.onload = on_load;\n      element.onerror = on_error.bind(null, url);\n      element.rel = \"stylesheet\";\n      element.type = \"text/css\";\n      element.href = url;\n      console.debug(\"Bokeh: injecting link tag for BokehJS stylesheet: \", url);\n      document.body.appendChild(element);\n    }\n\n    for (let i = 0; i < js_urls.length; i++) {\n      const url = js_urls[i];\n      const element = document.createElement('script');\n      element.onload = on_load;\n      element.onerror = on_error.bind(null, url);\n      element.async = false;\n      element.src = url;\n      console.debug(\"Bokeh: injecting script tag for BokehJS library: \", url);\n      document.head.appendChild(element);\n    }\n  };\n\n  function inject_raw_css(css) {\n    const element = document.createElement(\"style\");\n    element.appendChild(document.createTextNode(css));\n    document.body.appendChild(element);\n  }\n\n  const js_urls = [\"https://cdn.bokeh.org/bokeh/release/bokeh-2.4.3.min.js\", \"https://cdn.bokeh.org/bokeh/release/bokeh-gl-2.4.3.min.js\", \"https://cdn.bokeh.org/bokeh/release/bokeh-widgets-2.4.3.min.js\", \"https://cdn.bokeh.org/bokeh/release/bokeh-tables-2.4.3.min.js\", \"https://cdn.bokeh.org/bokeh/release/bokeh-mathjax-2.4.3.min.js\"];\n  const css_urls = [];\n\n  const inline_js = [    function(Bokeh) {\n      Bokeh.set_log_level(\"info\");\n    },\nfunction(Bokeh) {\n    }\n  ];\n\n  function run_inline_js() {\n    if (root.Bokeh !== undefined || force === true) {\n          for (let i = 0; i < inline_js.length; i++) {\n      inline_js[i].call(root, root.Bokeh);\n    }\nif (force === true) {\n        display_loaded();\n      }} else if (Date.now() < root._bokeh_timeout) {\n      setTimeout(run_inline_js, 100);\n    } else if (!root._bokeh_failed_load) {\n      console.log(\"Bokeh: BokehJS failed to load within specified timeout.\");\n      root._bokeh_failed_load = true;\n    } else if (force !== true) {\n      const cell = $(document.getElementById(\"2371\")).parents('.cell').data().cell;\n      cell.output_area.append_execute_result(NB_LOAD_WARNING)\n    }\n  }\n\n  if (root._bokeh_is_loading === 0) {\n    console.debug(\"Bokeh: BokehJS loaded, going straight to plotting\");\n    run_inline_js();\n  } else {\n    load_libs(css_urls, js_urls, function() {\n      console.debug(\"Bokeh: BokehJS plotting callback run at\", now());\n      run_inline_js();\n    });\n  }\n}(window));"
     },
     "metadata": {},
     "output_type": "display_data"
    }
   ],
   "source": [
    "import bokeh.io\n",
    "import bokeh.plotting\n",
    "bokeh.io.output_notebook()\n",
    "from bokeh.plotting import figure ,output_file , show\n",
    "from bokeh.sampledata.iris import flowers\n",
    "import numpy as np\n",
    "import pandas as pd"
   ]
  },
  {
   "cell_type": "markdown",
   "id": "f804d589",
   "metadata": {},
   "source": [
    "#### Q1. How can you create a Bokeh plot using Python code?\n"
   ]
  },
  {
   "cell_type": "markdown",
   "id": "6cf4e1ba",
   "metadata": {},
   "source": [
    "Solution : \n",
    "- create data x and y\n",
    "- set your title, x and y label names\n",
    "- set a html file name\n",
    "- class show function with plot parameter"
   ]
  },
  {
   "cell_type": "code",
   "execution_count": 9,
   "id": "841b765c",
   "metadata": {},
   "outputs": [
    {
     "data": {
      "text/html": [
       "\n",
       "  <div class=\"bk-root\" id=\"08ededba-cbcc-48f1-8737-60917d955913\" data-root-id=\"2109\"></div>\n"
      ]
     },
     "metadata": {},
     "output_type": "display_data"
    },
    {
     "data": {
      "application/javascript": [
       "(function(root) {\n",
       "  function embed_document(root) {\n",
       "  const docs_json = {\"c7b4e0b6-e56b-441e-8292-3aa62356fa5b\":{\"defs\":[],\"roots\":{\"references\":[{\"attributes\":{\"below\":[{\"id\":\"2120\"}],\"center\":[{\"id\":\"2123\"},{\"id\":\"2127\"},{\"id\":\"2158\"}],\"left\":[{\"id\":\"2124\"}],\"renderers\":[{\"id\":\"2146\"}],\"title\":{\"id\":\"2110\"},\"toolbar\":{\"id\":\"2135\"},\"x_range\":{\"id\":\"2112\"},\"x_scale\":{\"id\":\"2116\"},\"y_range\":{\"id\":\"2114\"},\"y_scale\":{\"id\":\"2118\"}},\"id\":\"2109\",\"subtype\":\"Figure\",\"type\":\"Plot\"},{\"attributes\":{\"line_alpha\":0.2,\"line_color\":\"#1f77b4\",\"line_width\":2,\"x\":{\"field\":\"x\"},\"y\":{\"field\":\"y\"}},\"id\":\"2145\",\"type\":\"Line\"},{\"attributes\":{\"axis\":{\"id\":\"2124\"},\"coordinates\":null,\"dimension\":1,\"group\":null,\"ticker\":null},\"id\":\"2127\",\"type\":\"Grid\"},{\"attributes\":{\"tools\":[{\"id\":\"2128\"},{\"id\":\"2129\"},{\"id\":\"2130\"},{\"id\":\"2131\"},{\"id\":\"2132\"},{\"id\":\"2133\"}]},\"id\":\"2135\",\"type\":\"Toolbar\"},{\"attributes\":{\"line_color\":\"#1f77b4\",\"line_width\":2,\"x\":{\"field\":\"x\"},\"y\":{\"field\":\"y\"}},\"id\":\"2143\",\"type\":\"Line\"},{\"attributes\":{\"bottom_units\":\"screen\",\"coordinates\":null,\"fill_alpha\":0.5,\"fill_color\":\"lightgrey\",\"group\":null,\"left_units\":\"screen\",\"level\":\"overlay\",\"line_alpha\":1.0,\"line_color\":\"black\",\"line_dash\":[4,4],\"line_width\":2,\"right_units\":\"screen\",\"syncable\":false,\"top_units\":\"screen\"},\"id\":\"2134\",\"type\":\"BoxAnnotation\"},{\"attributes\":{},\"id\":\"2156\",\"type\":\"Selection\"},{\"attributes\":{\"label\":{\"value\":\"Line\"},\"renderers\":[{\"id\":\"2146\"}]},\"id\":\"2159\",\"type\":\"LegendItem\"},{\"attributes\":{},\"id\":\"2114\",\"type\":\"DataRange1d\"},{\"attributes\":{},\"id\":\"2116\",\"type\":\"LinearScale\"},{\"attributes\":{\"data\":{\"x\":{\"__ndarray__\":\"DAAAAA0AAAAGAAAAAgAAABcAAAAIAAAAFwAAAA4AAAARAAAACgAAAA==\",\"dtype\":\"int32\",\"order\":\"little\",\"shape\":[10]},\"y\":{\"__ndarray__\":\"AgAAABwAAAAdAAAAGwAAABEAAAAaAAAABgAAAAQAAAAYAAAABAAAAA==\",\"dtype\":\"int32\",\"order\":\"little\",\"shape\":[10]}},\"selected\":{\"id\":\"2156\"},\"selection_policy\":{\"id\":\"2155\"}},\"id\":\"2142\",\"type\":\"ColumnDataSource\"},{\"attributes\":{},\"id\":\"2133\",\"type\":\"HelpTool\"},{\"attributes\":{\"coordinates\":null,\"group\":null,\"text\":\"My Plot title\"},\"id\":\"2110\",\"type\":\"Title\"},{\"attributes\":{\"line_alpha\":0.1,\"line_color\":\"#1f77b4\",\"line_width\":2,\"x\":{\"field\":\"x\"},\"y\":{\"field\":\"y\"}},\"id\":\"2144\",\"type\":\"Line\"},{\"attributes\":{},\"id\":\"2112\",\"type\":\"DataRange1d\"},{\"attributes\":{},\"id\":\"2150\",\"type\":\"BasicTickFormatter\"},{\"attributes\":{},\"id\":\"2132\",\"type\":\"ResetTool\"},{\"attributes\":{},\"id\":\"2128\",\"type\":\"PanTool\"},{\"attributes\":{},\"id\":\"2151\",\"type\":\"AllLabels\"},{\"attributes\":{},\"id\":\"2131\",\"type\":\"SaveTool\"},{\"attributes\":{},\"id\":\"2125\",\"type\":\"BasicTicker\"},{\"attributes\":{},\"id\":\"2153\",\"type\":\"BasicTickFormatter\"},{\"attributes\":{\"source\":{\"id\":\"2142\"}},\"id\":\"2147\",\"type\":\"CDSView\"},{\"attributes\":{\"overlay\":{\"id\":\"2134\"}},\"id\":\"2130\",\"type\":\"BoxZoomTool\"},{\"attributes\":{\"axis_label\":\"x-label\",\"coordinates\":null,\"formatter\":{\"id\":\"2153\"},\"group\":null,\"major_label_policy\":{\"id\":\"2154\"},\"ticker\":{\"id\":\"2121\"}},\"id\":\"2120\",\"type\":\"LinearAxis\"},{\"attributes\":{},\"id\":\"2129\",\"type\":\"WheelZoomTool\"},{\"attributes\":{\"axis\":{\"id\":\"2120\"},\"coordinates\":null,\"group\":null,\"ticker\":null},\"id\":\"2123\",\"type\":\"Grid\"},{\"attributes\":{},\"id\":\"2118\",\"type\":\"LinearScale\"},{\"attributes\":{\"coordinates\":null,\"data_source\":{\"id\":\"2142\"},\"glyph\":{\"id\":\"2143\"},\"group\":null,\"hover_glyph\":null,\"muted_glyph\":{\"id\":\"2145\"},\"nonselection_glyph\":{\"id\":\"2144\"},\"view\":{\"id\":\"2147\"}},\"id\":\"2146\",\"type\":\"GlyphRenderer\"},{\"attributes\":{\"coordinates\":null,\"group\":null,\"items\":[{\"id\":\"2159\"}]},\"id\":\"2158\",\"type\":\"Legend\"},{\"attributes\":{},\"id\":\"2121\",\"type\":\"BasicTicker\"},{\"attributes\":{},\"id\":\"2155\",\"type\":\"UnionRenderers\"},{\"attributes\":{\"axis_label\":\"y-label\",\"coordinates\":null,\"formatter\":{\"id\":\"2150\"},\"group\":null,\"major_label_policy\":{\"id\":\"2151\"},\"ticker\":{\"id\":\"2125\"}},\"id\":\"2124\",\"type\":\"LinearAxis\"},{\"attributes\":{},\"id\":\"2154\",\"type\":\"AllLabels\"}],\"root_ids\":[\"2109\"]},\"title\":\"Bokeh Application\",\"version\":\"2.4.3\"}};\n",
       "  const render_items = [{\"docid\":\"c7b4e0b6-e56b-441e-8292-3aa62356fa5b\",\"root_ids\":[\"2109\"],\"roots\":{\"2109\":\"08ededba-cbcc-48f1-8737-60917d955913\"}}];\n",
       "  root.Bokeh.embed.embed_items_notebook(docs_json, render_items);\n",
       "  }\n",
       "  if (root.Bokeh !== undefined) {\n",
       "    embed_document(root);\n",
       "  } else {\n",
       "    let attempts = 0;\n",
       "    const timer = setInterval(function(root) {\n",
       "      if (root.Bokeh !== undefined) {\n",
       "        clearInterval(timer);\n",
       "        embed_document(root);\n",
       "      } else {\n",
       "        attempts++;\n",
       "        if (attempts > 100) {\n",
       "          clearInterval(timer);\n",
       "          console.log(\"Bokeh: ERROR: Unable to run BokehJS code because BokehJS library is missing\");\n",
       "        }\n",
       "      }\n",
       "    }, 10, root)\n",
       "  }\n",
       "})(window);"
      ],
      "application/vnd.bokehjs_exec.v0+json": ""
     },
     "metadata": {
      "application/vnd.bokehjs_exec.v0+json": {
       "id": "2109"
      }
     },
     "output_type": "display_data"
    }
   ],
   "source": [
    "# create data x and y\n",
    "x = np.random.randint(2, high=30, size=10, dtype=int)\n",
    "y = np.random.randint(2, high=30, size=10, dtype=int)\n",
    "# set your title, x and y label names\n",
    "p = figure(title=\"My Plot title\", x_axis_label='x-label', y_axis_label='y-label')\n",
    "p.line(x, y, legend_label=\"Line\", line_width=2)\n",
    "output_file(\"myplot.html\")\n",
    "show(p)"
   ]
  },
  {
   "cell_type": "markdown",
   "id": "a0ad58ce",
   "metadata": {},
   "source": [
    "#### Q2. What are glyphs in Bokeh, and how can you add them to a Bokeh plot? Explain with an example.\n"
   ]
  },
  {
   "cell_type": "markdown",
   "id": "a566b678",
   "metadata": {},
   "source": [
    "Solution : glyphs it can be used to represent a point in a plot. It provides visual marks.             \n",
    "- In this example I have used only two glyphs circle and square"
   ]
  },
  {
   "cell_type": "code",
   "execution_count": 19,
   "id": "0260fcb0",
   "metadata": {},
   "outputs": [
    {
     "data": {
      "text/html": [
       "\n",
       "  <div class=\"bk-root\" id=\"fa6a610b-12f1-47a7-a8ee-b504c56b20a6\" data-root-id=\"5239\"></div>\n"
      ]
     },
     "metadata": {},
     "output_type": "display_data"
    },
    {
     "data": {
      "application/javascript": [
       "(function(root) {\n",
       "  function embed_document(root) {\n",
       "  const docs_json = {\"cf7bfe55-1a29-46f8-be5a-4abb4c7b474f\":{\"defs\":[],\"roots\":{\"references\":[{\"attributes\":{\"below\":[{\"id\":\"5250\"}],\"center\":[{\"id\":\"5253\"},{\"id\":\"5257\"}],\"left\":[{\"id\":\"5254\"}],\"renderers\":[{\"id\":\"5276\"},{\"id\":\"5282\"},{\"id\":\"5288\"}],\"title\":{\"id\":\"5240\"},\"toolbar\":{\"id\":\"5265\"},\"x_range\":{\"id\":\"5242\"},\"x_scale\":{\"id\":\"5246\"},\"y_range\":{\"id\":\"5244\"},\"y_scale\":{\"id\":\"5248\"}},\"id\":\"5239\",\"subtype\":\"Figure\",\"type\":\"Plot\"},{\"attributes\":{\"overlay\":{\"id\":\"5264\"}},\"id\":\"5260\",\"type\":\"BoxZoomTool\"},{\"attributes\":{\"coordinates\":null,\"formatter\":{\"id\":\"5420\"},\"group\":null,\"major_label_policy\":{\"id\":\"5421\"},\"ticker\":{\"id\":\"5251\"}},\"id\":\"5250\",\"type\":\"LinearAxis\"},{\"attributes\":{},\"id\":\"5417\",\"type\":\"BasicTickFormatter\"},{\"attributes\":{\"source\":{\"id\":\"5278\"}},\"id\":\"5283\",\"type\":\"CDSView\"},{\"attributes\":{\"fill_alpha\":{\"value\":0.2},\"fill_color\":{\"value\":\"red\"},\"hatch_alpha\":{\"value\":0.2},\"hatch_color\":{\"value\":\"red\"},\"line_alpha\":{\"value\":0.2},\"line_color\":{\"value\":\"red\"},\"size\":{\"value\":20},\"x\":{\"field\":\"x\"},\"y\":{\"field\":\"y\"}},\"id\":\"5275\",\"type\":\"Circle\"},{\"attributes\":{},\"id\":\"5420\",\"type\":\"BasicTickFormatter\"},{\"attributes\":{\"axis\":{\"id\":\"5250\"},\"coordinates\":null,\"group\":null,\"ticker\":null},\"id\":\"5253\",\"type\":\"Grid\"},{\"attributes\":{\"data\":{\"x\":{\"__ndarray__\":\"AAAAAAEAAAACAAAAAwAAAAQAAAA=\",\"dtype\":\"int32\",\"order\":\"little\",\"shape\":[5]},\"y\":{\"__ndarray__\":\"AAAAAAEAAAAEAAAACQAAABAAAAA=\",\"dtype\":\"int32\",\"order\":\"little\",\"shape\":[5]}},\"selected\":{\"id\":\"5427\"},\"selection_policy\":{\"id\":\"5426\"}},\"id\":\"5284\",\"type\":\"ColumnDataSource\"},{\"attributes\":{\"fill_alpha\":{\"value\":0.1},\"fill_color\":{\"value\":\"blue\"},\"hatch_alpha\":{\"value\":0.1},\"hatch_color\":{\"value\":\"blue\"},\"line_alpha\":{\"value\":0.1},\"line_color\":{\"value\":\"blue\"},\"marker\":{\"value\":\"square\"},\"size\":{\"value\":15},\"x\":{\"field\":\"x\"},\"y\":{\"field\":\"y\"}},\"id\":\"5280\",\"type\":\"Scatter\"},{\"attributes\":{\"data\":{\"x\":{\"__ndarray__\":\"AAAAAAEAAAACAAAAAwAAAAQAAAA=\",\"dtype\":\"int32\",\"order\":\"little\",\"shape\":[5]},\"y\":{\"__ndarray__\":\"AAAAAAEAAAAEAAAACQAAABAAAAA=\",\"dtype\":\"int32\",\"order\":\"little\",\"shape\":[5]}},\"selected\":{\"id\":\"5423\"},\"selection_policy\":{\"id\":\"5422\"}},\"id\":\"5272\",\"type\":\"ColumnDataSource\"},{\"attributes\":{\"fill_color\":{\"value\":\"red\"},\"hatch_color\":{\"value\":\"red\"},\"line_color\":{\"value\":\"red\"},\"size\":{\"value\":20},\"x\":{\"field\":\"x\"},\"y\":{\"field\":\"y\"}},\"id\":\"5273\",\"type\":\"Circle\"},{\"attributes\":{\"coordinates\":null,\"data_source\":{\"id\":\"5278\"},\"glyph\":{\"id\":\"5279\"},\"group\":null,\"hover_glyph\":null,\"muted_glyph\":{\"id\":\"5281\"},\"nonselection_glyph\":{\"id\":\"5280\"},\"view\":{\"id\":\"5283\"}},\"id\":\"5282\",\"type\":\"GlyphRenderer\"},{\"attributes\":{\"fill_alpha\":{\"value\":0.1},\"fill_color\":{\"value\":\"red\"},\"hatch_alpha\":{\"value\":0.1},\"hatch_color\":{\"value\":\"red\"},\"line_alpha\":{\"value\":0.1},\"line_color\":{\"value\":\"red\"},\"size\":{\"value\":20},\"x\":{\"field\":\"x\"},\"y\":{\"field\":\"y\"}},\"id\":\"5274\",\"type\":\"Circle\"},{\"attributes\":{\"data\":{\"x\":{\"__ndarray__\":\"AAAAAAEAAAACAAAAAwAAAAQAAAA=\",\"dtype\":\"int32\",\"order\":\"little\",\"shape\":[5]},\"y\":{\"__ndarray__\":\"AAAAAAMAAAAGAAAACQAAAAwAAAA=\",\"dtype\":\"int32\",\"order\":\"little\",\"shape\":[5]}},\"selected\":{\"id\":\"5425\"},\"selection_policy\":{\"id\":\"5424\"}},\"id\":\"5278\",\"type\":\"ColumnDataSource\"},{\"attributes\":{\"source\":{\"id\":\"5272\"}},\"id\":\"5277\",\"type\":\"CDSView\"},{\"attributes\":{},\"id\":\"5421\",\"type\":\"AllLabels\"},{\"attributes\":{},\"id\":\"5424\",\"type\":\"UnionRenderers\"},{\"attributes\":{\"line_alpha\":0.2,\"line_color\":\"green\",\"line_width\":4,\"x\":{\"field\":\"x\"},\"y\":{\"field\":\"y\"}},\"id\":\"5287\",\"type\":\"Line\"},{\"attributes\":{\"line_alpha\":0.1,\"line_color\":\"green\",\"line_width\":4,\"x\":{\"field\":\"x\"},\"y\":{\"field\":\"y\"}},\"id\":\"5286\",\"type\":\"Line\"},{\"attributes\":{\"coordinates\":null,\"formatter\":{\"id\":\"5417\"},\"group\":null,\"major_label_policy\":{\"id\":\"5418\"},\"ticker\":{\"id\":\"5255\"}},\"id\":\"5254\",\"type\":\"LinearAxis\"},{\"attributes\":{},\"id\":\"5244\",\"type\":\"DataRange1d\"},{\"attributes\":{\"coordinates\":null,\"data_source\":{\"id\":\"5272\"},\"glyph\":{\"id\":\"5273\"},\"group\":null,\"hover_glyph\":null,\"muted_glyph\":{\"id\":\"5275\"},\"nonselection_glyph\":{\"id\":\"5274\"},\"view\":{\"id\":\"5277\"}},\"id\":\"5276\",\"type\":\"GlyphRenderer\"},{\"attributes\":{\"fill_alpha\":{\"value\":0.5},\"fill_color\":{\"value\":\"blue\"},\"hatch_alpha\":{\"value\":0.5},\"hatch_color\":{\"value\":\"blue\"},\"line_alpha\":{\"value\":0.5},\"line_color\":{\"value\":\"blue\"},\"marker\":{\"value\":\"square\"},\"size\":{\"value\":15},\"x\":{\"field\":\"x\"},\"y\":{\"field\":\"y\"}},\"id\":\"5279\",\"type\":\"Scatter\"},{\"attributes\":{},\"id\":\"5262\",\"type\":\"ResetTool\"},{\"attributes\":{\"coordinates\":null,\"group\":null,\"text\":\"Only two glyphs uses\"},\"id\":\"5240\",\"type\":\"Title\"},{\"attributes\":{},\"id\":\"5418\",\"type\":\"AllLabels\"},{\"attributes\":{},\"id\":\"5246\",\"type\":\"LinearScale\"},{\"attributes\":{},\"id\":\"5255\",\"type\":\"BasicTicker\"},{\"attributes\":{},\"id\":\"5423\",\"type\":\"Selection\"},{\"attributes\":{},\"id\":\"5426\",\"type\":\"UnionRenderers\"},{\"attributes\":{},\"id\":\"5263\",\"type\":\"HelpTool\"},{\"attributes\":{},\"id\":\"5427\",\"type\":\"Selection\"},{\"attributes\":{\"axis\":{\"id\":\"5254\"},\"coordinates\":null,\"dimension\":1,\"group\":null,\"ticker\":null},\"id\":\"5257\",\"type\":\"Grid\"},{\"attributes\":{},\"id\":\"5425\",\"type\":\"Selection\"},{\"attributes\":{},\"id\":\"5242\",\"type\":\"DataRange1d\"},{\"attributes\":{},\"id\":\"5259\",\"type\":\"WheelZoomTool\"},{\"attributes\":{},\"id\":\"5248\",\"type\":\"LinearScale\"},{\"attributes\":{},\"id\":\"5251\",\"type\":\"BasicTicker\"},{\"attributes\":{},\"id\":\"5258\",\"type\":\"PanTool\"},{\"attributes\":{\"fill_alpha\":{\"value\":0.2},\"fill_color\":{\"value\":\"blue\"},\"hatch_alpha\":{\"value\":0.2},\"hatch_color\":{\"value\":\"blue\"},\"line_alpha\":{\"value\":0.2},\"line_color\":{\"value\":\"blue\"},\"marker\":{\"value\":\"square\"},\"size\":{\"value\":15},\"x\":{\"field\":\"x\"},\"y\":{\"field\":\"y\"}},\"id\":\"5281\",\"type\":\"Scatter\"},{\"attributes\":{},\"id\":\"5261\",\"type\":\"SaveTool\"},{\"attributes\":{},\"id\":\"5422\",\"type\":\"UnionRenderers\"},{\"attributes\":{\"bottom_units\":\"screen\",\"coordinates\":null,\"fill_alpha\":0.5,\"fill_color\":\"lightgrey\",\"group\":null,\"left_units\":\"screen\",\"level\":\"overlay\",\"line_alpha\":1.0,\"line_color\":\"black\",\"line_dash\":[4,4],\"line_width\":2,\"right_units\":\"screen\",\"syncable\":false,\"top_units\":\"screen\"},\"id\":\"5264\",\"type\":\"BoxAnnotation\"},{\"attributes\":{\"tools\":[{\"id\":\"5258\"},{\"id\":\"5259\"},{\"id\":\"5260\"},{\"id\":\"5261\"},{\"id\":\"5262\"},{\"id\":\"5263\"}]},\"id\":\"5265\",\"type\":\"Toolbar\"},{\"attributes\":{\"source\":{\"id\":\"5284\"}},\"id\":\"5289\",\"type\":\"CDSView\"},{\"attributes\":{\"line_color\":\"green\",\"line_width\":4,\"x\":{\"field\":\"x\"},\"y\":{\"field\":\"y\"}},\"id\":\"5285\",\"type\":\"Line\"},{\"attributes\":{\"coordinates\":null,\"data_source\":{\"id\":\"5284\"},\"glyph\":{\"id\":\"5285\"},\"group\":null,\"hover_glyph\":null,\"muted_glyph\":{\"id\":\"5287\"},\"nonselection_glyph\":{\"id\":\"5286\"},\"view\":{\"id\":\"5289\"}},\"id\":\"5288\",\"type\":\"GlyphRenderer\"}],\"root_ids\":[\"5239\"]},\"title\":\"Bokeh Application\",\"version\":\"2.4.3\"}};\n",
       "  const render_items = [{\"docid\":\"cf7bfe55-1a29-46f8-be5a-4abb4c7b474f\",\"root_ids\":[\"5239\"],\"roots\":{\"5239\":\"fa6a610b-12f1-47a7-a8ee-b504c56b20a6\"}}];\n",
       "  root.Bokeh.embed.embed_items_notebook(docs_json, render_items);\n",
       "  }\n",
       "  if (root.Bokeh !== undefined) {\n",
       "    embed_document(root);\n",
       "  } else {\n",
       "    let attempts = 0;\n",
       "    const timer = setInterval(function(root) {\n",
       "      if (root.Bokeh !== undefined) {\n",
       "        clearInterval(timer);\n",
       "        embed_document(root);\n",
       "      } else {\n",
       "        attempts++;\n",
       "        if (attempts > 100) {\n",
       "          clearInterval(timer);\n",
       "          console.log(\"Bokeh: ERROR: Unable to run BokehJS code because BokehJS library is missing\");\n",
       "        }\n",
       "      }\n",
       "    }, 10, root)\n",
       "  }\n",
       "})(window);"
      ],
      "application/vnd.bokehjs_exec.v0+json": ""
     },
     "metadata": {
      "application/vnd.bokehjs_exec.v0+json": {
       "id": "5239"
      }
     },
     "output_type": "display_data"
    }
   ],
   "source": [
    "x = np.arange(5)\n",
    "y = x**2\n",
    "z = x*3\n",
    "p = np.linspace(1,20,7)\n",
    "q = np.linspace(1, 10, 7)\n",
    "r = np.linspace(1, 30, 5)\n",
    "a = np.arange(31)\n",
    "fig = figure(plot_width = 600 , plot_height = 600, title = \"Only two glyphs uses\") # set figure size\n",
    "fig.circle(x, y, color = \"red\", size = 20) # circular glyphs\n",
    "fig.square(x, z, color = \"blue\", size = 15, alpha = 0.5)\n",
    "fig.line(x, y, color = \"green\", line_width = 4)\n",
    "show(fig)"
   ]
  },
  {
   "cell_type": "markdown",
   "id": "7b0307ac",
   "metadata": {},
   "source": [
    "#### Q3. How can you customize the appearance of a Bokeh plot, including the axes, title, and legend?\n"
   ]
  },
  {
   "cell_type": "markdown",
   "id": "38e72d64",
   "metadata": {},
   "source": [
    "Solution : by using figure( ) funciton"
   ]
  },
  {
   "cell_type": "code",
   "execution_count": null,
   "id": "2e4d04e0",
   "metadata": {},
   "outputs": [],
   "source": [
    "# eg\n",
    "plot = figure(\n",
    "    title=\"Set your figure tile\",\n",
    "    x_axis_label=\"X-axis\",\n",
    "    y_axis_label=\"Y-axis\",\n",
    "    plot_width=500,\n",
    "    plot_height=300,\n",
    "    background_fill_color=\"#f2f2f2\", # background color set\n",
    "    y_range=(0, 25),                  # set scale range in y-axis\n",
    "    x_range=(0,25)                    # set scale range in y-axis\n",
    ")"
   ]
  },
  {
   "cell_type": "markdown",
   "id": "6ef46386",
   "metadata": {},
   "source": [
    "#### Q4. What is a Bokeh server, and how can you use it to create interactive plots that can be updated in real time?\n"
   ]
  },
  {
   "cell_type": "markdown",
   "id": "52273a58",
   "metadata": {},
   "source": [
    "Solution : It is a Python library that allows us to build interactive web applications and dashboards by using Bokeh. "
   ]
  },
  {
   "cell_type": "code",
   "execution_count": null,
   "id": "bb03ed72",
   "metadata": {},
   "outputs": [],
   "source": []
  },
  {
   "cell_type": "markdown",
   "id": "ca672384",
   "metadata": {},
   "source": [
    "#### Q5. How can you embed a Bokeh plot into a web page or dashboard using Flask or Django?"
   ]
  },
  {
   "cell_type": "code",
   "execution_count": null,
   "id": "2dfc0a6c",
   "metadata": {},
   "outputs": [],
   "source": [
    "Solution : "
   ]
  },
  {
   "cell_type": "code",
   "execution_count": 23,
   "id": "29dc1e2f",
   "metadata": {},
   "outputs": [
    {
     "ename": "SyntaxError",
     "evalue": "invalid syntax (2096472798.py, line 1)",
     "output_type": "error",
     "traceback": [
      "\u001b[1;36m  File \u001b[1;32m\"C:\\Users\\pc\\AppData\\Local\\Temp\\ipykernel_75936\\2096472798.py\"\u001b[1;36m, line \u001b[1;32m1\u001b[0m\n\u001b[1;33m    bokeh serve myapp.py\u001b[0m\n\u001b[1;37m              ^\u001b[0m\n\u001b[1;31mSyntaxError\u001b[0m\u001b[1;31m:\u001b[0m invalid syntax\n"
     ]
    }
   ],
   "source": [
    "bokeh serve myapp.py"
   ]
  },
  {
   "cell_type": "markdown",
   "id": "28cbfe98",
   "metadata": {},
   "source": []
  },
  {
   "cell_type": "markdown",
   "id": "6a76644a",
   "metadata": {},
   "source": []
  }
 ],
 "metadata": {
  "kernelspec": {
   "display_name": "Python 3 (ipykernel)",
   "language": "python",
   "name": "python3"
  },
  "language_info": {
   "codemirror_mode": {
    "name": "ipython",
    "version": 3
   },
   "file_extension": ".py",
   "mimetype": "text/x-python",
   "name": "python",
   "nbconvert_exporter": "python",
   "pygments_lexer": "ipython3",
   "version": "3.7.1"
  }
 },
 "nbformat": 4,
 "nbformat_minor": 5
}
