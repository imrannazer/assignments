{
 "cells": [
  {
   "cell_type": "markdown",
   "id": "ff729326",
   "metadata": {},
   "source": [
    "Que 1: Name any five plots that we can plot using the Seaborn library. Also, state the uses of each plot.\n"
   ]
  },
  {
   "cell_type": "markdown",
   "id": "029bc275",
   "metadata": {},
   "source": [
    "Que 2: Load the \"fmri\" dataset using the load_dataset function of seaborn. Plot a line plot using x = \"timepoint\" and y = \"signal\" for different events and regions.\n",
    "Note: timepoint, signal, event, and region are columns in the fmri dataset."
   ]
  },
  {
   "cell_type": "markdown",
   "id": "b59072b8",
   "metadata": {},
   "source": [
    "Que 3: Load the \"titanic\" dataset using the load_dataset function of seaborn. Plot two box plots using x = 'pclass', y = 'age' and y = 'fare'.\n",
    "Note: pclass, age, and fare are columns in the titanic dataset."
   ]
  },
  {
   "cell_type": "markdown",
   "id": "da20a1ba",
   "metadata": {},
   "source": [
    "Que 4: Use the \"diamonds\" dataset from seaborn to plot a histogram for the 'price' column. Use the hue parameter for the 'cut' column of the diamonds dataset.\n"
   ]
  },
  {
   "cell_type": "markdown",
   "id": "a22f08de",
   "metadata": {},
   "source": [
    "Que 5: Use the \"iris\" dataset from seaborn to plot a pair plot. Use the hue parameter for the \"species\" column of the iris dataset.\n"
   ]
  },
  {
   "cell_type": "markdown",
   "id": "316ae8f6",
   "metadata": {},
   "source": [
    "\n",
    "Que 6: Use the \"flights\" dataset from seaborn to plot a heatmap."
   ]
  }
 ],
 "metadata": {
  "kernelspec": {
   "display_name": "Python 3 (ipykernel)",
   "language": "python",
   "name": "python3"
  },
  "language_info": {
   "codemirror_mode": {
    "name": "ipython",
    "version": 3
   },
   "file_extension": ".py",
   "mimetype": "text/x-python",
   "name": "python",
   "nbconvert_exporter": "python",
   "pygments_lexer": "ipython3",
   "version": "3.7.1"
  }
 },
 "nbformat": 4,
 "nbformat_minor": 5
}
