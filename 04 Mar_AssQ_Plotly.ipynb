{
 "cells": [
  {
   "cell_type": "code",
   "execution_count": 1,
   "id": "ba105130",
   "metadata": {},
   "outputs": [],
   "source": [
    "import seaborn as sns\n",
    "import plotly as plt\n",
    "import pandas as pd\n",
    "import numpy as np\n",
    "import plotly.express as px # import for plotly data sets\n",
    "import plotly.graph_objects as go\n",
    "import plotly.graph_objs as go\n",
    "import plotly.figure_factory as ff"
   ]
  },
  {
   "cell_type": "markdown",
   "id": "0d49a8b5",
   "metadata": {},
   "source": [
    "#### Q1. Load the \"titanic\" dataset using the load_dataset function of seaborn. Use Plotly express to plot a scatter plot for age and fare columns in the titanic dataset."
   ]
  },
  {
   "cell_type": "markdown",
   "id": "91764062",
   "metadata": {},
   "source": [
    "Solution : "
   ]
  },
  {
   "cell_type": "code",
   "execution_count": null,
   "id": "a1590eba",
   "metadata": {
    "scrolled": true
   },
   "outputs": [],
   "source": [
    "df = sns.load_dataset('titanic')\n",
    "df.head(3)"
   ]
  },
  {
   "cell_type": "markdown",
   "id": "a695db0a",
   "metadata": {},
   "source": [
    "\n",
    "#### Q2. Using the tips dataset in the Plotly library, plot a box plot using Plotly express.\n",
    "\n"
   ]
  },
  {
   "cell_type": "code",
   "execution_count": null,
   "id": "e7bfd42e",
   "metadata": {},
   "outputs": [],
   "source": [
    "Solution : "
   ]
  },
  {
   "cell_type": "code",
   "execution_count": null,
   "id": "7ffee7fd",
   "metadata": {},
   "outputs": [],
   "source": [
    "tips_data = px.data.tips()\n",
    "tips_data.head(3)"
   ]
  },
  {
   "cell_type": "code",
   "execution_count": null,
   "id": "6362ce8a",
   "metadata": {},
   "outputs": [],
   "source": [
    "data = tips_data\n",
    "fig = go.Figure()\n",
    "fig.add_trace(go.Box(y=data))"
   ]
  },
  {
   "cell_type": "markdown",
   "id": "d23cca59",
   "metadata": {},
   "source": [
    "#### Q3. Using the tips dataset in the Plotly library, Plot a histogram for x= \"sex\" and y=\"total_bill\" column in the tips dataset. Also, use the \"smoker\" column with the pattern_shape parameter and the \"day\" column with the color parameter.\n"
   ]
  },
  {
   "cell_type": "markdown",
   "id": "b6eb9fc7",
   "metadata": {},
   "source": [
    "Solution : "
   ]
  },
  {
   "cell_type": "code",
   "execution_count": null,
   "id": "e4048af5",
   "metadata": {},
   "outputs": [],
   "source": [
    "tips_data = px.data.tips()\n",
    "tips_data.head(3)"
   ]
  },
  {
   "cell_type": "code",
   "execution_count": null,
   "id": "75f20fb2",
   "metadata": {},
   "outputs": [],
   "source": [
    "df = px.data.tips() \n",
    "fig = px.histogram(df, x=\"sex\", y=\"total_bill\", pattern_shape=\"smoker\", color=\"day\") \n",
    "fig.update_layout(width = 800, height = 300)\n",
    "fig.show()"
   ]
  },
  {
   "cell_type": "markdown",
   "id": "edb7dd35",
   "metadata": {},
   "source": [
    "#### Q4. Using the iris dataset in the Plotly library, Plot a scatter matrix plot, using the \"species\" column for the color parameter.\n",
    "Note: Use \"sepal_length\", \"sepal_width\", \"petal_length\", \"petal_width\" columns only with the dimensions parameter.\n"
   ]
  },
  {
   "cell_type": "code",
   "execution_count": null,
   "id": "da22e014",
   "metadata": {},
   "outputs": [],
   "source": [
    "Solution : "
   ]
  },
  {
   "cell_type": "code",
   "execution_count": null,
   "id": "dc8c413c",
   "metadata": {
    "scrolled": true
   },
   "outputs": [],
   "source": [
    "iris_data = px.data.iris()\n",
    "iris_data.head(3)"
   ]
  },
  {
   "cell_type": "code",
   "execution_count": null,
   "id": "7f940c2a",
   "metadata": {},
   "outputs": [],
   "source": [
    "iris = iris_data\n",
    "columns = [\"sepal_length\", \"sepal_width\", \"petal_length\", \"petal_width\"]\n",
    "fig = ff.create_scatterplotmatrix(\n",
    "    iris[columns],\n",
    "    colormap= dict(\n",
    "        setosa = '#00F5FF',\n",
    "        versicolor = '#32CD32',\n",
    "        virginica = '#DAA520'))\n",
    "\n",
    "fig.update_layout(title=\"Scatter Matrix Plot of iris Dataset\")\n",
    "fig.show()"
   ]
  },
  {
   "cell_type": "markdown",
   "id": "1c9b44c3",
   "metadata": {},
   "source": [
    "#### Q5. What is Distplot? Using Plotly express, plot a distplot."
   ]
  },
  {
   "cell_type": "code",
   "execution_count": null,
   "id": "d26d54a5",
   "metadata": {},
   "outputs": [],
   "source": [
    "Solution : "
   ]
  },
  {
   "cell_type": "code",
   "execution_count": null,
   "id": "33ebebe2",
   "metadata": {
    "scrolled": true
   },
   "outputs": [],
   "source": [
    "df = px.data.tips() \n",
    "fig = px.histogram(df, x=\"sex\", y=\"total_bill\", pattern_shape=\"smoker\", color=\"day\") \n",
    "fig.update_layout(width = 800, height = 300)\n",
    "fig.show()"
   ]
  },
  {
   "cell_type": "code",
   "execution_count": null,
   "id": "f027341d",
   "metadata": {},
   "outputs": [],
   "source": [
    "# dir(px)"
   ]
  },
  {
   "cell_type": "code",
   "execution_count": null,
   "id": "86ab7f53",
   "metadata": {},
   "outputs": [],
   "source": [
    "x=df[[\"sex\"]]\n",
    "y=df[[\"total_bill\"]]\n",
    "df = px.data.tips() \n",
    "trace = go.Scatter( x=x, y=y, mode='lines')\n",
    "fig = go.Figure()\n",
    "fig.add_trace(trace)\n",
    "\n",
    "fig = px.histogram(df, x=\"sex\", y=\"total_bill\", pattern_shape=\"smoker\", color=\"day\",opacity=0.9)\n",
    "\n",
    "fig.show()\n"
   ]
  }
 ],
 "metadata": {
  "kernelspec": {
   "display_name": "Python 3 (ipykernel)",
   "language": "python",
   "name": "python3"
  },
  "language_info": {
   "codemirror_mode": {
    "name": "ipython",
    "version": 3
   },
   "file_extension": ".py",
   "mimetype": "text/x-python",
   "name": "python",
   "nbconvert_exporter": "python",
   "pygments_lexer": "ipython3",
   "version": "3.7.1"
  }
 },
 "nbformat": 4,
 "nbformat_minor": 5
}
