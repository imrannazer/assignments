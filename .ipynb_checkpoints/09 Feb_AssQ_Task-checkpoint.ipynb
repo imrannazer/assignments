{
 "cells": [
  {
   "cell_type": "markdown",
   "id": "369daf6b",
   "metadata": {},
   "source": [
    "#### Q1, Create a vehicle class with an init method having instance variables as name_of_vehicle, max_speed and average_of_vehicle.\n"
   ]
  },
  {
   "cell_type": "code",
   "execution_count": 1,
   "id": "24cd3cb4",
   "metadata": {},
   "outputs": [],
   "source": [
    "class Vehicle:\n",
    "    def __init__(self, name_of_vehicle, max_speed, average_of_vehicle):\n",
    "        self.name_of_vehicle = name_of_vehicle\n",
    "        self.max_speed = max_speed\n",
    "        self.average_of_vehicle = average_of_vehicle"
   ]
  },
  {
   "cell_type": "markdown",
   "id": "d6e68ae7",
   "metadata": {},
   "source": [
    "#### Q2. Create a child class car from the vehicle class created in Que 1,which will inherit the vehicle class. Create a method named seating_capacity which takes capacity as an argument and returns the name of the vehicle and its seating capacity.   \n",
    "\n"
   ]
  },
  {
   "cell_type": "code",
   "execution_count": 2,
   "id": "3ac7feb0",
   "metadata": {},
   "outputs": [],
   "source": [
    "class Car(Vehicle):\n",
    "    def __init__(self, name_of_vehicle,max_speed,average_of_vehicle):\n",
    "        super().__init__(name_of_vehicle,max_speed,average_of_vehicle)     # inherit instance variable form parent class\n",
    "#         self.capacity = capacity\n",
    "    def seating_capacity(self, capacity):\n",
    "        return print(f\"Name of the vehicle is {self.name_of_vehicle}, \\nAnd its seating capacity {capacity}\")"
   ]
  },
  {
   "cell_type": "code",
   "execution_count": 3,
   "id": "1a2345ff",
   "metadata": {},
   "outputs": [],
   "source": [
    "obj = Car('innova',260,130)"
   ]
  },
  {
   "cell_type": "code",
   "execution_count": 4,
   "id": "a82114a3",
   "metadata": {},
   "outputs": [
    {
     "name": "stdout",
     "output_type": "stream",
     "text": [
      "Name of the vehicle is innova, \n",
      "And its seating capacity 25\n"
     ]
    }
   ],
   "source": [
    "obj.seating_capacity('25')"
   ]
  },
  {
   "cell_type": "code",
   "execution_count": 5,
   "id": "2460ff47",
   "metadata": {},
   "outputs": [
    {
     "data": {
      "text/plain": [
       "'innova'"
      ]
     },
     "execution_count": 5,
     "metadata": {},
     "output_type": "execute_result"
    }
   ],
   "source": [
    "obj.name_of_vehicle"
   ]
  },
  {
   "cell_type": "code",
   "execution_count": null,
   "id": "5d00885b",
   "metadata": {},
   "outputs": [],
   "source": []
  },
  {
   "cell_type": "markdown",
   "id": "581073cd",
   "metadata": {},
   "source": [
    "#### Q3. What is multiple inheritance? Write a python code to demonstrate multiple inheritance.\n"
   ]
  },
  {
   "cell_type": "code",
   "execution_count": null,
   "id": "8fd49b85",
   "metadata": {},
   "outputs": [],
   "source": []
  },
  {
   "cell_type": "code",
   "execution_count": 6,
   "id": "cea29aef",
   "metadata": {},
   "outputs": [
    {
     "name": "stdout",
     "output_type": "stream",
     "text": [
      "Hi, Nazer. You are 29 years old, and you are from Delhi.\n"
     ]
    }
   ],
   "source": [
    "#Multple Inheritance\n",
    "class Person1:                         # first parent class\n",
    "    def __init__(self, name):\n",
    "        self.name = name    \n",
    "        \n",
    "class Person2:                         # second parent class\n",
    "    def __init__(self, address):\n",
    "        self.address = address\n",
    "    \n",
    "class Student(Person1, Person2):       # child class inherit both instance methods form Person1 and Person2\n",
    "    def __init__(self, name, address,age):\n",
    "        Person1.__init__(self,name)\n",
    "        Person2.__init__(self,address)\n",
    "        self.age = age\n",
    "    def details(self):\n",
    "        return self.name,self.address, self.age\n",
    "    \n",
    "Student = Student('Nazer', 'Delhi',29) \n",
    "\n",
    "print(f'Hi, {Student.name}. You are {Student.age} years old, and you are from {Student.address}.')"
   ]
  },
  {
   "cell_type": "markdown",
   "id": "17c962cc",
   "metadata": {},
   "source": [
    "#### Q4. What are getter and setter in python? Create a class and create a getter and a setter method in this class.\n"
   ]
  },
  {
   "cell_type": "markdown",
   "id": "1b4d9648",
   "metadata": {},
   "source": [
    "Ans :   \n",
    "##### getter method\n",
    "- This method is used to access or read data of the variables. \n",
    "- This method do not modify the data in the variable\n",
    "- It is also called Accessor Method\n",
    "- Convention rules for getter method\n",
    "  - def get_result(self):\n",
    "  - def get_name(self):\n",
    "  - def get_numbers(self):"
   ]
  },
  {
   "cell_type": "code",
   "execution_count": 7,
   "id": "58c3ac8c",
   "metadata": {},
   "outputs": [
    {
     "data": {
      "text/plain": [
       "'Year 2023'"
      ]
     },
     "execution_count": 7,
     "metadata": {},
     "output_type": "execute_result"
    }
   ],
   "source": [
    "class Car:\n",
    "    def __init__(self):\n",
    "        self.model = 'Year 2023'\n",
    "    def get_model(self):\n",
    "        return self.model\n",
    "obj = Car()\n",
    "obj.get_model()"
   ]
  },
  {
   "cell_type": "markdown",
   "id": "e36655a1",
   "metadata": {},
   "source": [
    "##### setter method\n",
    "- This mehtod is used to read and modify data of the variable\n",
    "- This is also called metator method\n",
    "- setter method gets parametr as argument\n",
    "- without parameter return error\n",
    "- Convention rules for getter method\n",
    "  - def set_result(self):\n",
    "  - def set_name(self):\n",
    "  - def set_numbers(self):"
   ]
  },
  {
   "cell_type": "code",
   "execution_count": 8,
   "id": "aa8a20c4",
   "metadata": {},
   "outputs": [
    {
     "data": {
      "text/plain": [
       "'Year 2022'"
      ]
     },
     "execution_count": 8,
     "metadata": {},
     "output_type": "execute_result"
    }
   ],
   "source": [
    "class Car:\n",
    "    def __init__(self):\n",
    "        self.model = 'Year 2023'\n",
    "    def get_model(self, model):\n",
    "        self.model = model\n",
    "        return self.model\n",
    "obj = Car()\n",
    "obj.get_model('Year 2022')"
   ]
  },
  {
   "cell_type": "code",
   "execution_count": null,
   "id": "a2991c0e",
   "metadata": {},
   "outputs": [],
   "source": []
  },
  {
   "cell_type": "code",
   "execution_count": null,
   "id": "ca2dff76",
   "metadata": {},
   "outputs": [],
   "source": []
  },
  {
   "cell_type": "markdown",
   "id": "013ccee3",
   "metadata": {},
   "source": [
    "#### Q5.What is method overriding in python? Write a python code to demonstrate method overriding.\n"
   ]
  },
  {
   "cell_type": "markdown",
   "id": "96e6e6f0",
   "metadata": {},
   "source": [
    "Ans :     \n",
    "- More than one method with same name and same class, it is called method overloading\n",
    "- Define multiple methods with the same name but different parameters in a class.\n",
    "- Method overloading allows us to provide multiple ways to call a single method based on the arguments you pass\n",
    "- Method overloading ping last same method\n",
    "- If you try to access first method is will show error"
   ]
  },
  {
   "cell_type": "code",
   "execution_count": 9,
   "id": "f8d50689",
   "metadata": {},
   "outputs": [],
   "source": [
    "class Math:\n",
    "    def add(self,a,b):\n",
    "        return a+b\n",
    "    def add(self,a):\n",
    "        return a\n",
    "obj = Math()   "
   ]
  },
  {
   "cell_type": "code",
   "execution_count": 10,
   "id": "0d0e7fca",
   "metadata": {},
   "outputs": [
    {
     "ename": "TypeError",
     "evalue": "add() takes 2 positional arguments but 3 were given",
     "output_type": "error",
     "traceback": [
      "\u001b[1;31m---------------------------------------------------------------------------\u001b[0m",
      "\u001b[1;31mTypeError\u001b[0m                                 Traceback (most recent call last)",
      "\u001b[1;32m~\\AppData\\Local\\Temp\\ipykernel_23528\\2239223877.py\u001b[0m in \u001b[0;36m<module>\u001b[1;34m\u001b[0m\n\u001b[1;32m----> 1\u001b[1;33m \u001b[0mobj\u001b[0m\u001b[1;33m.\u001b[0m\u001b[0madd\u001b[0m\u001b[1;33m(\u001b[0m\u001b[1;36m3\u001b[0m\u001b[1;33m,\u001b[0m\u001b[1;36m4\u001b[0m\u001b[1;33m)\u001b[0m\u001b[1;33m\u001b[0m\u001b[1;33m\u001b[0m\u001b[0m\n\u001b[0m",
      "\u001b[1;31mTypeError\u001b[0m: add() takes 2 positional arguments but 3 were given"
     ]
    }
   ],
   "source": [
    "obj.add(3,4)"
   ]
  },
  {
   "cell_type": "code",
   "execution_count": null,
   "id": "ee67256f",
   "metadata": {},
   "outputs": [],
   "source": [
    "obj.add(3)"
   ]
  },
  {
   "cell_type": "code",
   "execution_count": null,
   "id": "b212da8b",
   "metadata": {},
   "outputs": [],
   "source": []
  }
 ],
 "metadata": {
  "kernelspec": {
   "display_name": "Python 3 (ipykernel)",
   "language": "python",
   "name": "python3"
  },
  "language_info": {
   "codemirror_mode": {
    "name": "ipython",
    "version": 3
   },
   "file_extension": ".py",
   "mimetype": "text/x-python",
   "name": "python",
   "nbconvert_exporter": "python",
   "pygments_lexer": "ipython3",
   "version": "3.7.1"
  }
 },
 "nbformat": 4,
 "nbformat_minor": 5
}
