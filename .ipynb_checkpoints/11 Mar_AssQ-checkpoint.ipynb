{
 "cells": [
  {
   "cell_type": "markdown",
   "id": "e17a7445",
   "metadata": {},
   "source": [
    "#### Q1: What is the difference between a t-test and a z-test? Provide an example scenario where you would use each type of test."
   ]
  },
  {
   "cell_type": "markdown",
   "id": "b40f236c",
   "metadata": {},
   "source": [
    "Ans : \n",
    "\n",
    "||z-test|t-test|\n",
    "|:------------------------|:-----------------|:--------------|\n",
    "|**Sample size(n)**|n >= 30|n <= 30|\n",
    "|**Test statistic** | z-table|t-table|\n",
    "|**Hypothesis testing** |population means when the population standard deviation is known|population means when the population standard deviation is unknown|\n",
    "|**Data Distribution in sample mean**|normally distributed|approximately normally distributed|\n",
    "|**Assumptions**|population standard deviation is known|population standard deviation is unknown|"
   ]
  },
  {
   "cell_type": "markdown",
   "id": "7ec1376e",
   "metadata": {},
   "source": [
    "**z-test** In a school headmaster want to know avrage mark, find out a classs where 25 student, mean is 600 and std is 10                \n",
    "**t-test** In a school headmaster want to know avrage mark, find out a classs where 50 student, mean is 600 and std is 10"
   ]
  },
  {
   "cell_type": "markdown",
   "id": "2290e224",
   "metadata": {},
   "source": [
    "#### Q2: Differentiate between one-tailed and two-tailed tests."
   ]
  },
  {
   "cell_type": "markdown",
   "id": "a0b8981e",
   "metadata": {},
   "source": [
    "Ans :            \n",
    "Differentiate between one-tailed and two-tailed tests\n",
    "\n",
    "||one-tailed|two-tailed|\n",
    "|:----------------------------| :----------------------------------| :----------------------------|\n",
    "|**known as**|directional test|non-directional test|\n",
    "|**H<sub>0</sub> =** direction is not define|False|True|\n",
    "|**H<sub>0</sub> > or <** direction is defined|True|False|"
   ]
  },
  {
   "cell_type": "markdown",
   "id": "2ed1541e",
   "metadata": {},
   "source": [
    "\n",
    "#### Q3: Explain the concept of Type 1 and Type 2 errors in hypothesis testing. Provide an example scenario for each type of error."
   ]
  },
  {
   "cell_type": "markdown",
   "id": "2a6762d0",
   "metadata": {},
   "source": [
    "Ans : \n",
    "\n",
    "**Reality** : Null Hypothesis is True, or null hypothesis is False           \n",
    "**Decision/Conclusion** : Null Hypothesis is True, or null hypothesis is False             \n",
    "\n",
    "|Outcomes|Testing|Result|\n",
    "|------------|-------------|------------|\n",
    "|Outcomes 1 | We reject the Null Hypothesis when in reality it is False|Good|\n",
    "|Outcomes 2 | We reject the Null Hypothesis when in reality it is True|Type I error|\n",
    "|Outcomes 3 | We not reject the Null Hypothesis when in reality it is False|Type II error|\n",
    "|Outcomes 4 | We not reject the Null Hypothesis when in reality it is True|Good|"
   ]
  },
  {
   "cell_type": "markdown",
   "id": "cf654b4b",
   "metadata": {},
   "source": [
    "**Outcomes 1**. \"student marks\" testing on population and sample mean, decision is False, We reject the H<sub>o</sub>. Result is good. Result is **good**\n",
    "\n",
    "**Outcomes 2**. \"student marks\" testing on population and sample mean, decision is True, We reject the H<sub>o</sub>. Result is good. Result **type one error**\n",
    "\n",
    "**Outcomes 3**. \"student marks\" testing on population and sample mean, decision is False, We not reject the H<sub>o</sub>. Result is good. **Result type two error**\n",
    "\n",
    "**Outcomes 4**. \"student marks\" testing on population and sample mean, decision is True, We not reject the H<sub>o</sub>. Result is good. Result **good**"
   ]
  },
  {
   "cell_type": "markdown",
   "id": "3528cf75",
   "metadata": {},
   "source": [
    "\n",
    "\n",
    "#### Q4: Explain Bayes's theorem with an example."
   ]
  },
  {
   "cell_type": "markdown",
   "id": "841e03b6",
   "metadata": {},
   "source": [
    "Ans : \n",
    "\n",
    "Bayes's theorem is a fundamental concept in probability theory and statistics\n",
    "\n",
    "**P(A|B) = P(B|A) * P(A) / P(B)**               \n",
    "P(A|B) is the probability of event A occurring given that event B has occurred .                \n",
    "e.g. Rolling a dice"
   ]
  },
  {
   "cell_type": "markdown",
   "id": "20a21421",
   "metadata": {},
   "source": [
    "#### Q5: What is a confidence interval? How to calculate the confidence interval, explain with an example."
   ]
  },
  {
   "cell_type": "markdown",
   "id": "8228dc56",
   "metadata": {},
   "source": [
    "A Confidence Interval (CI) is a range of estimates in sample for a population unknown parameter(mean,std, etc.)  "
   ]
  },
  {
   "cell_type": "markdown",
   "id": "3a9ae89d",
   "metadata": {},
   "source": [
    "Confidence interval for the mean (when the population standard deviation is known):                 \n",
    "**C.I = x̄ ± Zα/2 * σ/√n**                     \n",
    "Confidence interval for the mean (when the population standard deviation is unknown):                 \n",
    "**C.I = x̄ ± tα/2 * σ/√n**"
   ]
  },
  {
   "cell_type": "markdown",
   "id": "ffebe69a",
   "metadata": {},
   "source": [
    "e.g.\n",
    "A coffee shop owner wants to estimate the average daily revenue for their shop. They take a random sample of 50 days and find the sample mean revenue to be  500\n",
    "  with a standard deviation of  50\n",
    " . Estimate the population mean revenue with a 95% confidence interval."
   ]
  },
  {
   "cell_type": "markdown",
   "id": "d249af91",
   "metadata": {},
   "source": [
    "\n",
    "\n",
    "#### Q6. Use Bayes' Theorem to calculate the probability of an event occurring given prior knowledge of the event's probability and new evidence. Provide a sample problem and solution."
   ]
  },
  {
   "cell_type": "markdown",
   "id": "fdf04e21",
   "metadata": {},
   "source": [
    "Ans : \n",
    "\n",
    "**Formula**\n",
    "$ P(A|B)= P(B|A)*P(A) / P(B)$"
   ]
  },
  {
   "cell_type": "markdown",
   "id": "03abdb7f",
   "metadata": {},
   "source": [
    "e.g. In a basket 5 balls blue = 3 and red = 2, find probability of 2nd red ball"
   ]
  },
  {
   "cell_type": "markdown",
   "id": "0ea6e49b",
   "metadata": {},
   "source": [
    "P(Red) = 2/5               1st attempt                \n",
    "P(Red) = 1/4               2nd attempt"
   ]
  },
  {
   "cell_type": "markdown",
   "id": "c9b77bc5",
   "metadata": {},
   "source": [
    "\n",
    "#### Q7. Calculate the 95% confidence interval for a sample of data with a mean of 50 and a standard deviation of 5. Interpret the results."
   ]
  },
  {
   "cell_type": "markdown",
   "id": "1c423204",
   "metadata": {},
   "source": [
    "Ans : \n",
    "\n",
    "|50 &plusmn;  z<sub>⍺/2</sub>* 5 &frasl; &radic; n|\n",
    "|----|"
   ]
  },
  {
   "cell_type": "markdown",
   "id": "0045926a",
   "metadata": {},
   "source": [
    "\n",
    "#### Q8. What is the margin of error in a confidence interval? How does sample size affect the margin of error? Provide an example of a scenario where a larger sample size would result in a smaller margin of error."
   ]
  },
  {
   "cell_type": "markdown",
   "id": "c4433cc4",
   "metadata": {},
   "source": [
    "Ans: \n",
    "\n",
    "The **margin of error** in a confidence interval is the maximum distance between the true population parameter and the estimated value based on a sample of data.\n",
    "\n",
    "E = z<sub>⍺/2</sub>* σ &frasl; &radic; n"
   ]
  },
  {
   "cell_type": "markdown",
   "id": "6342bf9b",
   "metadata": {},
   "source": [
    "**sample size affect the margin of error**          \n",
    "Increasing the sample size reduces the margin of error          \n",
    "while decreasing the sample size increases the margin of error."
   ]
  },
  {
   "cell_type": "markdown",
   "id": "5905217d",
   "metadata": {},
   "source": [
    "|n = 50, x&#x305;= 5'8\",σ = 2 | n = 100, x&#x305;= 5'8\",σ = 2 |\n",
    "|-----|----|\n",
    "|E = z⍺/2* σ ⁄ √ n|E = z⍺/2* σ ⁄ √ n|\n",
    "|E = 1.96* 2 ⁄ √ 50|E = 1.96 * 2 ⁄ √ 100|\n",
    "|.5543|.392|\n",
    "\n",
    "**canclusion** : Increasing the sample size reduces the margin of error while decreasing the sample size increases the margin of error."
   ]
  },
  {
   "cell_type": "markdown",
   "id": "5b2fca59",
   "metadata": {},
   "source": [
    "#### Q9. Calculate the z-score for a data point with a value of 75, a population mean of 70, and a population standard deviation of 5. Interpret the results."
   ]
  },
  {
   "cell_type": "markdown",
   "id": "35fc0746",
   "metadata": {},
   "source": [
    "**Solution**\n",
    "![Answer](https://i.ibb.co/sFvZPQL/z-scire1.jpg)"
   ]
  },
  {
   "cell_type": "markdown",
   "id": "13dcd973",
   "metadata": {},
   "source": []
  },
  {
   "cell_type": "markdown",
   "id": "a8220f9c",
   "metadata": {},
   "source": [
    "#### Q10. In a study of the effectiveness of a new weight loss drug, a sample of 50 participants lost an average of 6 pounds with a standard deviation of 2.5 pounds. Conduct a hypothesis test to determine if the drug is significantly effective at a 95% confidence level using a t-test."
   ]
  },
  {
   "cell_type": "markdown",
   "id": "3c7eebb0",
   "metadata": {},
   "source": [
    "**Solution**\n",
    "![Answer](https://i.ibb.co/wQ17jp8/New-Doc-03-29-2023-14-42-10.jpg)"
   ]
  },
  {
   "cell_type": "markdown",
   "id": "a997135e",
   "metadata": {},
   "source": [
    "\n",
    "#### Q11. In a survey of 500 people, 65% reported being satisfied with their current job. Calculate the 95% confidence interval for the true proportion of people who are satisfied with their job."
   ]
  },
  {
   "cell_type": "markdown",
   "id": "785601c4",
   "metadata": {},
   "source": [
    "**Solution**\n",
    "![Answer](https://i.ibb.co/qyrBqLq/New-Doc-03-29-2023-14-42-9.jpg)\n"
   ]
  },
  {
   "cell_type": "markdown",
   "id": "914e3e66",
   "metadata": {},
   "source": [
    "#### Q12. A researcher is testing the effectiveness of two different teaching methods on student performance. Sample A has a mean score of 85 with a standard deviation of 6, while sample B has a mean score of 82 with a standard deviation of 5. Conduct a hypothesis test to determine if the two teaching methods have a significant difference in student performance using a t-test with a significance level of 0.01."
   ]
  },
  {
   "cell_type": "markdown",
   "id": "276933e2",
   "metadata": {},
   "source": [
    "**Solution**\n",
    "![Answer](https://i.ibb.co/B3SQqkx/New-Doc-03-29-2023-14-42-8.jpg)\n"
   ]
  },
  {
   "cell_type": "markdown",
   "id": "8d3c8ec2",
   "metadata": {},
   "source": [
    "\n",
    "#### Q13. A population has a mean of 60 and a standard deviation of 8. A sample of 50 observations has a mean of 65. Calculate the 90% confidence interval for the true population mean."
   ]
  },
  {
   "cell_type": "markdown",
   "id": "8edd0f8e",
   "metadata": {},
   "source": [
    "**Solution**\n",
    "![Answer](https://i.ibb.co/1qVjNhK/New-Doc-03-29-2023-14-42-7.jpg)\n",
    "\n"
   ]
  },
  {
   "cell_type": "markdown",
   "id": "ee786ac6",
   "metadata": {},
   "source": [
    "\n",
    "\n",
    "\n",
    "\n",
    "#### Q14. In a study of the effects of caffeine on reaction time, a sample of 30 participants had an average reaction time of 0.25 seconds with a standard deviation of 0.05 seconds. Conduct a hypothesis test to determine if the caffeine has a significant effect on reaction time at a 90% confidence level using a t-test."
   ]
  },
  {
   "cell_type": "markdown",
   "id": "87e4918d",
   "metadata": {},
   "source": [
    "**Solution**\n",
    "![Answer](https://i.ibb.co/9w9fFJF/New-Doc-03-29-2023-14-42-6.jpg)\n"
   ]
  }
 ],
 "metadata": {
  "kernelspec": {
   "display_name": "Python 3 (ipykernel)",
   "language": "python",
   "name": "python3"
  },
  "language_info": {
   "codemirror_mode": {
    "name": "ipython",
    "version": 3
   },
   "file_extension": ".py",
   "mimetype": "text/x-python",
   "name": "python",
   "nbconvert_exporter": "python",
   "pygments_lexer": "ipython3",
   "version": "3.7.1"
  }
 },
 "nbformat": 4,
 "nbformat_minor": 5
}
