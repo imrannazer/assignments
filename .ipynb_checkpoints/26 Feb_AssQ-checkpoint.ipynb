{
 "cells": [
  {
   "cell_type": "markdown",
   "id": "82b5dff3",
   "metadata": {},
   "source": [
    "Consider the below code to answer further questions:       "
   ]
  },
  {
   "cell_type": "code",
   "execution_count": 1,
   "id": "d012f09b",
   "metadata": {},
   "outputs": [],
   "source": [
    "import numpy as np     \n",
    "list_ = [ '1' , '2', '3', '4', '5']     \n",
    "array_list = np.array(object = list_)         "
   ]
  },
  {
   "cell_type": "markdown",
   "id": "5d390932",
   "metadata": {},
   "source": [
    "#### Q1. Is there any difference in the data type of variables list_ and array_list? If there is then write a code to print the data types of both the variables.\n"
   ]
  },
  {
   "cell_type": "code",
   "execution_count": 2,
   "id": "1bda7d86",
   "metadata": {},
   "outputs": [
    {
     "data": {
      "text/plain": [
       "list"
      ]
     },
     "execution_count": 2,
     "metadata": {},
     "output_type": "execute_result"
    }
   ],
   "source": [
    "type(list_)"
   ]
  },
  {
   "cell_type": "code",
   "execution_count": 3,
   "id": "f8618bcc",
   "metadata": {},
   "outputs": [
    {
     "data": {
      "text/plain": [
       "<function ndarray.astype>"
      ]
     },
     "execution_count": 3,
     "metadata": {},
     "output_type": "execute_result"
    }
   ],
   "source": [
    "array_list.astype"
   ]
  },
  {
   "cell_type": "markdown",
   "id": "35152ad1",
   "metadata": {},
   "source": [
    "#### Q2. Write a code to print the data type of each and every element of both the variables list_ and arra_list.\n"
   ]
  },
  {
   "cell_type": "code",
   "execution_count": 4,
   "id": "d7fdeb71",
   "metadata": {},
   "outputs": [
    {
     "name": "stdout",
     "output_type": "stream",
     "text": [
      "<class 'str'>\n",
      "<class 'str'>\n",
      "<class 'str'>\n",
      "<class 'str'>\n",
      "<class 'str'>\n"
     ]
    }
   ],
   "source": [
    "for i in list_:\n",
    "    print(type(i))"
   ]
  },
  {
   "cell_type": "code",
   "execution_count": 5,
   "id": "f1a6db94",
   "metadata": {},
   "outputs": [
    {
     "name": "stdout",
     "output_type": "stream",
     "text": [
      "<class 'numpy.str_'>\n",
      "<class 'numpy.str_'>\n",
      "<class 'numpy.str_'>\n",
      "<class 'numpy.str_'>\n",
      "<class 'numpy.str_'>\n"
     ]
    }
   ],
   "source": [
    "for i in array_list:\n",
    "    print(type(i))"
   ]
  },
  {
   "cell_type": "markdown",
   "id": "52110535",
   "metadata": {},
   "source": [
    "#### Q3. Considering the following changes in the variable, array_list:      "
   ]
  },
  {
   "cell_type": "code",
   "execution_count": 6,
   "id": "2999d096",
   "metadata": {},
   "outputs": [],
   "source": [
    "array_list = np.array(object = list_, dtype = int)"
   ]
  },
  {
   "cell_type": "markdown",
   "id": "ff8fdca2",
   "metadata": {},
   "source": [
    "Will there be any difference in the data type of the elements present in both the variables, list_ and arra_list? If so then print the data types of each and every element present in both the variables, list__ and arra_list.\n",
    "Consider the below code to answer further questions:    "
   ]
  },
  {
   "cell_type": "code",
   "execution_count": 7,
   "id": "ed046b2c",
   "metadata": {},
   "outputs": [
    {
     "name": "stdout",
     "output_type": "stream",
     "text": [
      "List elements type : <class 'int'>\n",
      "List elements type : <class 'int'>\n",
      "List elements type : <class 'int'>\n",
      "List elements type : <class 'int'>\n",
      "List elements type : <class 'int'>\n",
      "List elements type : <class 'int'>\n",
      "---------------------###--------------------\n",
      "Array element type : int32\n",
      "Array element type : int32\n",
      "Array element type : int32\n",
      "Array element type : int32\n",
      "Array element type : int32\n",
      "Array element type : int32\n"
     ]
    }
   ],
   "source": [
    "import numpy as np                    \n",
    "num_list = [ [ 1, 2, 3], [4, 5, 6]]        \n",
    "num_array = np.array(object = num_list)  \n",
    "for i in num_list:\n",
    "    if type(i)== list:\n",
    "        for j in i:print(f'List elements type : {type(j)}')\n",
    "    else:print(f'List elements type : {type(i)}')\n",
    "print(\"---------------------###--------------------\")\n",
    "\n",
    "num_array1 = num_array.flatten()\n",
    "for i in num_array1:\n",
    "    print(f'Array element type : {i.dtype}')\n",
    "#     print(type(i))"
   ]
  },
  {
   "cell_type": "markdown",
   "id": "4aae0149",
   "metadata": {},
   "source": [
    "#### Q4. Write a code to find the following characteristics of variable, num_array:\n",
    "- (i) shape\n"
   ]
  },
  {
   "cell_type": "code",
   "execution_count": 8,
   "id": "d8a75b35",
   "metadata": {},
   "outputs": [
    {
     "data": {
      "text/plain": [
       "array([[1, 2, 3],\n",
       "       [4, 5, 6]])"
      ]
     },
     "metadata": {},
     "output_type": "display_data"
    },
    {
     "data": {
      "text/plain": [
       "(2, 3)"
      ]
     },
     "execution_count": 8,
     "metadata": {},
     "output_type": "execute_result"
    }
   ],
   "source": [
    "display(num_array)\n",
    "num_array.shape                    # row, and column"
   ]
  },
  {
   "cell_type": "markdown",
   "id": "59e3b4a8",
   "metadata": {},
   "source": [
    "- (ii) size\n"
   ]
  },
  {
   "cell_type": "code",
   "execution_count": 9,
   "id": "7df92a3c",
   "metadata": {},
   "outputs": [
    {
     "data": {
      "text/plain": [
       "array([[1, 2, 3],\n",
       "       [4, 5, 6]])"
      ]
     },
     "metadata": {},
     "output_type": "display_data"
    },
    {
     "data": {
      "text/plain": [
       "6"
      ]
     },
     "execution_count": 9,
     "metadata": {},
     "output_type": "execute_result"
    }
   ],
   "source": [
    "display(num_array)\n",
    "num_array.size                      # row * column"
   ]
  },
  {
   "cell_type": "markdown",
   "id": "88f89094",
   "metadata": {},
   "source": [
    "#### Q5. Write a code to create numpy array of 3*3 matrix containing zeros only, using a numpy array creation function.\n",
    "[Hint: The size of the array will be 9 and the shape will be (3,3).]\n"
   ]
  },
  {
   "cell_type": "code",
   "execution_count": 10,
   "id": "47024954",
   "metadata": {},
   "outputs": [
    {
     "data": {
      "text/plain": [
       "array([[0., 0., 0.],\n",
       "       [0., 0., 0.],\n",
       "       [0., 0., 0.]])"
      ]
     },
     "execution_count": 10,
     "metadata": {},
     "output_type": "execute_result"
    }
   ],
   "source": [
    "arr = np.zeros([3,3])\n",
    "arr"
   ]
  },
  {
   "cell_type": "markdown",
   "id": "0a456257",
   "metadata": {},
   "source": [
    "#### Q6. Create an identity matrix of shape (5,5) using numpy functions?\n",
    "[Hint: An identity matrix is a matrix containing 1 diagonally and other elements will be 0.]"
   ]
  },
  {
   "cell_type": "code",
   "execution_count": 11,
   "id": "d76e9e12",
   "metadata": {},
   "outputs": [
    {
     "data": {
      "text/plain": [
       "array([[1., 0., 0., 0., 0.],\n",
       "       [0., 1., 0., 0., 0.],\n",
       "       [0., 0., 1., 0., 0.],\n",
       "       [0., 0., 0., 1., 0.],\n",
       "       [0., 0., 0., 0., 1.]])"
      ]
     },
     "execution_count": 11,
     "metadata": {},
     "output_type": "execute_result"
    }
   ],
   "source": [
    "five_ele = np.ones(5)\n",
    "arr1 = np.diag(five_ele)\n",
    "arr1"
   ]
  },
  {
   "cell_type": "code",
   "execution_count": 12,
   "id": "e02d17a1",
   "metadata": {},
   "outputs": [
    {
     "data": {
      "text/plain": [
       "(5, 5)"
      ]
     },
     "execution_count": 12,
     "metadata": {},
     "output_type": "execute_result"
    }
   ],
   "source": [
    "arr1.shape"
   ]
  },
  {
   "cell_type": "markdown",
   "id": "cdc4be34",
   "metadata": {},
   "source": []
  }
 ],
 "metadata": {
  "kernelspec": {
   "display_name": "Python 3 (ipykernel)",
   "language": "python",
   "name": "python3"
  },
  "language_info": {
   "codemirror_mode": {
    "name": "ipython",
    "version": 3
   },
   "file_extension": ".py",
   "mimetype": "text/x-python",
   "name": "python",
   "nbconvert_exporter": "python",
   "pygments_lexer": "ipython3",
   "version": "3.7.1"
  }
 },
 "nbformat": 4,
 "nbformat_minor": 5
}
