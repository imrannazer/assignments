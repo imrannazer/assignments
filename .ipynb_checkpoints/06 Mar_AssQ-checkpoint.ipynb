{
 "cells": [
  {
   "cell_type": "markdown",
   "id": "4f1e2daa",
   "metadata": {},
   "source": [
    "#### Q1. What is Statistics?"
   ]
  },
  {
   "cell_type": "markdown",
   "id": "3cddb681",
   "metadata": {},
   "source": [
    "Ans : Statistics is the science of collecting, organizing and analyzing the data"
   ]
  },
  {
   "cell_type": "markdown",
   "id": "1085c23f",
   "metadata": {},
   "source": [
    "#### Q2. Define the different types of statistics and give an example of when each type might be used."
   ]
  },
  {
   "cell_type": "markdown",
   "id": "7534374e",
   "metadata": {},
   "source": [
    "Ans : \n",
    "There are two types of statistics\n",
    " - 1. Descritive Statistics\n",
    "  - Find centeral tendency\n",
    "  - Measuere of dispersion\n",
    "  - Different type of destionbution\n",
    " - 2. Inferential Statistics\n",
    "  - Defeerent types of tests\n",
    "  - Estiamte"
   ]
  },
  {
   "cell_type": "markdown",
   "id": "33b40752",
   "metadata": {},
   "source": [
    "#### Q3. What are the different types of data and how do they differ from each other? Provide an example of each type of data."
   ]
  },
  {
   "cell_type": "markdown",
   "id": "e7d3c4af",
   "metadata": {},
   "source": [
    "Ans : \n",
    "There are four types of data.\n",
    "- Quantitative : refer to the whole numbers             \n",
    "\t\t(a) Discrete : Only integer number, e.g. no. of bank A/c, no. child, no.student         \n",
    "\t\t(b) Continuous : any types of number, we can use mathematical calculation , e.g. weight, height, speed, .etc\n",
    "- Qualitative  : refers to the categorial types of data            \n",
    "\t\t(a) Nominal : Refers to the name of a category. It cannot be measured or counted and cannot be arranger in sequence, e.g. gender, e.g. blood group\n",
    "\t\t(b) Ordinal : There categorial value can be arranged in a sequence, e.g. customer review, \n"
   ]
  },
  {
   "cell_type": "markdown",
   "id": "491d2ac3",
   "metadata": {},
   "source": [
    "#### Q4. Categorise the following datasets with respect to quantitative and qualitative data types:\n",
    "(i) Grading in exam: A+, A, B+, B, C+, C, D, E                  \n",
    "(ii) Colour of mangoes: yellow, green, orange, red                   \n",
    "(iii) Height data of a class: [178.9, 179, 179.5, 176, 177.2, 178.3, 175.8,...]                 \n",
    "(iv) Number of mangoes exported by a farm: [500, 600, 478, 672,...]                 "
   ]
  },
  {
   "cell_type": "markdown",
   "id": "5e997bb1",
   "metadata": {},
   "source": [
    "Ans : \n",
    "- (i) Qualitative Nominal data type\n",
    "- (ii) Qualitative Nominal data type\n",
    "- (iii) Quantitative Continuous data type\n",
    "- (iv) Quantitative Discrete data type"
   ]
  },
  {
   "cell_type": "markdown",
   "id": "7717c88c",
   "metadata": {},
   "source": [
    "#### Q5. Explain the concept of levels of measurement and give an example of a variable for each level."
   ]
  },
  {
   "cell_type": "markdown",
   "id": "8de7a587",
   "metadata": {},
   "source": [
    "Ans : \n",
    "Level of measurement             \n",
    "**order** : where we can use < or >                       \n",
    "**Difference** : where we can use \" - \"                    \n",
    "**True Zero** : We cant assign a -ve value                 \n",
    "**Ratio** : where we can say 2 times more, 3 times more with meaningful séance e.g. student marks in 60 and 30, 60 is two times than 30\n"
   ]
  },
  {
   "cell_type": "markdown",
   "id": "d181e593",
   "metadata": {},
   "source": [
    "|Measurement|Order|Difference|True Zero|Ratio|Example|\n",
    "| :----: | :---- | :---- | :---- | :----: | :---- |\n",
    "||<,>|-|+,*,/|\n",
    "|Nominal|no|no|no|no|color, gender, blood group|\n",
    "|Ordinal|Yes|no|no|no|customer review, rank, race rank |\n",
    "|Interval|Yes|Yes|no|no|Tempreture, |\n",
    "|Ratio|Yes|Yes|Yes|Yes|Student Marks, |"
   ]
  },
  {
   "cell_type": "markdown",
   "id": "beac111a",
   "metadata": {},
   "source": [
    "#### Q6. Why is it important to understand the level of measurement when analyzing data? Provide an example to illustrate your answer."
   ]
  },
  {
   "cell_type": "markdown",
   "id": "a1ab3806",
   "metadata": {},
   "source": [
    "Ans : It is used to help us to solve null or NaN types of data.       \n",
    "e.g.\n",
    "suppose you have a data set  x={1,0,1,0,0,1,0, NaN}, where 1 = Male and 0 = female.          \n",
    "in this case if we don’t know what is the meaning of 1 and 0, we will definatly replace NaN with any other number like 4,3,5, etc. \n"
   ]
  },
  {
   "cell_type": "markdown",
   "id": "abb93101",
   "metadata": {},
   "source": [
    "#### Q7. How nominal data type is different from ordinal data type."
   ]
  },
  {
   "cell_type": "markdown",
   "id": "f365126f",
   "metadata": {},
   "source": [
    "Ans :               \n",
    "**Nominal Data** : there order is'nt matter, it means we cant use < or > symbol in this type of data set\n",
    "e.g. gender, we cant say male > female or colors, we cant say red < blue \n",
    "\n",
    "**Ordinal Data** : there order is matter, it means we can use < or > symbol with this type of data set \n",
    "e.g. student rank, we can say 1st rank > 2nd rank and customer review good < better < best\n"
   ]
  },
  {
   "cell_type": "markdown",
   "id": "9f8b3f2e",
   "metadata": {},
   "source": [
    "#### Q8. Which type of plot can be used to display data in terms of range?"
   ]
  },
  {
   "cell_type": "markdown",
   "id": "ad52d361",
   "metadata": {},
   "source": [
    "Ans:              **Box Plot**"
   ]
  },
  {
   "cell_type": "markdown",
   "id": "fb6ff7a3",
   "metadata": {},
   "source": [
    "#### Q9. Describe the difference between descriptive and inferential statistics. Give an example of each type of statistics and explain how they are used."
   ]
  },
  {
   "cell_type": "markdown",
   "id": "eda5b946",
   "metadata": {},
   "source": [
    "Ans :              \n",
    "**Descriptive** : Descriptive is consist of organizing and summarizing the data               \n",
    "e.g. \n",
    "- 1. Measure of central tendency : find mean, median, mode\n",
    "    - 2. measure of dispersion : Variance\n",
    "- 3. difference types of distribution : pdf, pmf, cdf, etc.\n",
    "\n",
    "**Inferential** : In inferential Statistics used sample data to find out different types of conclusion about population            \n",
    "e.g. \n",
    "- Difference types of test,\n",
    " - t-test\n",
    " - z-test\n",
    " - hypothesis testing "
   ]
  },
  {
   "cell_type": "markdown",
   "id": "31f49d72",
   "metadata": {},
   "source": [
    "#### Q10. What are some common measures of central tendency and variability used in statistics? Explain how each measure can be used to describe a dataset."
   ]
  },
  {
   "cell_type": "markdown",
   "id": "a16d1c07",
   "metadata": {},
   "source": [
    "Ans :        \n",
    "**mean** : It is used with Discrete or continuous random variables.                        \n",
    "**median** : If you have outliers in data set, then use median for getting central tendency                 \n",
    "**mode** : It is used with categorical data             "
   ]
  },
  {
   "cell_type": "markdown",
   "id": "b2d3c692",
   "metadata": {},
   "source": [
    "**sample data set**\n",
    "\n",
    "\n",
    "|Age|Weight|Gender|Degree|\n",
    "| ---- | ---- | ---- | ---- |\n",
    "|20|47|M|BSc|\n",
    "|24|-|F|Phd|\n",
    "|-|42|M|BE|\n",
    "|...|...|....|....|\n",
    "|26|105|-|-|\n",
    "\n",
    "\n",
    "**Handle null values**           \n",
    "\n",
    "|column name | central tendency|\n",
    "| :----: | :---- |\n",
    "|Age|mean|\n",
    "|Weight|median|\n",
    "|Gender|mode|\n",
    "|Degree|mode|"
   ]
  }
 ],
 "metadata": {
  "kernelspec": {
   "display_name": "Python 3 (ipykernel)",
   "language": "python",
   "name": "python3"
  },
  "language_info": {
   "codemirror_mode": {
    "name": "ipython",
    "version": 3
   },
   "file_extension": ".py",
   "mimetype": "text/x-python",
   "name": "python",
   "nbconvert_exporter": "python",
   "pygments_lexer": "ipython3",
   "version": "3.7.1"
  }
 },
 "nbformat": 4,
 "nbformat_minor": 5
}
