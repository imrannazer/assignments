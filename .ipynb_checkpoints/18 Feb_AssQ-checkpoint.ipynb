{
 "cells": [
  {
   "cell_type": "markdown",
   "id": "256636cf",
   "metadata": {},
   "source": [
    "#### Q1. What is an API? Give an example, where an API is used in real life."
   ]
  },
  {
   "cell_type": "markdown",
   "id": "ec66d2b0",
   "metadata": {},
   "source": [
    "Ans:         \n",
    "API (application programming interface) is a way for two or more computer programs, web application, or apps to communicate with each other.       \n"
   ]
  },
  {
   "cell_type": "markdown",
   "id": "5e126b20",
   "metadata": {},
   "source": [
    "Ex.\n",
    "G Pay It is a google application, which is used to communicate betwee bank to Account holder. When account holder wants to send money his friend then go to GPay and put friend's account details and then send money by using it. And GPay go to bank server and check your account balance and then successful transection or deny this request."
   ]
  },
  {
   "cell_type": "markdown",
   "id": "f35065bd",
   "metadata": {},
   "source": [
    "WhatsApp, PePhone, Google, .etc"
   ]
  },
  {
   "cell_type": "markdown",
   "id": "588378fb",
   "metadata": {},
   "source": [
    "#### Q2. Give advantages and disadvantages of using API.\n"
   ]
  },
  {
   "cell_type": "markdown",
   "id": "038536c3",
   "metadata": {},
   "source": [
    "|Advantages|Disadvantages|\n",
    "|---------|----------------|\n",
    "|Interpretation of real objects|Subjective|\n",
    "|Identification of complex patterns and complex situations|Time consuming|\n",
    "|Ability to include or ignore features intelli- gently|A fixed scale is necessary|\n",
    "|Multi-scale representation|Inconsistency in the use of a steady scale to the whole image Human error|\n",
    "|Use of shape, context, neighbourhood relationships|Imprecise boundary delineation|\n"
   ]
  },
  {
   "cell_type": "markdown",
   "id": "87dc2c92",
   "metadata": {},
   "source": [
    "#### Q3. What is a Web API? Differentiate between API and Web API.\n"
   ]
  },
  {
   "cell_type": "markdown",
   "id": "f38859f1",
   "metadata": {},
   "source": [
    "Ans:              \n",
    "\n",
    "Web API is an application programming interface for the Web.\n",
    "- Web API is a subset of API\n",
    "- It is specily designed for webpage\n",
    "\n",
    "||APIs|Web APIs|\n",
    "|-----------|----------|-----------|\n",
    "|<b>Protocol|TCP, FTP, or SMTP to communicate|HTTP protocol|\n",
    "|<b>Platform|used for creating any type of application|specifically for web-based applications|\n",
    "|<b>Data formats|support various data formats like as XML, JSON, or CSV,|support JSON or XML formats|\n",
    "|<b>Security|variety of security mechanisms|standard web security protocols such as OAuth or API keys|\n",
    "    \n",
    "Web API is a type of API that is specifically designed for web-based applications and is accessed over the internet using the HTTP protocol"
   ]
  },
  {
   "cell_type": "markdown",
   "id": "c8501e27",
   "metadata": {},
   "source": [
    "#### Q4. Explain REST and SOAP Architecture. Mention shortcomings of SOAP.\n"
   ]
  },
  {
   "cell_type": "markdown",
   "id": "04f9f76a",
   "metadata": {},
   "source": [
    "Ans:             \n",
    "\n",
    "REST stands for REpresentational State Transfer and API stands for Application Program Interface. REST is a software architectural style that defines the set of rules to be used for creating web services.    \n",
    "A Restful system consists of a:    \n",
    "- client who requests for the resources.\n",
    "- server who has the resources.\n",
    "\n",
    "![REST_Architecture](https://i.ibb.co/zbXNN6R/REST-APIs-Archeitecture.png)"
   ]
  },
  {
   "cell_type": "markdown",
   "id": "ebd93a5b",
   "metadata": {},
   "source": [
    "SOAP (formerly a backronym for Simple Object Access Protocol) is a messaging protocol specification for exchanging structured information in the implementation of web services      \n",
    "SOAP messaging structure\n",
    "- Envelope \n",
    "- Header (optional) \n",
    "- Body includes the request or response.\n",
    "- Fault\n",
    "![SOAP ](https://i.ibb.co/VtSst3T/SOAP-Archeitecture.png)"
   ]
  },
  {
   "cell_type": "markdown",
   "id": "f7b3aba4",
   "metadata": {},
   "source": [
    "Shortcomings of SOAP\n",
    "- Complexity in code and understanding\n",
    "- Performance slower than other web service protocols\n",
    "- Developers facing Tooling problems "
   ]
  },
  {
   "cell_type": "markdown",
   "id": "9022483e",
   "metadata": {},
   "source": [
    "#### Q5. Differentiate between REST and SOAP."
   ]
  },
  {
   "cell_type": "markdown",
   "id": "422c8dc2",
   "metadata": {},
   "source": [
    "Ans:         \n",
    "\n",
    "||REST|SOAP|\n",
    "|--------|------------|------------|\n",
    "|Protocol|HTTP|Messaging|\n",
    "|Performance|Faster|Slower|\n",
    "|Scalability|Scalable|Defcault to scale|\n",
    "|Caching|Available|Not available|\n",
    "|Statelessness|Stateless|Maintain state|"
   ]
  },
  {
   "cell_type": "code",
   "execution_count": null,
   "id": "f3ae71dc",
   "metadata": {},
   "outputs": [],
   "source": []
  },
  {
   "cell_type": "code",
   "execution_count": null,
   "id": "9d4d9d6e",
   "metadata": {},
   "outputs": [],
   "source": []
  },
  {
   "cell_type": "code",
   "execution_count": null,
   "id": "b58fc9a0",
   "metadata": {},
   "outputs": [],
   "source": []
  },
  {
   "cell_type": "code",
   "execution_count": null,
   "id": "c9964a75",
   "metadata": {},
   "outputs": [],
   "source": []
  }
 ],
 "metadata": {
  "kernelspec": {
   "display_name": "Python 3 (ipykernel)",
   "language": "python",
   "name": "python3"
  },
  "language_info": {
   "codemirror_mode": {
    "name": "ipython",
    "version": 3
   },
   "file_extension": ".py",
   "mimetype": "text/x-python",
   "name": "python",
   "nbconvert_exporter": "python",
   "pygments_lexer": "ipython3",
   "version": "3.7.1"
  }
 },
 "nbformat": 4,
 "nbformat_minor": 5
}
