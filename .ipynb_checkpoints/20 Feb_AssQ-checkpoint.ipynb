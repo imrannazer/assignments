{
 "cells": [
  {
   "cell_type": "markdown",
   "id": "86d44644",
   "metadata": {},
   "source": [
    "#### Q1. Explain GET and POST methods.\n"
   ]
  },
  {
   "cell_type": "markdown",
   "id": "2d1e9f75",
   "metadata": {},
   "source": [
    "**GET** method used to retrieve information from a web server."
   ]
  },
  {
   "cell_type": "markdown",
   "id": "525b7b17",
   "metadata": {},
   "source": [
    "**POST** method commonly used to send information to web server. POST is more secure than GET. GET show information on link"
   ]
  },
  {
   "cell_type": "markdown",
   "id": "7f77adf2",
   "metadata": {},
   "source": [
    "#### Q2. Why is request used in Flask?\n"
   ]
  },
  {
   "cell_type": "markdown",
   "id": "0872f0d5",
   "metadata": {},
   "source": [
    "**request** is a HTTP request, send by client to Flask application to access server. It is GET, POST, DELETE .etc "
   ]
  },
  {
   "cell_type": "code",
   "execution_count": null,
   "id": "47c81296",
   "metadata": {},
   "outputs": [],
   "source": []
  },
  {
   "cell_type": "markdown",
   "id": "d16426e2",
   "metadata": {},
   "source": [
    "#### Q3. Why is redirect() used in Flask?\n"
   ]
  },
  {
   "cell_type": "markdown",
   "id": "727b7ba2",
   "metadata": {},
   "source": [
    "**redirect()** used to redirect client to a specific URL. It is commenly used on web application to redirect client to a page. "
   ]
  },
  {
   "cell_type": "code",
   "execution_count": null,
   "id": "0dc65df2",
   "metadata": {},
   "outputs": [],
   "source": []
  },
  {
   "cell_type": "markdown",
   "id": "353c1cd8",
   "metadata": {},
   "source": [
    "#### Q4. What are templates in Flask? Why is the render_template() function used?\n"
   ]
  },
  {
   "cell_type": "markdown",
   "id": "2db40b96",
   "metadata": {},
   "source": [
    "**Templates** is a separate folder which is used to save static and dynamic content, like HTML, CSS, JS files .etc"
   ]
  },
  {
   "cell_type": "markdown",
   "id": "b0268027",
   "metadata": {},
   "source": [
    "**render_template()** It is used to link the template with a specific route or URL. When client goes to specific URL then render any specific file."
   ]
  },
  {
   "cell_type": "code",
   "execution_count": null,
   "id": "c961f90b",
   "metadata": {},
   "outputs": [],
   "source": []
  },
  {
   "cell_type": "markdown",
   "id": "16cc1040",
   "metadata": {},
   "source": [
    "#### Q5. Create a simple API. Use Postman to test it. Attach the screenshot of the output in the Jupyter Notebook."
   ]
  },
  {
   "cell_type": "code",
   "execution_count": 9,
   "id": "a71c66b5",
   "metadata": {},
   "outputs": [],
   "source": []
  },
  {
   "cell_type": "code",
   "execution_count": 1,
   "id": "04a1a080",
   "metadata": {},
   "outputs": [
    {
     "name": "stdout",
     "output_type": "stream",
     "text": [
      "Good morning\n"
     ]
    }
   ],
   "source": [
    "from time import time, ctime, localtime\n",
    "stobj=localtime()#extrect all thing about time & date\n",
    "hour = stobj.tm_hour\n",
    "def message(h):\n",
    "    if 4<=hour<=12:\n",
    "        return \"Good Morning\"\n",
    "    elif 12<hour<18:\n",
    "        return\"Good after noon\"\n",
    "    elif 18<=hour<24 or 1<=hour<4:\n",
    "        return \"Good Night\"\n",
    "print(message(hour))"
   ]
  },
  {
   "cell_type": "code",
   "execution_count": 4,
   "id": "4e76150c",
   "metadata": {},
   "outputs": [
    {
     "data": {
      "text/plain": [
       "'Good Morning imran'"
      ]
     },
     "execution_count": 4,
     "metadata": {},
     "output_type": "execute_result"
    }
   ],
   "source": [
    "from time import time, ctime, localtime\n",
    "stobj=localtime()#extrect all thing about time & date\n",
    "stobj=localtime()               #extrect all thing about time & date\n",
    "name1 = \"imran\"\n",
    "hour = stobj.tm_hour\n",
    "def message(h):\n",
    "    if 4<=hour<=12:\n",
    "        result = f\"Good Morning {name1}\"\n",
    "    elif 12<hour<18:\n",
    "        result = f\"Good after noon {name1}\"\n",
    "    elif 18<=hour<24 or 1<=hour<4:\n",
    "        result = f\"Good Night {name1}\"\n",
    "    return result\n",
    "message(stobj)"
   ]
  },
  {
   "cell_type": "code",
   "execution_count": null,
   "id": "b64bf3a0",
   "metadata": {},
   "outputs": [],
   "source": []
  },
  {
   "cell_type": "code",
   "execution_count": null,
   "id": "622f0f60",
   "metadata": {},
   "outputs": [],
   "source": []
  },
  {
   "cell_type": "code",
   "execution_count": null,
   "id": "b0a577c1",
   "metadata": {},
   "outputs": [],
   "source": []
  }
 ],
 "metadata": {
  "kernelspec": {
   "display_name": "Python 3 (ipykernel)",
   "language": "python",
   "name": "python3"
  },
  "language_info": {
   "codemirror_mode": {
    "name": "ipython",
    "version": 3
   },
   "file_extension": ".py",
   "mimetype": "text/x-python",
   "name": "python",
   "nbconvert_exporter": "python",
   "pygments_lexer": "ipython3",
   "version": "3.7.1"
  }
 },
 "nbformat": 4,
 "nbformat_minor": 5
}
