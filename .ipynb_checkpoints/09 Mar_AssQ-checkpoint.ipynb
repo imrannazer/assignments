{
 "cells": [
  {
   "cell_type": "markdown",
   "id": "98aeb39c",
   "metadata": {},
   "source": [
    "#### Q1: What are the Probability Mass Function (PMF) and Probability Density Function (PDF)? Explain with an example."
   ]
  },
  {
   "cell_type": "markdown",
   "id": "85ebc162",
   "metadata": {},
   "source": [
    "Ans :                \n",
    "**Probability Mass Function (PMF)** is used to describe the probabilities of <u>discrete random variables</u>. It maps each possible value of a discrete random variable to the probability of that value occurring.              \n",
    "e.g.\n",
    "- rolling a dice"
   ]
  },
  {
   "cell_type": "markdown",
   "id": "82310426",
   "metadata": {},
   "source": [
    "**Probability Density Function (pdf)** is a type of Probability Distribution Function. It is used to denote the distribution of the data set if the dataset is a continuous random variable. \n",
    "e.g. \n",
    "- Rolling a dice"
   ]
  },
  {
   "cell_type": "markdown",
   "id": "6d46e242",
   "metadata": {},
   "source": [
    "#### Q2: What is Cumulative Density Function (CDF)? Explain with an example. Why CDF is used?"
   ]
  },
  {
   "cell_type": "markdown",
   "id": "7984910d",
   "metadata": {},
   "source": [
    "Ans : \n",
    "**PDF** describe the distribution only continuous random variable and **PMF** describe the distribution only discrete random variable, but **CDF**, that it can be defined for any kind of random variable (discrete, continuous, and mixed). Therefore we are using **CDF**"
   ]
  },
  {
   "cell_type": "code",
   "execution_count": null,
   "id": "87b214fc",
   "metadata": {},
   "outputs": [],
   "source": []
  },
  {
   "cell_type": "markdown",
   "id": "b0dbf1fd",
   "metadata": {},
   "source": [
    "#### Q3: What are some examples of situations where the normal distribution might be used as a model? Explain how the parameters of the normal distribution relate to the shape of the distribution."
   ]
  },
  {
   "cell_type": "markdown",
   "id": "8a8384db",
   "metadata": {},
   "source": [
    "In statistics, a normal distribution or gaussion distribution is a \n",
    "- Type of continuous probability distribution\n",
    "- for a real valued random variable\n",
    "- It has bell-shaped curve\n",
    "- wiht an equale number of measurements\n",
    "\n",
    "**mean = median = mode**"
   ]
  },
  {
   "cell_type": "markdown",
   "id": "9145eec6",
   "metadata": {},
   "source": [
    "#### Q4: Explain the importance of Normal Distribution. Give a few real-life examples of Normal Distribution."
   ]
  },
  {
   "cell_type": "markdown",
   "id": "c9d4a20a",
   "metadata": {},
   "source": [
    "such as the height of a population, \n",
    "the weight of objects, \n",
    "- It is a fundamental concept in statistics\n",
    "- It is widely recognized and understood\n",
    "- all centrel\n",
    "\n",
    "e.g.      \n",
    "- student Height\n",
    "- Rolling A Dice\n",
    "- Tossing A Coin\n",
    "- student IQ \n",
    "- Blood Pressure"
   ]
  },
  {
   "cell_type": "code",
   "execution_count": null,
   "id": "c1a505b9",
   "metadata": {},
   "outputs": [],
   "source": []
  },
  {
   "cell_type": "markdown",
   "id": "c5b27327",
   "metadata": {},
   "source": [
    "#### Q5: What is Bernaulli Distribution? Give an Example. What is the difference between Bernoulli Distribution and Binomial Distribution?"
   ]
  },
  {
   "cell_type": "markdown",
   "id": "b83315ce",
   "metadata": {},
   "source": [
    "The bernaulli Distribution is the discete progability distribution of a random variable.\n",
    "- which has two outcomes Y and N\n",
    "- Binary outcomes"
   ]
  },
  {
   "cell_type": "markdown",
   "id": "b47fb39f",
   "metadata": {},
   "source": [
    "||Bernaulli Distribution|Binomial Distribution|\n",
    "|-----|-----|------|\n",
    "|Probability Distribution| Continuous Probability Distribution| Discrete Probability Distribution|\n",
    "|Outcomes| Binary| Yes or No|\n",
    "|parameter| for success|1-p = q for failure|\n"
   ]
  },
  {
   "cell_type": "markdown",
   "id": "d6cb7711",
   "metadata": {},
   "source": [
    "#### Q6. Consider a dataset with a mean of 50 and a standard deviation of 10. If we assume that the dataset is normally distributed, what is the probability that a randomly selected observation will be greater than 60? Use the appropriate formula and show your calculations."
   ]
  },
  {
   "cell_type": "markdown",
   "id": "39276695",
   "metadata": {},
   "source": [
    "Solution\n",
    "![](https://tinyurl.com/386jpxxn)\n"
   ]
  },
  {
   "cell_type": "code",
   "execution_count": null,
   "id": "0c0d5436",
   "metadata": {},
   "outputs": [],
   "source": []
  },
  {
   "cell_type": "markdown",
   "id": "bb00cde2",
   "metadata": {},
   "source": [
    "#### Q7: Explain uniform Distribution with an example."
   ]
  },
  {
   "cell_type": "markdown",
   "id": "7b0cd86b",
   "metadata": {},
   "source": [
    "Ans : \n",
    "\n",
    "**Uniform Distribution Function** is a part of the discrete distribution function, Therefore we are using probability mass function (pmf).**Uniform distribution** is when all the possible events are equally likely. For example, consider an experiment of rolling a dice. We have six possible events X = {1, 2, 3, 4, 5, 6} each having a probability of P(X) = 1/6.In other way of saying \"discrete uniform distribution\" would be a known finite number of outcomes equally likely to happen.\n"
   ]
  },
  {
   "cell_type": "code",
   "execution_count": 7,
   "id": "501ccea2",
   "metadata": {},
   "outputs": [
    {
     "data": {
      "text/plain": [
       "0.4"
      ]
     },
     "execution_count": 7,
     "metadata": {},
     "output_type": "execute_result"
    }
   ],
   "source": [
    "# Suppose a bus shows up at a bus stop every 20 minutes. If you arrive at the bus stop, what is the probability that the bus will show up in 8 minutes or less?\n",
    "from scipy.stats import uniform\n",
    "#calculate uniform probability\n",
    "uniform.cdf(x=8, loc=0, scale=20) - uniform.cdf(x=0, loc=0, scale=20)"
   ]
  },
  {
   "cell_type": "markdown",
   "id": "fa9a2e90",
   "metadata": {},
   "source": [
    "#### Q8: What is the z score? State the importance of the z score."
   ]
  },
  {
   "cell_type": "markdown",
   "id": "7ad4bd0c",
   "metadata": {},
   "source": [
    "Ans : **z-score** (also called a standard score) gives you an idea of how far from the mean a data point is."
   ]
  },
  {
   "cell_type": "markdown",
   "id": "c89ff0f8",
   "metadata": {},
   "source": [
    "State the importance of the z score.\n",
    "-  The z-score can be used in hypothesis testing to determine the statistical significance of the difference between two groups or samples.\n",
    "- It enables us to calculate probabilities\n",
    "- It allows for comparison of data points from different populations"
   ]
  },
  {
   "cell_type": "markdown",
   "id": "e9f50933",
   "metadata": {},
   "source": [
    "#### Q9: What is Central Limit Theorem? State the significance of the Central Limit Theorem."
   ]
  },
  {
   "cell_type": "markdown",
   "id": "f77deaab",
   "metadata": {},
   "source": [
    "Ans : \n",
    "\n",
    "**Central Limit Theorem** says If you get different samples from population S1,S2,S¬,…Sm (some data can be repeated) and the number of samples is n>=30, and sample means is x1bar, x2bar, x3bar,…..xmbar, and you go to plot there mean you will get a ball curve."
   ]
  },
  {
   "cell_type": "markdown",
   "id": "7654ca9a",
   "metadata": {},
   "source": [
    "- In CLT sample size (n) >= 30\n",
    "- In CLT mean of all samples plot looks like a ball curve\n",
    "- It is the foundation of many statistical techniques\n",
    "- It helps us to understand the behavior of the sampling distribution"
   ]
  },
  {
   "cell_type": "markdown",
   "id": "43377c0c",
   "metadata": {},
   "source": [
    "#### Q10: State the assumptions of the Central Limit Theorem."
   ]
  },
  {
   "cell_type": "markdown",
   "id": "69e6990a",
   "metadata": {},
   "source": [
    "Ans :  \n",
    "\n",
    "1.\tThe data must follow the randomization condition. \n",
    "2.\tSamples should be independent of each other. \n",
    "3.\tSample size should be not more than 10% of the population \n",
    "4.\tThe sample size should be sufficiently large. "
   ]
  },
  {
   "cell_type": "code",
   "execution_count": null,
   "id": "b4a4fd21",
   "metadata": {},
   "outputs": [],
   "source": []
  }
 ],
 "metadata": {
  "kernelspec": {
   "display_name": "Python 3 (ipykernel)",
   "language": "python",
   "name": "python3"
  },
  "language_info": {
   "codemirror_mode": {
    "name": "ipython",
    "version": 3
   },
   "file_extension": ".py",
   "mimetype": "text/x-python",
   "name": "python",
   "nbconvert_exporter": "python",
   "pygments_lexer": "ipython3",
   "version": "3.7.1"
  }
 },
 "nbformat": 4,
 "nbformat_minor": 5
}
