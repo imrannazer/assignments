{
 "cells": [
  {
   "cell_type": "markdown",
   "id": "1d17b90d",
   "metadata": {},
   "source": [
    "#### Q1: Explain the following with an example:\n",
    "- 1. Artificial Intelligence\n",
    "- 2. Machine Learning\n",
    "- 3. Deep Learning"
   ]
  },
  {
   "cell_type": "markdown",
   "id": "cb11ba44",
   "metadata": {},
   "source": [
    "Ans : \n",
    "- 1. Artificial Intelligence: It is a superset where ML and DS are a subset of this. In Artificial Intelligence we try to create a smart application that performs tasks without human intervention.           \n",
    "e.g. self driving car, robots, Alexa\n",
    "- 2. Machine Learning is a subset of AI, that provide different types of tool and technique to analyze, visualize predict model.                       \n",
    "e.g. Recommendation system in Amazon(product), Youtube(videos), etc. \n",
    "- 3. Deep Learning is a subset of ML, that is specially used to mimic (copy the action and performance) the human brain    \n",
    "e.g. object detection, image recognition, chat boat\n"
   ]
  },
  {
   "cell_type": "markdown",
   "id": "e88985fc",
   "metadata": {},
   "source": [
    "#### Q2: What is supervised learning? List some examples of supervised learning."
   ]
  },
  {
   "cell_type": "markdown",
   "id": "9e322375",
   "metadata": {},
   "source": [
    "Ans :        \n",
    "**Supervised Learning** is a part of machine learning, where output is known, It may be categorical or continuous outputs\n"
   ]
  },
  {
   "cell_type": "markdown",
   "id": "879bf93e",
   "metadata": {},
   "source": [
    "e.g. in categorical output             \n",
    "\n",
    "|input-weight|input-height|output-M/F|\n",
    "| ---- | ---- | ---- |\n",
    "|75|170cm|M|\n",
    "|45|120|F|\n",
    "\n",
    "e.g. in continuous output             \n",
    "\n",
    "|input-RAM|input-Hard Disk |output-Price|\n",
    "| ---- | ---- | ---- |\n",
    "|4|500GB|40000|\n",
    "|8|1TB|80000|"
   ]
  },
  {
   "cell_type": "markdown",
   "id": "af2b0aa1",
   "metadata": {},
   "source": [
    "#### Q3: What is unsupervised learning? List some examples of unsupervised learning."
   ]
  },
  {
   "cell_type": "markdown",
   "id": "b9f20e76",
   "metadata": {},
   "source": [
    "Ans :            \n",
    "**Unsupervised Learning** is a part of machine learning, where output is unknown, In this type of ML we try to find out clustering or grouping the dataset."
   ]
  },
  {
   "cell_type": "markdown",
   "id": "2283a658",
   "metadata": {},
   "source": [
    "![Age and Weight ](https://i.ibb.co/5LBYxyk/image.png)"
   ]
  },
  {
   "cell_type": "markdown",
   "id": "9a17c96a",
   "metadata": {},
   "source": [
    "#### Q4: What is the difference between AI, ML, DL, and DS?"
   ]
  },
  {
   "cell_type": "markdown",
   "id": "29e9fa1c",
   "metadata": {},
   "source": [
    "Ans :             \n",
    "- AI is a superset of ML and DS\n",
    "- ML is a subset of AI \n",
    "- DS is a intersection of AI, ML and DL\n",
    "- DL is a subset of ML"
   ]
  },
  {
   "cell_type": "markdown",
   "id": "f3fc4c93",
   "metadata": {},
   "source": [
    "#### Q5: What are the main differences between supervised, unsupervised, and semi-supervised learning?"
   ]
  },
  {
   "cell_type": "markdown",
   "id": "42e6fdd0",
   "metadata": {},
   "source": [
    "Ans :         \n",
    "**Supervised** : output(label) is known, trained model on the correct output                \n",
    "**Unsupervised** : output(label) is unknown, trained model to build clustering or grouping of the dataset             \n",
    "**Semi-supervised** : some output is known and some are unknown (supervised + unsupervised)\n"
   ]
  },
  {
   "cell_type": "markdown",
   "id": "36c28ba1",
   "metadata": {},
   "source": [
    "#### Q6: What is train, test and validation split? Explain the importance of each term."
   ]
  },
  {
   "cell_type": "markdown",
   "id": "96f3b7d6",
   "metadata": {},
   "source": [
    "Ans :                \n",
    "**train** : This dataset is used to train ML model, without this dataset we can’t create a model                \n",
    "**test** : This dataset is used to test the ML model works properly or not, It is fully hidden from model          \n",
    "**validation** : It is a subset of the training dataset which is used to tune the hyperparameter(or improve it if possible)\n"
   ]
  },
  {
   "cell_type": "markdown",
   "id": "dbc39b86",
   "metadata": {},
   "source": [
    "#### Q7: How can unsupervised learning be used in anomaly detection?"
   ]
  },
  {
   "cell_type": "markdown",
   "id": "f482fb8b",
   "metadata": {},
   "source": [
    "#### Q8: List down some commonly used supervised learning algorithms and unsupervised learning algorithms."
   ]
  },
  {
   "cell_type": "markdown",
   "id": "310dc0e0",
   "metadata": {},
   "source": [
    "Ans :           \n",
    "- Regression\n",
    " - linear\n",
    " - Polynomial\n",
    "- Decision Trees\n",
    "- Random Forests\n",
    "- KNN\n",
    "- Trees\n",
    "- SVM"
   ]
  }
 ],
 "metadata": {
  "kernelspec": {
   "display_name": "Python 3 (ipykernel)",
   "language": "python",
   "name": "python3"
  },
  "language_info": {
   "codemirror_mode": {
    "name": "ipython",
    "version": 3
   },
   "file_extension": ".py",
   "mimetype": "text/x-python",
   "name": "python",
   "nbconvert_exporter": "python",
   "pygments_lexer": "ipython3",
   "version": "3.7.1"
  }
 },
 "nbformat": 4,
 "nbformat_minor": 5
}
