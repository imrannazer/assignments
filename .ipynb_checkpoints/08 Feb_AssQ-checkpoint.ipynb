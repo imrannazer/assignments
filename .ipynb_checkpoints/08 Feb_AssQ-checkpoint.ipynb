{
 "cells": [
  {
   "cell_type": "markdown",
   "id": "05e0bcef",
   "metadata": {},
   "source": [
    "#### Q1. What is Abstraction in Oops? Explain with an example.\n"
   ]
  },
  {
   "cell_type": "markdown",
   "id": "81e9866f",
   "metadata": {},
   "source": [
    "#### Abstraction / Hide   \n",
    "- Abstraction fundamental concept that refers to the process of hiding complex implementation details/code and exposing only essential information to the user.\n",
    "- Focusing on essential characteristics while ignoring or suppressing non-essential details."
   ]
  },
  {
   "cell_type": "code",
   "execution_count": 75,
   "id": "05ad7683",
   "metadata": {},
   "outputs": [],
   "source": [
    "#insert abstract module\n",
    "from abc import ABC,abstractmethod"
   ]
  },
  {
   "cell_type": "code",
   "execution_count": 101,
   "id": "48f1cc91",
   "metadata": {},
   "outputs": [],
   "source": [
    "#parent class\n",
    "class Shapes(ABC):                #use ABC method for creating abstract class \n",
    "    @abstractmethod              \n",
    "    def area(self):               # abstract class\n",
    "        pass\n",
    "    @abstractmethod\n",
    "    def primeter(self):           # abstract class\n",
    "        pass"
   ]
  },
  {
   "cell_type": "code",
   "execution_count": 104,
   "id": "4a349d5b",
   "metadata": {},
   "outputs": [],
   "source": [
    "# child class for Shapes parent class \n",
    "class Square_area(Shapes):\n",
    "    def __init__(self, side):\n",
    "        self.side = side\n",
    "    def area(self):\n",
    "        return self.side * self.side\n",
    "    def primeter(self):\n",
    "        return 4*self.side"
   ]
  },
  {
   "cell_type": "code",
   "execution_count": 105,
   "id": "b8c50a90",
   "metadata": {},
   "outputs": [
    {
     "ename": "TypeError",
     "evalue": "Can't instantiate abstract class Shapes with abstract methods area, primeter",
     "output_type": "error",
     "traceback": [
      "\u001b[1;31m---------------------------------------------------------------------------\u001b[0m",
      "\u001b[1;31mTypeError\u001b[0m                                 Traceback (most recent call last)",
      "\u001b[1;32m~\\AppData\\Local\\Temp\\ipykernel_26944\\2735196288.py\u001b[0m in \u001b[0;36m<module>\u001b[1;34m\u001b[0m\n\u001b[1;32m----> 1\u001b[1;33m \u001b[0mobj\u001b[0m \u001b[1;33m=\u001b[0m \u001b[0mShapes\u001b[0m\u001b[1;33m(\u001b[0m\u001b[1;33m)\u001b[0m \u001b[1;31m# We are not able to access parent class\u001b[0m\u001b[1;33m\u001b[0m\u001b[1;33m\u001b[0m\u001b[0m\n\u001b[0m",
      "\u001b[1;31mTypeError\u001b[0m: Can't instantiate abstract class Shapes with abstract methods area, primeter"
     ]
    }
   ],
   "source": [
    "obj = Shapes() # We are not able to access parent class"
   ]
  },
  {
   "cell_type": "code",
   "execution_count": 106,
   "id": "02a345ad",
   "metadata": {},
   "outputs": [],
   "source": [
    "obj_sq = Square_area(5)"
   ]
  },
  {
   "cell_type": "code",
   "execution_count": 107,
   "id": "f625e828",
   "metadata": {},
   "outputs": [
    {
     "data": {
      "text/plain": [
       "5"
      ]
     },
     "execution_count": 107,
     "metadata": {},
     "output_type": "execute_result"
    }
   ],
   "source": [
    "obj_sq.side"
   ]
  },
  {
   "cell_type": "code",
   "execution_count": 119,
   "id": "c1011956",
   "metadata": {},
   "outputs": [
    {
     "data": {
      "text/plain": [
       "<bound method Mobile.perc_price of <__main__.Samsung object at 0x000001ED9B17C208>>"
      ]
     },
     "execution_count": 119,
     "metadata": {},
     "output_type": "execute_result"
    }
   ],
   "source": [
    "obj.perc_price"
   ]
  },
  {
   "cell_type": "code",
   "execution_count": null,
   "id": "3afd49d1",
   "metadata": {},
   "outputs": [],
   "source": []
  },
  {
   "cell_type": "code",
   "execution_count": null,
   "id": "f92795d8",
   "metadata": {},
   "outputs": [],
   "source": []
  },
  {
   "cell_type": "markdown",
   "id": "7d4d111b",
   "metadata": {},
   "source": [
    "#### Q2. Differentiate between Abstraction and Encapsulation. Explain with an example.\n"
   ]
  },
  {
   "cell_type": "markdown",
   "id": "711f5455",
   "metadata": {},
   "source": [
    "#### Abstraction Vs Encapsulation"
   ]
  },
  {
   "cell_type": "markdown",
   "id": "d58ef54a",
   "metadata": {},
   "source": [
    "Both Abstraction and Encapsulation are fundamental concepts in OOPs."
   ]
  },
  {
   "cell_type": "markdown",
   "id": "fefadf25",
   "metadata": {},
   "source": [
    "|Abstraction|Encapsulation|\n",
    "|-----------|-------------|\n",
    "|Hide class from user|Hide somethig from class form user|\n",
    "|It solves an issue at the design level |Solves an issue at implementation level |\n",
    "|It is implementing by using abstract @abstractmethod.|It can be implemented by using _ or __ (private, public, protected).|\n",
    "||We use the getter and setter methods to hide the data|\n",
    "|Abstract class only mehtods decleration|Encapsulation class mehtods decleration and implementation|"
   ]
  },
  {
   "cell_type": "code",
   "execution_count": 110,
   "id": "059644a7",
   "metadata": {},
   "outputs": [],
   "source": [
    "#abstraction\n",
    "from abc import abstractmethod,ABC\n",
    "class Abstrac(ABC):\n",
    "    @abstractmethod\n",
    "    def test():\n",
    "        pass\n",
    "    @abstractmethod\n",
    "    def test2():\n",
    "        pass"
   ]
  },
  {
   "cell_type": "code",
   "execution_count": 112,
   "id": "e9aa0c16",
   "metadata": {},
   "outputs": [],
   "source": [
    "#Encapsulation\n",
    "class Encap:\n",
    "    def __init__(self, arg1,arg2,arg3):\n",
    "        self.arg1 = arg1                            #public \n",
    "        self._arg2 = arg2                           #protected\n",
    "        self.__arg3 = arg3                          #private\n",
    "    def test(self):\n",
    "        return self.arg1 + self.arg2 + self.arg3"
   ]
  },
  {
   "cell_type": "markdown",
   "id": "a918389f",
   "metadata": {},
   "source": [
    "#### Q3. What is abc module in python? Why is it used?\n"
   ]
  },
  {
   "cell_type": "markdown",
   "id": "079c9329",
   "metadata": {},
   "source": [
    "- It is Abstract Base Classes module\n",
    "- It is used to abstract a class from user\n",
    "- By using an abstract class, a class can derive identity from another class without any object inheritance"
   ]
  },
  {
   "cell_type": "markdown",
   "id": "10be5efd",
   "metadata": {},
   "source": []
  },
  {
   "cell_type": "code",
   "execution_count": null,
   "id": "34907ae3",
   "metadata": {},
   "outputs": [],
   "source": []
  },
  {
   "cell_type": "markdown",
   "id": "15845f84",
   "metadata": {},
   "source": [
    "#### Q4. How can we achieve data abstraction?\n"
   ]
  },
  {
   "cell_type": "markdown",
   "id": "794f14aa",
   "metadata": {},
   "source": [
    "- By using child class\n",
    "- Stop to inherit parent class methods in child class as abstract methods\n",
    "- Used abstract class methods in child class\n",
    "- "
   ]
  },
  {
   "cell_type": "code",
   "execution_count": null,
   "id": "863e0dc9",
   "metadata": {},
   "outputs": [],
   "source": [
    "#example\n",
    "child_obj = Child_class(par,par2)\n",
    "child_obj.child_method()"
   ]
  },
  {
   "cell_type": "markdown",
   "id": "1b939d34",
   "metadata": {},
   "source": [
    "#### Q5. Can we create an instance of an abstract class? Explain your answer.\n"
   ]
  },
  {
   "cell_type": "markdown",
   "id": "d3cedc95",
   "metadata": {},
   "source": [
    "No      \n",
    "- we can not create an instance of an abstract class directly...\n",
    "- It is (abstract class) create for common use for any child class\n",
    "- If we go to create an instance, it will throug an \"TypeError\""
   ]
  },
  {
   "cell_type": "code",
   "execution_count": null,
   "id": "58da20cc",
   "metadata": {},
   "outputs": [],
   "source": []
  },
  {
   "cell_type": "code",
   "execution_count": 117,
   "id": "97462bf1",
   "metadata": {},
   "outputs": [],
   "source": [
    "from abc import ABC,abstractmethod\n",
    "\n",
    "class test_class(ABC):\n",
    "    @abstractmethod\n",
    "    def area(self):\n",
    "        pass"
   ]
  },
  {
   "cell_type": "code",
   "execution_count": 120,
   "id": "db9a1290",
   "metadata": {},
   "outputs": [
    {
     "ename": "TypeError",
     "evalue": "Can't instantiate abstract class test_class with abstract methods area",
     "output_type": "error",
     "traceback": [
      "\u001b[1;31m---------------------------------------------------------------------------\u001b[0m",
      "\u001b[1;31mTypeError\u001b[0m                                 Traceback (most recent call last)",
      "\u001b[1;32m~\\AppData\\Local\\Temp\\ipykernel_26944\\2103932821.py\u001b[0m in \u001b[0;36m<module>\u001b[1;34m\u001b[0m\n\u001b[1;32m----> 1\u001b[1;33m \u001b[0mobj\u001b[0m \u001b[1;33m=\u001b[0m \u001b[0mtest_class\u001b[0m\u001b[1;33m(\u001b[0m\u001b[1;33m)\u001b[0m\u001b[1;33m\u001b[0m\u001b[1;33m\u001b[0m\u001b[0m\n\u001b[0m",
      "\u001b[1;31mTypeError\u001b[0m: Can't instantiate abstract class test_class with abstract methods area"
     ]
    }
   ],
   "source": [
    "obj = test_class()"
   ]
  },
  {
   "cell_type": "markdown",
   "id": "c37162fe",
   "metadata": {},
   "source": []
  }
 ],
 "metadata": {
  "kernelspec": {
   "display_name": "Python 3 (ipykernel)",
   "language": "python",
   "name": "python3"
  },
  "language_info": {
   "codemirror_mode": {
    "name": "ipython",
    "version": 3
   },
   "file_extension": ".py",
   "mimetype": "text/x-python",
   "name": "python",
   "nbconvert_exporter": "python",
   "pygments_lexer": "ipython3",
   "version": "3.7.1"
  }
 },
 "nbformat": 4,
 "nbformat_minor": 5
}
