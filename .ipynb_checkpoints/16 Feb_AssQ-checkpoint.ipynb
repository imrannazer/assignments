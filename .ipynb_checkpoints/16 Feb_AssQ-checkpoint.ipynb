{
 "cells": [
  {
   "cell_type": "markdown",
   "id": "81021403",
   "metadata": {},
   "source": [
    "#### Q1. What is a database? Differentiate between SQL and NoSQL databases.\n"
   ]
  },
  {
   "cell_type": "markdown",
   "id": "8aa332f6",
   "metadata": {},
   "source": [
    "Ans :    \n",
    "- Database is a data storage, Where you can store data/information"
   ]
  },
  {
   "cell_type": "markdown",
   "id": "ac186ccb",
   "metadata": {},
   "source": [
    "|SQL|NoSQL|\n",
    "|-------|---------|\n",
    "|Data storage in tabuler form|Data storage in document/JSON form|\n",
    "|Vertical Scaling(top to bottom) |Horizontal Scaling (left to right)|\n",
    "|Use for General purpose|Use in key-value pair|\n",
    "|Schemas Fixed|Schemas Flexible|"
   ]
  },
  {
   "cell_type": "code",
   "execution_count": null,
   "id": "c781b4e9",
   "metadata": {},
   "outputs": [],
   "source": []
  },
  {
   "cell_type": "markdown",
   "id": "c4e831d0",
   "metadata": {},
   "source": [
    "#### Q2. What is DDL? Explain why CREATE, DROP, ALTER, and TRUNCATE are used with an example.\n"
   ]
  },
  {
   "cell_type": "markdown",
   "id": "392536c7",
   "metadata": {},
   "source": [
    "Ans :     \n",
    "DDL (Data Defination Language) : actually consists of the SQL commands that can be used to define the database schema. "
   ]
  },
  {
   "cell_type": "markdown",
   "id": "6f4a10e6",
   "metadata": {},
   "source": [
    "**CREATE** : It is used to create a new table in MySql database"
   ]
  },
  {
   "cell_type": "code",
   "execution_count": 4,
   "id": "9fe070a7",
   "metadata": {},
   "outputs": [
    {
     "name": "stdout",
     "output_type": "stream",
     "text": [
      "Done\n"
     ]
    }
   ],
   "source": [
    "import mysql.connector\n",
    "mydb = mysql.connector.connect(\n",
    "  host=\"localhost\",\n",
    "  user=\"root\",\n",
    "  password=\"root\"\n",
    ")\n",
    "mycursor = mydb.cursor()\n",
    "mycursor.execute(\"CREATE TABLE test_table (ID INT, name VARCHAR, addr VARCHAR(300) )\")\n",
    "print('Done')"
   ]
  },
  {
   "cell_type": "markdown",
   "id": "23b7dabe",
   "metadata": {},
   "source": [
    "**DROP** : It is used to delete table or row from a table"
   ]
  },
  {
   "cell_type": "code",
   "execution_count": 5,
   "id": "fb59728e",
   "metadata": {},
   "outputs": [
    {
     "name": "stdout",
     "output_type": "stream",
     "text": [
      "Done\n"
     ]
    }
   ],
   "source": [
    "import mysql.connector\n",
    "mydb = mysql.connector.connect(\n",
    "  host=\"localhost\",\n",
    "  user=\"root\",\n",
    "  password=\"root\"\n",
    ")\n",
    "mycursor = mydb.cursor()\n",
    "mycursor.execute(\"DROP TABLE test_table\")\n",
    "print('Done')"
   ]
  },
  {
   "cell_type": "markdown",
   "id": "415e51c8",
   "metadata": {},
   "source": [
    "**ALTER** : It is used to rename table or update row "
   ]
  },
  {
   "cell_type": "code",
   "execution_count": 6,
   "id": "a5825022",
   "metadata": {},
   "outputs": [
    {
     "name": "stdout",
     "output_type": "stream",
     "text": [
      "Done\n"
     ]
    }
   ],
   "source": [
    "import mysql.connector\n",
    "mydb = mysql.connector.connect(\n",
    "  host=\"localhost\",\n",
    "  user=\"root\",\n",
    "  password=\"root\"\n",
    ")\n",
    "mycursor = mydb.cursor()\n",
    "mycursor.execute(\"ALTER TABLE test_teable RENAME TO finaly_table\")\n",
    "print('Done')"
   ]
  },
  {
   "cell_type": "markdown",
   "id": "8b74c478",
   "metadata": {},
   "source": [
    "**TRUNCATE** : It is used to remove/delete all data from a table without using WHERE clause."
   ]
  },
  {
   "cell_type": "code",
   "execution_count": 7,
   "id": "ab070d16",
   "metadata": {},
   "outputs": [
    {
     "name": "stdout",
     "output_type": "stream",
     "text": [
      "Done\n"
     ]
    }
   ],
   "source": [
    "import mysql.connector\n",
    "mydb = mysql.connector.connect(\n",
    "  host=\"localhost\",\n",
    "  user=\"root\",\n",
    "  password=\"root\"\n",
    ")\n",
    "mycursor = mydb.cursor()\n",
    "mycursor.execute(\"TRUNCATE TABLE test_db.finaly_table\")\n",
    "print('Done')"
   ]
  },
  {
   "cell_type": "markdown",
   "id": "48fcba7b",
   "metadata": {},
   "source": [
    "#### Q3. What is DML? Explain INSERT, UPDATE, and DELETE with an example.\n"
   ]
  },
  {
   "cell_type": "markdown",
   "id": "1e9b24f9",
   "metadata": {},
   "source": [
    "Ans :       \n",
    "DML (Data Manuplation Language) : A list of MySql commands, that deal with the manuplation of data persent in database."
   ]
  },
  {
   "cell_type": "markdown",
   "id": "5c631abf",
   "metadata": {},
   "source": [
    "**INSERT** : It is used to add new record in table."
   ]
  },
  {
   "cell_type": "code",
   "execution_count": null,
   "id": "0c56c500",
   "metadata": {},
   "outputs": [],
   "source": [
    "import mysql.connector\n",
    "mydb = mysql.connector.connect(\n",
    "  host=\"localhost\",\n",
    "  user=\"root\",\n",
    "  password=\"root\"\n",
    ")\n",
    "mycursor = mydb.cursor()\n",
    "mycursor.execute(\"INSERT INTO finaly_table VALUES(1, 'Nazer', 'Patna')\")\n",
    "print('Done')"
   ]
  },
  {
   "cell_type": "markdown",
   "id": "014d1a03",
   "metadata": {},
   "source": [
    "**UPDATE** : It is used to update data in existing table"
   ]
  },
  {
   "cell_type": "code",
   "execution_count": 8,
   "id": "09256845",
   "metadata": {},
   "outputs": [
    {
     "name": "stdout",
     "output_type": "stream",
     "text": [
      "Done\n"
     ]
    }
   ],
   "source": [
    "import mysql.connector\n",
    "mydb = mysql.connector.connect(\n",
    "  host=\"localhost\",\n",
    "  user=\"root\",\n",
    "  password=\"root\"\n",
    ")\n",
    "mycursor = mydb.cursor()\n",
    "mycursor.execute(\"UPDATE TABLE finaly_table SET name='Imran' WHERE name='Nazer'\")\n",
    "print('Done')"
   ]
  },
  {
   "cell_type": "markdown",
   "id": "30752c3b",
   "metadata": {},
   "source": [
    "**DELETE** : It used to delete/remove data from a table. whole data will remove without using WHERE clause."
   ]
  },
  {
   "cell_type": "code",
   "execution_count": null,
   "id": "55baad33",
   "metadata": {},
   "outputs": [],
   "source": [
    "import mysql.connector\n",
    "mydb = mysql.connector.connect(\n",
    "  host=\"localhost\",\n",
    "  user=\"root\",\n",
    "  password=\"root\"\n",
    ")\n",
    "mycursor = mydb.cursor()\n",
    "mycursor.execute(\"DELETE TABLE finaly_table WHERE id>10\")"
   ]
  },
  {
   "cell_type": "code",
   "execution_count": null,
   "id": "7f909b11",
   "metadata": {},
   "outputs": [],
   "source": []
  },
  {
   "cell_type": "markdown",
   "id": "10dfd0ad",
   "metadata": {},
   "source": [
    "#### Q4. What is DQL? Explain SELECT with an example.\n"
   ]
  },
  {
   "cell_type": "markdown",
   "id": "484304a5",
   "metadata": {},
   "source": [
    "Ans :   \n",
    "DQL (Data Query Language) : It is used for performing queries on the data within schema objects. "
   ]
  },
  {
   "cell_type": "markdown",
   "id": "2d8526de",
   "metadata": {},
   "source": [
    "**SELECT**: It is used to select data from existing table"
   ]
  },
  {
   "cell_type": "code",
   "execution_count": null,
   "id": "ddb09669",
   "metadata": {},
   "outputs": [],
   "source": [
    "import mysql.connector\n",
    "mydb = mysql.connector.connect(\n",
    "  host=\"localhost\",\n",
    "  user=\"root\",\n",
    "  password=\"root\"\n",
    ")\n",
    "mycursor = mydb.cursor()\n",
    "mycursor.execute(\"SELECT * FROM test_db.test_table\")"
   ]
  },
  {
   "cell_type": "markdown",
   "id": "99033ca2",
   "metadata": {},
   "source": [
    "#### Q5. Explain Primary Key and Foreign Key.\n"
   ]
  },
  {
   "cell_type": "markdown",
   "id": "09c40578",
   "metadata": {},
   "source": [
    "Ans : "
   ]
  },
  {
   "cell_type": "markdown",
   "id": "85d4ba53",
   "metadata": {},
   "source": [
    "**Primary Key** : The PRIMARY KEY constraint uniquely identifies each record/row in a table."
   ]
  },
  {
   "cell_type": "code",
   "execution_count": null,
   "id": "c6b0ccae",
   "metadata": {},
   "outputs": [],
   "source": [
    "import mysql.connector\n",
    "mydb = mysql.connector.connect(\n",
    "  host=\"localhost\",\n",
    "  user=\"root\",\n",
    "  password=\"root\"\n",
    ")\n",
    "mycursor = mydb.cursor()\n",
    "mycursor.execute(\"CREATE TABLE Customer(id int PRIMARY, name VARCHAR, mobile INT)\")"
   ]
  },
  {
   "cell_type": "markdown",
   "id": "6203fcac",
   "metadata": {},
   "source": [
    "**FOREIGEN KEY** : A FOREIGEN KEY in one table points to a PRIMARY KEY in other table."
   ]
  },
  {
   "cell_type": "code",
   "execution_count": null,
   "id": "958a1266",
   "metadata": {},
   "outputs": [],
   "source": [
    "import mysql.connector\n",
    "mydb = mysql.connector.connect(\n",
    "  host=\"localhost\",\n",
    "  user=\"root\",\n",
    "  password=\"root\"\n",
    ")\n",
    "mycursor = mydb.cursor()\n",
    "mycursor.execute(\"CREATE TABLE Orders (OrderNo int PRIMARY KEY, name VARCHAR, FOREIGN KEY(OrderNo)  REFERENCES finaly_table(id) )\")"
   ]
  },
  {
   "cell_type": "markdown",
   "id": "9c6a9074",
   "metadata": {},
   "source": [
    "#### Q6. Write a python code to connect MySQL to python. Explain the cursor() and execute() method.\n"
   ]
  },
  {
   "cell_type": "code",
   "execution_count": null,
   "id": "19741ad9",
   "metadata": {},
   "outputs": [],
   "source": [
    "import mysql.connector\n",
    "mydb = mysql.connector.connect(\n",
    "  host=\"localhost\",\n",
    "  user=\"root\",\n",
    "  password=\"root\"\n",
    ")\n",
    "if mydb.is_connected():\n",
    "    print('Connection Success')\n",
    "else:\n",
    "    print('Connection failed')\n",
    "mycursor = mydb.cursor()"
   ]
  },
  {
   "cell_type": "markdown",
   "id": "9642d0fd",
   "metadata": {},
   "source": [
    "**cursor()** : cursor() method creates a cursor/pointer object which is used to interact with a MySQL database."
   ]
  },
  {
   "cell_type": "markdown",
   "id": "27788a43",
   "metadata": {},
   "source": [
    "**execute()** : It is used to execute a SQL query on a MySQL database using a cursor object in Python."
   ]
  },
  {
   "cell_type": "markdown",
   "id": "eb6d56b9",
   "metadata": {},
   "source": [
    "#### Q7. Give the order of execution of SQL clauses in an SQL query."
   ]
  },
  {
   "cell_type": "markdown",
   "id": "e1bd8fd9",
   "metadata": {},
   "source": [
    "Ans : \n",
    "- Order of execution of SQL clauses\n",
    " 1. FROM\n",
    " 2. JOIN\n",
    " 3. WHERE\n",
    " 4. GROUP BY\n",
    " 5. HAVING\n",
    " 6. SELECT\n",
    " 7. DISTINCT\n",
    " 8. ORDER BY\n",
    " 9. LIMIT\n"
   ]
  },
  {
   "cell_type": "code",
   "execution_count": null,
   "id": "5e27d4f0",
   "metadata": {},
   "outputs": [],
   "source": []
  },
  {
   "cell_type": "code",
   "execution_count": null,
   "id": "0e0a2102",
   "metadata": {},
   "outputs": [],
   "source": []
  },
  {
   "cell_type": "code",
   "execution_count": null,
   "id": "99215769",
   "metadata": {},
   "outputs": [],
   "source": []
  },
  {
   "cell_type": "code",
   "execution_count": null,
   "id": "359a2aa1",
   "metadata": {},
   "outputs": [],
   "source": []
  }
 ],
 "metadata": {
  "kernelspec": {
   "display_name": "Python 3 (ipykernel)",
   "language": "python",
   "name": "python3"
  },
  "language_info": {
   "codemirror_mode": {
    "name": "ipython",
    "version": 3
   },
   "file_extension": ".py",
   "mimetype": "text/x-python",
   "name": "python",
   "nbconvert_exporter": "python",
   "pygments_lexer": "ipython3",
   "version": "3.7.1"
  }
 },
 "nbformat": 4,
 "nbformat_minor": 5
}
