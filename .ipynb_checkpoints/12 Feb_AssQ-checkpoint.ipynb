{
 "cells": [
  {
   "cell_type": "markdown",
   "id": "92830299",
   "metadata": {},
   "source": [
    "#### Q1. What is an Exception in python? Write the difference between Exceptions and Syntax errors."
   ]
  },
  {
   "cell_type": "markdown",
   "id": "bb5e4272",
   "metadata": {},
   "source": [
    "Ans : \n",
    "- Exceptions: Exceptions are raised when the program is syntactically correct, but the code resulted in an error. \n",
    "- Syntax Error : As the name suggests this error is caused by the wrong syntax in the code. It leads to the termination/block of the program."
   ]
  },
  {
   "cell_type": "code",
   "execution_count": null,
   "id": "fc24f1d2",
   "metadata": {},
   "outputs": [],
   "source": []
  },
  {
   "cell_type": "code",
   "execution_count": null,
   "id": "533d8667",
   "metadata": {},
   "outputs": [],
   "source": []
  },
  {
   "cell_type": "markdown",
   "id": "c686e686",
   "metadata": {},
   "source": [
    "#### Q2. What happens when an exception is not handled? Explain with an example.\n"
   ]
  },
  {
   "cell_type": "markdown",
   "id": "2ff42733",
   "metadata": {},
   "source": [
    "Ans : Stop code to execute."
   ]
  },
  {
   "cell_type": "code",
   "execution_count": 1,
   "id": "978b5280",
   "metadata": {},
   "outputs": [
    {
     "ename": "ZeroDivisionError",
     "evalue": "division by zero",
     "output_type": "error",
     "traceback": [
      "\u001b[1;31m---------------------------------------------------------------------------\u001b[0m",
      "\u001b[1;31mZeroDivisionError\u001b[0m                         Traceback (most recent call last)",
      "\u001b[1;32m~\\AppData\\Local\\Temp\\ipykernel_75064\\640508949.py\u001b[0m in \u001b[0;36m<module>\u001b[1;34m\u001b[0m\n\u001b[0;32m      1\u001b[0m \u001b[1;31m# without exception handling\u001b[0m\u001b[1;33m\u001b[0m\u001b[1;33m\u001b[0m\u001b[1;33m\u001b[0m\u001b[0m\n\u001b[0;32m      2\u001b[0m \u001b[0mnum\u001b[0m \u001b[1;33m=\u001b[0m \u001b[1;36m20\u001b[0m\u001b[1;33m\u001b[0m\u001b[1;33m\u001b[0m\u001b[0m\n\u001b[1;32m----> 3\u001b[1;33m \u001b[0mnum2\u001b[0m \u001b[1;33m=\u001b[0m \u001b[0mnum\u001b[0m\u001b[1;33m/\u001b[0m\u001b[1;36m0\u001b[0m\u001b[1;33m\u001b[0m\u001b[1;33m\u001b[0m\u001b[0m\n\u001b[0m\u001b[0;32m      4\u001b[0m \u001b[0mprint\u001b[0m\u001b[1;33m(\u001b[0m\u001b[0mnum2\u001b[0m\u001b[1;33m)\u001b[0m\u001b[1;33m\u001b[0m\u001b[1;33m\u001b[0m\u001b[0m\n",
      "\u001b[1;31mZeroDivisionError\u001b[0m: division by zero"
     ]
    }
   ],
   "source": [
    "# without exception handling\n",
    "num = 20\n",
    "num2 = num/0\n",
    "print(num2)"
   ]
  },
  {
   "cell_type": "code",
   "execution_count": 2,
   "id": "1040ce54",
   "metadata": {},
   "outputs": [
    {
     "name": "stdout",
     "output_type": "stream",
     "text": [
      "Error type is : division by zero\n"
     ]
    }
   ],
   "source": [
    "# with exception handling\n",
    "try:\n",
    "    num = 20\n",
    "    num1 = num/0\n",
    "    print(num1)\n",
    "except ZeroDivisionError as e:\n",
    "    print(f'Error type is : {e}')"
   ]
  },
  {
   "cell_type": "markdown",
   "id": "cc6b2ddb",
   "metadata": {},
   "source": [
    "#### Q3. Which Python statements are used to catch and handle exceptions? Explain with an example.\n",
    "\n"
   ]
  },
  {
   "cell_type": "code",
   "execution_count": null,
   "id": "c2fb0d37",
   "metadata": {},
   "outputs": [],
   "source": [
    "try:\n",
    "    statement(s)\n",
    "except ErrorType as e:\n",
    "    statement(s)\n",
    "else:\n",
    "    statement(s)\n",
    "finally:\n",
    "    statement(s)"
   ]
  },
  {
   "cell_type": "code",
   "execution_count": 3,
   "id": "e52c3685",
   "metadata": {},
   "outputs": [
    {
     "name": "stdout",
     "output_type": "stream",
     "text": [
      "Error type is : not writable\n",
      "This is finally block\n"
     ]
    }
   ],
   "source": [
    "try:\n",
    "    with open('test1.txt','r') as file:\n",
    "        file.write(\"This file open in read mode\")\n",
    "except Exception as e:\n",
    "    print(f\"Error type is : {e}\")\n",
    "else:\n",
    "    print(\"This is else block run with try block\")\n",
    "finally:\n",
    "    print('This is finally block')"
   ]
  },
  {
   "cell_type": "markdown",
   "id": "bade9230",
   "metadata": {},
   "source": [
    "#### Q4. Explain with an example:"
   ]
  },
  {
   "cell_type": "markdown",
   "id": "59f7d284",
   "metadata": {},
   "source": [
    "Ans : \n",
    "- a. **try and else :** eles execute after try execution, without try block, else block does not execute\n",
    "- b. **finally :** finally block execute in every time,\n",
    "- c. **raise :** raise is a keyword that is used to raise an exception manually by using Exception or any error class. "
   ]
  },
  {
   "cell_type": "code",
   "execution_count": 4,
   "id": "b5cc088d",
   "metadata": {},
   "outputs": [
    {
     "name": "stdout",
     "output_type": "stream",
     "text": [
      "can only concatenate list (not \"tuple\") to list\n"
     ]
    }
   ],
   "source": [
    "try:\n",
    "    print([2,5,6,8]+(4,5.6))\n",
    "except TypeError as e:\n",
    "    print(e)\n",
    "else:\n",
    "    print('This will execute with try block')"
   ]
  },
  {
   "cell_type": "code",
   "execution_count": 5,
   "id": "945a20d7",
   "metadata": {},
   "outputs": [
    {
     "name": "stdout",
     "output_type": "stream",
     "text": [
      "unsupported operand type(s) for +: 'int' and 'str'\n",
      "This is finally block\n"
     ]
    }
   ],
   "source": [
    "try:\n",
    "    print(90+'hello')\n",
    "except TypeError as e:\n",
    "    print(e)\n",
    "finally:\n",
    "    print(\"This is finally block\")"
   ]
  },
  {
   "cell_type": "code",
   "execution_count": 6,
   "id": "3017a2d0",
   "metadata": {},
   "outputs": [
    {
     "name": "stdout",
     "output_type": "stream",
     "text": [
      "Enter your age : -8\n",
      "Age must be grater than 0\n"
     ]
    }
   ],
   "source": [
    "#raise example\n",
    "class getError(Exception):\n",
    "    pass\n",
    "try:\n",
    "    age = int(input(\"Enter your age : \"))\n",
    "    if age<0:\n",
    "        raise getError('Age must be grater than 0')\n",
    "except getError as e:\n",
    "    print(e)"
   ]
  },
  {
   "cell_type": "code",
   "execution_count": 7,
   "id": "7e83b09a",
   "metadata": {},
   "outputs": [
    {
     "name": "stdout",
     "output_type": "stream",
     "text": [
      "division by zero\n"
     ]
    }
   ],
   "source": [
    "try:\n",
    "    num = 10/0\n",
    "except Exception as e:\n",
    "    print(e)"
   ]
  },
  {
   "cell_type": "markdown",
   "id": "6e322406",
   "metadata": {},
   "source": [
    "#### Q5. What are Custom Exceptions in python? Why do we need Custom Exceptions? Explain with an example."
   ]
  },
  {
   "cell_type": "markdown",
   "id": "56d704dc",
   "metadata": {},
   "source": [
    "Ans:  \n",
    "- Python provide some classes to handle error manually or by user define, It is called custom exception.       \n",
    "- In Python, we can define custom exceptions by creating a new class that is derived from the built-in Exception class."
   ]
  },
  {
   "cell_type": "markdown",
   "id": "89e1f32b",
   "metadata": {},
   "source": [
    "- When we are writing a large number of code in Python, it is a good practice to place all the user-defined exceptions that our program raises in a separate file.\n",
    "- Many standard modules define their exceptions separately as exceptions.py or errors.py.\n",
    "- When as exeception occurs, the program terminates suddenly.\n",
    "- Suddenly termination of program may corrupt the program\n",
    "- Execption may cause data loss form the database or a file.\n"
   ]
  },
  {
   "cell_type": "code",
   "execution_count": null,
   "id": "7da630cd",
   "metadata": {},
   "outputs": [],
   "source": [
    "class CustomError(Exception):\n",
    "    statement(.........)\n",
    "try:\n",
    "   statemtn(...........)\n",
    "except CustomError:\n",
    "    statement(.........)"
   ]
  },
  {
   "cell_type": "code",
   "execution_count": 8,
   "id": "62deb3c2",
   "metadata": {},
   "outputs": [
    {
     "name": "stdout",
     "output_type": "stream",
     "text": [
      "Enter your amount : 600\n",
      "You are not eligible to withdraw this amount.\n"
     ]
    }
   ],
   "source": [
    "import logging\n",
    "logging.basicConfig(filename = 'test1.log', level = logging.DEBUG)\n",
    "\n",
    "class bankbalanceError(Exception):\n",
    "    \"\"\" my custom exception class \"\"\"\n",
    "try:\n",
    "    balance = 2300\n",
    "    withdraw = int(input(\"Enter your amount : \"))\n",
    "    if balance - withdraw <= 2000:\n",
    "        raise bankbalanceError('You are not eligible to withdraw this amount.')\n",
    "    else:\n",
    "        logging.info(balance - withdraw)\n",
    "except bankbalanceError as e:\n",
    "    print(e)"
   ]
  },
  {
   "cell_type": "markdown",
   "id": "0b6f7e2c",
   "metadata": {},
   "source": [
    "#### Q6. Create a custom exception class. Use this class to handle an exception."
   ]
  },
  {
   "cell_type": "code",
   "execution_count": 9,
   "id": "052ac445",
   "metadata": {},
   "outputs": [
    {
     "name": "stdout",
     "output_type": "stream",
     "text": [
      "Enter a your age : 19\n"
     ]
    }
   ],
   "source": [
    "import logging\n",
    "logging.basicConfig(filename = 'test2.log', level = logging.DEBUG)\n",
    "\n",
    "class InvalidAge(Exception):\n",
    "    \"Raised when the input value is less than 18\"\n",
    "    pass\n",
    "\n",
    "\n",
    "age = 18\n",
    "try:\n",
    "    input_age = int(input(\"Enter a your age : \"))\n",
    "    if input_age < age:\n",
    "        raise InvalidAge\n",
    "    else:\n",
    "        logging.info(\"Eligible to Vote\")\n",
    "        \n",
    "except InvalidAge:\n",
    "    logging.warning(\"Exception occurred: Invalid Age\")"
   ]
  },
  {
   "cell_type": "code",
   "execution_count": null,
   "id": "f2112137",
   "metadata": {},
   "outputs": [],
   "source": []
  }
 ],
 "metadata": {
  "kernelspec": {
   "display_name": "Python 3 (ipykernel)",
   "language": "python",
   "name": "python3"
  },
  "language_info": {
   "codemirror_mode": {
    "name": "ipython",
    "version": 3
   },
   "file_extension": ".py",
   "mimetype": "text/x-python",
   "name": "python",
   "nbconvert_exporter": "python",
   "pygments_lexer": "ipython3",
   "version": "3.7.1"
  }
 },
 "nbformat": 4,
 "nbformat_minor": 5
}
